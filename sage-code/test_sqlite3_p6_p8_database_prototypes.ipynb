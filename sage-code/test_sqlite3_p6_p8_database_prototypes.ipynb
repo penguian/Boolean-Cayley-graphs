{
 "cells": [
  {
   "cell_type": "code",
   "execution_count": 1,
   "metadata": {},
   "outputs": [],
   "source": [
    "import datetime\n",
    "import os\n",
    "import sqlite3\n",
    "\n",
    "from boolean_cayley_graphs.bent_function import BentFunction\n",
    "from boolean_cayley_graphs.classification_database_sqlite3 import *\n",
    "from boolean_cayley_graphs.bent_function_cayley_graph_classification import BentFunctionCayleyGraphClassification"
   ]
  },
  {
   "cell_type": "code",
   "execution_count": 2,
   "metadata": {},
   "outputs": [],
   "source": [
    "db_dirname=os.path.join(\"..\",\"db\")\n",
    "sobj_dirname=os.path.join(\"..\",\"sobj\")"
   ]
  },
  {
   "cell_type": "code",
   "execution_count": 3,
   "metadata": {},
   "outputs": [],
   "source": [
    "rm -f test_p6.db"
   ]
  },
  {
   "cell_type": "code",
   "execution_count": 4,
   "metadata": {},
   "outputs": [],
   "source": [
    "conn = create_database(\"test_p6.db\")\n",
    "conn = create_classification_tables(\"test_p6.db\")"
   ]
  },
  {
   "cell_type": "code",
   "execution_count": 5,
   "metadata": {},
   "outputs": [
    {
     "name": "stdout",
     "output_type": "stream",
     "text": [
      "2023-01-18 00:09:44.738566 1\n",
      "2023-01-18 00:09:47.971304 2\n",
      "2023-01-18 00:09:50.392083 3\n",
      "2023-01-18 00:09:50.798809 4\n"
     ]
    }
   ],
   "source": [
    "for i in range(1,5):\n",
    "    print(datetime.datetime.now(), i)\n",
    "    name = \"p6_\"+str(i)\n",
    "    cgc = BentFunctionCayleyGraphClassification.load_mangled(name + \".sobj\", dir=sobj_dirname)\n",
    "    insert_classification(conn, cgc, name)"
   ]
  },
  {
   "cell_type": "code",
   "execution_count": 6,
   "metadata": {},
   "outputs": [
    {
     "name": "stdout",
     "output_type": "stream",
     "text": [
      "Algebraic normal form of Boolean function: x0*x1*x2 + x0*x3 + x1*x3*x4 + x1*x5 + x2*x3*x5 + x2*x3 + x2*x4 + x2*x5 + x3*x4 + x3*x5\n",
      "Function is bent.\n",
      "\n",
      "\n",
      "SDP design incidence structure t-design parameters: (True, (2, 64, 28, 12))\n",
      "\n",
      "Classification of Cayley graphs and classification of Cayley graphs of duals are the same:\n",
      "\n",
      "There are 3 extended Cayley classes in the extended translation class.\n"
     ]
    }
   ],
   "source": [
    "cgc.report()"
   ]
  },
  {
   "cell_type": "code",
   "execution_count": 7,
   "metadata": {},
   "outputs": [
    {
     "name": "stdout",
     "output_type": "stream",
     "text": [
      "Algebraic normal form of Boolean function: x0*x1*x2 + x0*x3 + x1*x3*x4 + x1*x5 + x2*x3*x5 + x2*x3 + x2*x4 + x2*x5 + x3*x4 + x3*x5\n",
      "Function is bent.\n",
      "\n",
      "\n",
      "SDP design incidence structure t-design parameters: (True, (2, 64, 28, 12))\n",
      "\n",
      "Classification of Cayley graphs and classification of Cayley graphs of duals are the same:\n",
      "\n",
      "There are 3 extended Cayley classes in the extended translation class.\n"
     ]
    }
   ],
   "source": [
    "bentf = BentFunction(cgc.algebraic_normal_form)\n",
    "c = select_classification_where_bent_function(conn, bentf)\n",
    "c.report()"
   ]
  },
  {
   "cell_type": "code",
   "execution_count": 8,
   "metadata": {},
   "outputs": [
    {
     "name": "stdout",
     "output_type": "stream",
     "text": [
      "Algebraic normal form of Boolean function: x0*x1 + x2*x3 + x4*x5\n",
      "Function is bent.\n",
      "\n",
      "\n",
      "SDP design incidence structure t-design parameters: (True, (2, 64, 28, 12))\n",
      "\n",
      "Classification of Cayley graphs and classification of Cayley graphs of duals are the same:\n",
      "\n",
      "There are 2 extended Cayley classes in the extended translation class.\n"
     ]
    }
   ],
   "source": [
    "c = select_classification_where_name(conn, \"p6_1\")\n",
    "c.report()"
   ]
  },
  {
   "cell_type": "code",
   "execution_count": 9,
   "metadata": {},
   "outputs": [
    {
     "name": "stdout",
     "output_type": "stream",
     "text": [
      "2023-01-18 00:09:52.012755 before\n",
      "2023-01-18 00:09:52.014381 after\n",
      "12\n"
     ]
    }
   ],
   "source": [
    "curs = conn.cursor()\n",
    "print(datetime.datetime.now(), \"before\")\n",
    "curs.execute(\"SELECT COUNT(ROWID) FROM cayley_graph\")\n",
    "print(datetime.datetime.now(), \"after\")\n",
    "for row in curs:\n",
    "    for x in row:\n",
    "        print(x)"
   ]
  },
  {
   "cell_type": "code",
   "execution_count": 10,
   "metadata": {},
   "outputs": [
    {
     "name": "stdout",
     "output_type": "stream",
     "text": [
      "2023-01-18 00:09:52.250714 before\n",
      "2023-01-18 00:09:52.252170 after\n"
     ]
    }
   ],
   "source": [
    "curs = conn.cursor()\n",
    "print(datetime.datetime.now(), \"before\")\n",
    "curs.execute(\"SELECT * FROM graph\")\n",
    "print(datetime.datetime.now(), \"after\")"
   ]
  },
  {
   "cell_type": "code",
   "execution_count": 11,
   "metadata": {},
   "outputs": [
    {
     "name": "stdout",
     "output_type": "stream",
     "text": [
      "2023-01-18 00:09:52.514735 before\n",
      "2023-01-18 00:09:52.516550 after\n",
      "11\n"
     ]
    }
   ],
   "source": [
    "print(datetime.datetime.now(), \"before\")\n",
    "curs.execute(\"SELECT COUNT(ROWID) FROM graph\")\n",
    "print(datetime.datetime.now(), \"after\")\n",
    "for row in curs:\n",
    "    for x in row:\n",
    "        print(x)"
   ]
  },
  {
   "cell_type": "code",
   "execution_count": 12,
   "metadata": {},
   "outputs": [],
   "source": [
    "conn.close()"
   ]
  },
  {
   "cell_type": "code",
   "execution_count": 13,
   "metadata": {},
   "outputs": [],
   "source": [
    "rm -f test_p8.db"
   ]
  },
  {
   "cell_type": "code",
   "execution_count": 14,
   "metadata": {},
   "outputs": [],
   "source": [
    "conn = create_database(\"test_p8.db\")\n",
    "conn = create_classification_tables(\"test_p8.db\")"
   ]
  },
  {
   "cell_type": "code",
   "execution_count": 15,
   "metadata": {},
   "outputs": [
    {
     "name": "stdout",
     "output_type": "stream",
     "text": [
      "2023-01-18 00:09:56.874949 1\n",
      "2023-01-18 00:10:12.527393 2\n",
      "2023-01-18 00:10:21.122624 3\n",
      "2023-01-18 00:10:28.028806 4\n",
      "2023-01-18 00:10:33.545277 5\n",
      "2023-01-18 00:10:36.488421 6\n",
      "2023-01-18 00:10:38.124097 7\n",
      "2023-01-18 00:10:39.397405 8\n",
      "2023-01-18 00:10:40.682930 9\n",
      "2023-01-18 00:10:42.339054 10\n",
      "2023-01-18 00:10:43.627746\n"
     ]
    }
   ],
   "source": [
    "for i in range(1,11):\n",
    "    name = \"p8_\"+str(i)\n",
    "    cgc = BentFunctionCayleyGraphClassification.load_mangled(name + \".sobj\", dir=sobj_dirname)\n",
    "    print(datetime.datetime.now(), i)\n",
    "    insert_classification(conn, cgc, name)\n",
    "print(datetime.datetime.now())"
   ]
  },
  {
   "cell_type": "code",
   "execution_count": 16,
   "metadata": {},
   "outputs": [
    {
     "name": "stdout",
     "output_type": "stream",
     "text": [
      "Algebraic normal form of Boolean function: x0*x1*x2 + x0*x6 + x1*x3*x4 + x1*x4 + x1*x5 + x2*x3*x5 + x2*x4 + x3*x7\n",
      "Function is bent.\n",
      "\n",
      "\n",
      "SDP design incidence structure t-design parameters: (True, (2, 256, 120, 56))\n",
      "\n",
      "Classification of Cayley graphs and classification of Cayley graphs of duals are the same:\n",
      "\n",
      "There are 9 extended Cayley classes in the extended translation class.\n"
     ]
    }
   ],
   "source": [
    "c8_5 = select_classification_where_name(conn, \"p8_5\")\n",
    "c8_5.report()"
   ]
  },
  {
   "cell_type": "code",
   "execution_count": 17,
   "metadata": {},
   "outputs": [
    {
     "name": "stdout",
     "output_type": "stream",
     "text": [
      "Algebraic normal form of Boolean function: x0*x1*x2 + x0*x6 + x1*x3*x4 + x1*x4 + x1*x5 + x2*x3*x5 + x2*x4 + x3*x7\n",
      "Function is bent.\n",
      "\n",
      "\n",
      "SDP design incidence structure t-design parameters: (True, (2, 256, 120, 56))\n",
      "\n",
      "Classification of Cayley graphs and classification of Cayley graphs of duals are the same:\n",
      "\n",
      "There are 9 extended Cayley classes in the extended translation class.\n"
     ]
    }
   ],
   "source": [
    "bentf = BentFunction(c8_5.algebraic_normal_form)\n",
    "\n",
    "c = select_classification_where_bent_function(conn, bentf)\n",
    "c.report()"
   ]
  },
  {
   "cell_type": "code",
   "execution_count": 18,
   "metadata": {},
   "outputs": [
    {
     "name": "stdout",
     "output_type": "stream",
     "text": [
      "Algebraic normal form of Boolean function: x0*x1*x2 + x0*x2 + x0*x3 + x1*x3*x4 + x1*x6 + x2*x3*x5 + x2*x4 + x5*x7\n",
      "Function is bent.\n",
      "\n",
      "\n",
      "SDP design incidence structure t-design parameters: (True, (2, 256, 120, 56))\n",
      "\n",
      "Classification of Cayley graphs and classification of Cayley graphs of duals are the same:\n",
      "\n",
      "There are 9 extended Cayley classes in the extended translation class.\n"
     ]
    }
   ],
   "source": [
    "c8_6 = select_classification_where_name(conn, \"p8_6\")\n",
    "c8_6.report()"
   ]
  },
  {
   "cell_type": "code",
   "execution_count": 19,
   "metadata": {},
   "outputs": [
    {
     "name": "stdout",
     "output_type": "stream",
     "text": [
      "2023-01-18 00:10:47.954266 before\n",
      "2023-01-18 00:10:47.955176 after\n",
      "66\n"
     ]
    }
   ],
   "source": [
    "curs = conn.cursor()\n",
    "print(datetime.datetime.now(), \"before\")\n",
    "curs.execute(\"SELECT COUNT(*) FROM cayley_graph\")\n",
    "print(datetime.datetime.now(), \"after\")\n",
    "for row in curs:\n",
    "    for x in row:\n",
    "        print(x)"
   ]
  },
  {
   "cell_type": "code",
   "execution_count": 20,
   "metadata": {},
   "outputs": [
    {
     "name": "stdout",
     "output_type": "stream",
     "text": [
      "2023-01-18 00:10:48.461690 before\n",
      "2023-01-18 00:10:48.463025 after\n",
      "66\n"
     ]
    }
   ],
   "source": [
    "curs = conn.cursor()\n",
    "print(datetime.datetime.now(), \"before\")\n",
    "curs.execute(\"SELECT COUNT(ROWID) FROM cayley_graph\")\n",
    "print(datetime.datetime.now(), \"after\")\n",
    "for row in curs:\n",
    "    for x in row:\n",
    "        print(x)"
   ]
  },
  {
   "cell_type": "code",
   "execution_count": 21,
   "metadata": {},
   "outputs": [
    {
     "name": "stdout",
     "output_type": "stream",
     "text": [
      "2023-01-18 00:10:48.694081 before\n",
      "2023-01-18 00:10:48.695756 after\n",
      "55\n"
     ]
    }
   ],
   "source": [
    "print(datetime.datetime.now(), \"before\")\n",
    "curs.execute(\"SELECT COUNT(ROWID) FROM graph\")\n",
    "print(datetime.datetime.now(), \"after\")\n",
    "for row in curs:\n",
    "    for x in row:\n",
    "        print(x)"
   ]
  },
  {
   "cell_type": "code",
   "execution_count": 22,
   "metadata": {},
   "outputs": [],
   "source": [
    "conn.close()"
   ]
  },
  {
   "cell_type": "code",
   "execution_count": 23,
   "metadata": {},
   "outputs": [],
   "source": [
    "conn = connect_to_database('test_p8.db')"
   ]
  },
  {
   "cell_type": "code",
   "execution_count": 24,
   "metadata": {},
   "outputs": [
    {
     "name": "stdout",
     "output_type": "stream",
     "text": [
      "2023-01-18 00:10:49.621418 before\n",
      "2023-01-18 00:10:51.116214 after\n",
      "p8_1 0 1 34816 \n",
      "p8_2 0 1 6144 \n",
      "p8_1 1 2 30720 \n",
      "p8_2 3 2 2048 \n",
      "p8_5 0 17 4096 \n",
      "p8_6 0 17 4096 \n",
      "p8_5 1 18 6144 \n",
      "p8_6 1 18 6144 \n",
      "p8_5 2 19 6144 \n",
      "p8_6 2 19 6144 \n",
      "p8_5 3 20 2048 \n",
      "p8_6 5 20 2048 \n",
      "p8_5 4 21 2048 \n",
      "p8_6 8 21 2048 \n",
      "p8_5 5 22 6144 \n",
      "p8_6 6 22 6144 \n",
      "p8_5 6 23 6144 \n",
      "p8_6 7 23 6144 \n",
      "p8_5 7 24 16384 \n",
      "p8_6 3 24 16384 \n",
      "p8_5 8 25 16384 \n",
      "p8_6 4 25 16384 \n"
     ]
    }
   ],
   "source": [
    "curs = conn.cursor()\n",
    "print(datetime.datetime.now(), \"before\")\n",
    "\n",
    "curs.execute(\"\"\"\n",
    "select name, cayley_graph_index, graph.rowid, count(*)\n",
    "from matrices, (\n",
    "    select name, bent_function, cayley_graph_index, canonical_label_hash\n",
    "    from (\n",
    "        select canonical_label_hash\n",
    "        from cayley_graph\n",
    "        group by canonical_label_hash\n",
    "        having count (canonical_label_hash) > 1) as repeats\n",
    "    natural join cayley_graph\n",
    "    natural join bent_function )\n",
    "as repeats_with_counts, graph\n",
    "where matrices.bent_function = repeats_with_counts.bent_function\n",
    "and matrices.bent_cayley_graph_index = repeats_with_counts.cayley_graph_index\n",
    "and graph.canonical_label_hash = repeats_with_counts.canonical_label_hash\n",
    "group by name, cayley_graph_index, graph.rowid\n",
    "order by graph.rowid, name, cayley_graph_index\n",
    "\"\"\")\n",
    "\n",
    "print(datetime.datetime.now(), \"after\")\n",
    "for row in curs:\n",
    "    for x in row:\n",
    "        print(x,end=\" \")\n",
    "    print(\"\")"
   ]
  },
  {
   "cell_type": "code",
   "execution_count": 25,
   "metadata": {},
   "outputs": [],
   "source": [
    "conn.close()"
   ]
  },
  {
   "cell_type": "code",
   "execution_count": null,
   "metadata": {},
   "outputs": [],
   "source": []
  }
 ],
 "metadata": {
  "kernelspec": {
   "display_name": "SageMath 9.5",
   "language": "sage",
   "name": "sagemath"
  },
  "language_info": {
   "codemirror_mode": {
    "name": "ipython",
    "version": 3
   },
   "file_extension": ".py",
   "mimetype": "text/x-python",
   "name": "python",
   "nbconvert_exporter": "python",
   "pygments_lexer": "ipython3",
   "version": "3.10.8"
  }
 },
 "nbformat": 4,
 "nbformat_minor": 2
}
