{
 "cells": [
  {
   "cell_type": "markdown",
   "metadata": {},
   "source": [
    "# Cayley graphs of binary bent functions of dimension 8 and degree up to 3."
   ]
  },
  {
   "cell_type": "code",
   "execution_count": 1,
   "metadata": {},
   "outputs": [],
   "source": [
    "load(\"boolean_dimension_cayley_graph_classifications.sage\")"
   ]
  },
  {
   "cell_type": "markdown",
   "metadata": {},
   "source": [
    "Import the controls module so that the time for the following operations can be shown. Enable the display of time."
   ]
  },
  {
   "cell_type": "code",
   "execution_count": 2,
   "metadata": {},
   "outputs": [],
   "source": [
    "import boolean_cayley_graphs.cayley_graph_controls as controls\n",
    "controls.timing = True"
   ]
  },
  {
   "cell_type": "markdown",
   "metadata": {},
   "source": [
    "Load all of the classifications for dimension 8, degree up to 3, based on `\"bent_function_extended_affine_representative_polynomials.sage\"`.\n",
    "Set `c` to be the list of these classifications, starting from 1. `c[0]` is `None`.\n",
    "\n",
    "The reason why the classifications are loaded here rather than just computed and saved is that each of these classifications takes about 24 hours to compute on an Intel Core i5 class PC."
   ]
  },
  {
   "cell_type": "code",
   "execution_count": 3,
   "metadata": {},
   "outputs": [],
   "source": [
    "c = load_boolean_dimension_cayley_graph_classifications(8,dir='../sobj')"
   ]
  },
  {
   "cell_type": "markdown",
   "metadata": {},
   "source": [
    "Display the length of c, the list of classifications."
   ]
  },
  {
   "cell_type": "code",
   "execution_count": 4,
   "metadata": {},
   "outputs": [
    {
     "data": {
      "text/plain": [
       "11"
      ]
     },
     "execution_count": 4,
     "metadata": {},
     "output_type": "execute_result"
    }
   ],
   "source": [
    "len(c)"
   ]
  },
  {
   "cell_type": "markdown",
   "metadata": {},
   "source": [
    "Verify that `c[0]` is `None`."
   ]
  },
  {
   "cell_type": "code",
   "execution_count": 5,
   "metadata": {},
   "outputs": [
    {
     "name": "stdout",
     "output_type": "stream",
     "text": [
      "None\n"
     ]
    }
   ],
   "source": [
    "print c[0]"
   ]
  },
  {
   "cell_type": "markdown",
   "metadata": {},
   "source": [
    "for k from 1 to the end of c:\n",
    " - Print k;\n",
    " - Print the algebraic normal form of the bent function corresponding to `c[k]`;\n",
    " - Produce a report on the classification `c[k]`;\n",
    " - Produce a matrix plot of the `weight_class_matrix`;\n",
    " - Produce a matrix plot of `bent_cayley_graph_index_matrix`, the matrix of indices of extended Cayley classes within the extended translation class;\n",
    " - Produce a matrix plot of `dual_cayley_graph_index_matrix`, the matrix of indices of extended Cayley classes of dual bent functions within the extended translation class."
   ]
  },
  {
   "cell_type": "code",
   "execution_count": 6,
   "metadata": {},
   "outputs": [
    {
     "name": "stdout",
     "output_type": "stream",
     "text": [
      "\n",
      "Classification 1\n",
      "\n",
      "x0*x1 + x2*x3 + x4*x5 + x6*x7\n",
      "Algebraic normal form of Boolean function: x0*x1 + x2*x3 + x4*x5 + x6*x7\n",
      "Function is bent.\n",
      "\n",
      "\n",
      "SDP design incidence structure t-design parameters: (True, (2, 256, 120, 56))\n",
      "\n",
      "Classification of Cayley graphs and classification of Cayley graphs of duals are the same:\n",
      "\n",
      "There are 2 extended Cayley classes in the extended translation class.\n",
      "\n",
      "Classification 2\n",
      "\n",
      "x0*x1*x2 + x0*x3 + x1*x4 + x2*x5 + x6*x7\n",
      "Algebraic normal form of Boolean function: x0*x1*x2 + x0*x3 + x1*x4 + x2*x5 + x6*x7\n",
      "Function is bent.\n",
      "\n",
      "\n",
      "SDP design incidence structure t-design parameters: (True, (2, 256, 120, 56))\n",
      "\n",
      "Classification of Cayley graphs and classification of Cayley graphs of duals are the same:\n",
      "\n",
      "There are 4 extended Cayley classes in the extended translation class.\n",
      "\n",
      "Classification 3\n",
      "\n",
      "x0*x1*x2 + x0*x6 + x1*x3*x4 + x1*x5 + x2*x3 + x4*x7\n",
      "Algebraic normal form of Boolean function: x0*x1*x2 + x0*x6 + x1*x3*x4 + x1*x5 + x2*x3 + x4*x7\n",
      "Function is bent.\n",
      "\n",
      "\n",
      "SDP design incidence structure t-design parameters: (True, (2, 256, 120, 56))\n",
      "\n",
      "Classification of Cayley graphs and classification of Cayley graphs of duals are the same:\n",
      "\n",
      "There are 6 extended Cayley classes in the extended translation class.\n",
      "\n",
      "Classification 4\n",
      "\n",
      "x0*x1*x2 + x0*x2 + x0*x4 + x1*x3*x4 + x1*x5 + x2*x3 + x6*x7\n",
      "Algebraic normal form of Boolean function: x0*x1*x2 + x0*x2 + x0*x4 + x1*x3*x4 + x1*x5 + x2*x3 + x6*x7\n",
      "Function is bent.\n",
      "\n",
      "\n",
      "SDP design incidence structure t-design parameters: (True, (2, 256, 120, 56))\n",
      "\n",
      "Classification of Cayley graphs and classification of Cayley graphs of duals are the same:\n",
      "\n",
      "There are 6 extended Cayley classes in the extended translation class.\n",
      "\n",
      "Classification 5\n",
      "\n",
      "x0*x1*x2 + x0*x6 + x1*x3*x4 + x1*x4 + x1*x5 + x2*x3*x5 + x2*x4 + x3*x7\n",
      "Algebraic normal form of Boolean function: x0*x1*x2 + x0*x6 + x1*x3*x4 + x1*x4 + x1*x5 + x2*x3*x5 + x2*x4 + x3*x7\n",
      "Function is bent.\n",
      "\n",
      "\n",
      "SDP design incidence structure t-design parameters: (True, (2, 256, 120, 56))\n",
      "\n",
      "Classification of Cayley graphs and classification of Cayley graphs of duals are the same:\n",
      "\n",
      "There are 9 extended Cayley classes in the extended translation class.\n",
      "\n",
      "Classification 6\n",
      "\n",
      "x0*x1*x2 + x0*x2 + x0*x3 + x1*x3*x4 + x1*x6 + x2*x3*x5 + x2*x4 + x5*x7\n",
      "Algebraic normal form of Boolean function: x0*x1*x2 + x0*x2 + x0*x3 + x1*x3*x4 + x1*x6 + x2*x3*x5 + x2*x4 + x5*x7\n",
      "Function is bent.\n",
      "\n",
      "\n",
      "SDP design incidence structure t-design parameters: (True, (2, 256, 120, 56))\n",
      "\n",
      "Classification of Cayley graphs and classification of Cayley graphs of duals are the same:\n",
      "\n",
      "There are 9 extended Cayley classes in the extended translation class.\n",
      "\n",
      "Classification 7\n",
      "\n",
      "x0*x1*x2 + x0*x1 + x0*x2 + x0*x3 + x1*x3*x4 + x1*x4 + x1*x5 + x2*x3*x5 + x2*x4 + x6*x7\n",
      "Algebraic normal form of Boolean function: x0*x1*x2 + x0*x1 + x0*x2 + x0*x3 + x1*x3*x4 + x1*x4 + x1*x5 + x2*x3*x5 + x2*x4 + x6*x7\n",
      "Function is bent.\n",
      "\n",
      "\n",
      "SDP design incidence structure t-design parameters: (True, (2, 256, 120, 56))\n",
      "\n",
      "Classification of Cayley graphs and classification of Cayley graphs of duals are the same:\n",
      "\n",
      "There are 6 extended Cayley classes in the extended translation class.\n",
      "\n",
      "Classification 8\n",
      "\n",
      "x0*x1*x2 + x0*x5 + x1*x3*x4 + x1*x6 + x2*x3*x5 + x2*x4 + x3*x7\n",
      "Algebraic normal form of Boolean function: x0*x1*x2 + x0*x5 + x1*x3*x4 + x1*x6 + x2*x3*x5 + x2*x4 + x3*x7\n",
      "Function is bent.\n",
      "\n",
      "\n",
      "SDP design incidence structure t-design parameters: (True, (2, 256, 120, 56))\n",
      "\n",
      "Classification of Cayley graphs and classification of Cayley graphs of duals are the same:\n",
      "\n",
      "There are 6 extended Cayley classes in the extended translation class.\n",
      "\n",
      "Classification 9\n",
      "\n",
      "x0*x1*x6 + x0*x3 + x1*x4 + x2*x3*x6 + x2*x5 + x3*x4 + x4*x5*x6 + x6*x7\n",
      "Algebraic normal form of Boolean function: x0*x1*x6 + x0*x3 + x1*x4 + x2*x3*x6 + x2*x5 + x3*x4 + x4*x5*x6 + x6*x7\n",
      "Function is bent.\n",
      "\n",
      "\n",
      "SDP design incidence structure t-design parameters: (True, (2, 256, 120, 56))\n",
      "\n",
      "Classification of Cayley graphs and classification of Cayley graphs of duals differ in matrices of indexes:\n",
      "\n",
      "There are 8 extended Cayley classes in the extended translation class.\n",
      "There are 8 extended Cayley classes of dual bent functions in the extended translation class,\n",
      "and 8 extended Cayley classes in the union of the two.\n",
      "\n",
      "Classification 10\n",
      "\n",
      "x0*x1*x2 + x0*x3*x6 + x0*x4 + x0*x5 + x1*x3*x4 + x1*x6 + x2*x3*x5 + x2*x4 + x3*x7\n",
      "Algebraic normal form of Boolean function: x0*x1*x2 + x0*x3*x6 + x0*x4 + x0*x5 + x1*x3*x4 + x1*x6 + x2*x3*x5 + x2*x4 + x3*x7\n",
      "Function is bent.\n",
      "\n",
      "\n",
      "SDP design incidence structure t-design parameters: (True, (2, 256, 120, 56))\n",
      "\n",
      "Classification of Cayley graphs and classification of Cayley graphs of duals differ in matrices of indexes:\n",
      "\n",
      "There are 10 extended Cayley classes in the extended translation class.\n",
      "There are 10 extended Cayley classes of dual bent functions in the extended translation class,\n",
      "and 10 extended Cayley classes in the union of the two.\n"
     ]
    }
   ],
   "source": [
    "#sage_server.MAX_OUTPUT_MESSAGES = 10000\n",
    "for k in range(1,len(c)):\n",
    "    print \"\"\n",
    "    print \"Classification\", k\n",
    "    print \"\"\n",
    "    print c[k].algebraic_normal_form\n",
    "    c[k].report()\n",
    "    matrix_plot(c[k].weight_class_matrix,cmap='gist_stern')\n",
    "    matrix_plot(c[k].bent_cayley_graph_index_matrix,cmap='gist_stern')\n",
    "    matrix_plot(c[k].dual_cayley_graph_index_matrix,cmap='gist_stern')"
   ]
  },
  {
   "cell_type": "markdown",
   "metadata": {},
   "source": [
    "Now produce a reclassification `r` by seeing which extended Cayley classes are repeated between extended translation classes."
   ]
  },
  {
   "cell_type": "code",
   "execution_count": 7,
   "metadata": {},
   "outputs": [],
   "source": [
    "r = BooleanDimensionCayleyGraphReclassification(c)"
   ]
  },
  {
   "cell_type": "markdown",
   "metadata": {},
   "source": [
    "Each entry in `reclassification_table` has as row 0, the \"global\" index of each extended Cayley class in the extended translation class.\n",
    "\n",
    "Row 1 contains the local index of each extended Cayley class in the extended translation class, as given by the corresponding bent functions.\n",
    "\n",
    "Row 2 contains the size of each extended Cayley class in the extended translation class, as given by the corresponding bent functions.\n",
    "\n",
    "Row 3 contains the local index of each extended Cayley class in the extended translation class, as given by the Walsh Hadamard dual of each of the corresponding bent functions.\n",
    "\n",
    "Row 4 contains the size of each extended Cayley class in the extended translation class, as given by the Walsh Hadamard dual of each of the corresponding bent functions."
   ]
  },
  {
   "cell_type": "markdown",
   "metadata": {},
   "source": [
    "We see that:\n",
    " - Extended Cayley class 0 occurs in both Extended Translation class 1 (34816 Cayley graphs) and Extended Translation class 2 (6144 Cayley graphs).\n",
    " - Extended Cayley class 1 occurs in both Extended Translation class 1 (30720 Cayley graphs) and Extended Translation class 2 (2048 Cayley graphs).\n",
    " - Extended Tranlation class 5 and Extended Translation class 6 have the same Extended Cayley classes (16 to 24) with the same number of members of each class."
   ]
  },
  {
   "cell_type": "code",
   "execution_count": 8,
   "metadata": {},
   "outputs": [
    {
     "name": "stdout",
     "output_type": "stream",
     "text": [
      "1\n",
      "[    0     1]\n",
      "[    0     1]\n",
      "[34816 30720]\n",
      "[    0     1]\n",
      "[34816 30720]\n",
      "2\n",
      "[    0     2     3     1]\n",
      "[    0     1     2     3]\n",
      "[ 6144 28672 28672  2048]\n",
      "[    0     1     2     3]\n",
      "[ 6144 28672 28672  2048]\n",
      "3\n",
      "[    4     5     6     7     8     9]\n",
      "[    0     1     2     3     4     5]\n",
      "[ 6144  2048 16384 16384 12288 12288]\n",
      "[    0     1     2     3     4     5]\n",
      "[ 6144  2048 16384 16384 12288 12288]\n",
      "4\n",
      "[   10    11    12    13    14    15]\n",
      "[    0     1     2     3     4     5]\n",
      "[15360  9216 16384 16384  5120  3072]\n",
      "[    0     1     2     3     4     5]\n",
      "[15360  9216 16384 16384  5120  3072]\n",
      "5\n",
      "[   16    17    18    19    20    21    22    23    24]\n",
      "[    0     1     2     3     4     5     6     7     8]\n",
      "[ 4096  6144  6144  2048  2048  6144  6144 16384 16384]\n",
      "[    0     1     2     3     4     5     6     7     8]\n",
      "[ 4096  6144  6144  2048  2048  6144  6144 16384 16384]\n",
      "6\n",
      "[   16    17    18    23    24    19    21    22    20]\n",
      "[    0     1     2     3     4     5     6     7     8]\n",
      "[ 4096  6144  6144 16384 16384  2048  6144  6144  2048]\n",
      "[    0     1     2     3     4     5     6     7     8]\n",
      "[ 4096  6144  6144 16384 16384  2048  6144  6144  2048]\n",
      "7\n",
      "[   25    26    27    28    29    30]\n",
      "[    0     1     2     3     4     5]\n",
      "[ 6144 21504 21504  2048  7168  7168]\n",
      "[    0     1     2     3     4     5]\n",
      "[ 6144 21504 21504  2048  7168  7168]\n",
      "8\n",
      "[   31    32    33    34    35    36]\n",
      "[    0     1     2     3     4     5]\n",
      "[ 6144  4096  4096  2048 24576 24576]\n",
      "[    0     1     2     3     4     5]\n",
      "[ 6144  4096  4096  2048 24576 24576]\n",
      "9\n",
      "[  37   38   39   40   41   42   43   44]\n",
      "[   0    1    2    3    4    5    6    7]\n",
      "[9216 9216 7168 7168 8192 8192 8192 8192]\n",
      "[   1    0    3    2    4    5    6    7]\n",
      "[9216 9216 7168 7168 8192 8192 8192 8192]\n",
      "10\n",
      "[  45   46   47   48   49   50   51   52   53   54]\n",
      "[   0    1    2    3    4    5    6    7    8    9]\n",
      "[2048 2048 7168 7168 7168 7168 8192 8192 8192 8192]\n",
      "[   1    0    3    2    5    4    6    7    8    9]\n",
      "[2048 2048 7168 7168 7168 7168 8192 8192 8192 8192]\n"
     ]
    }
   ],
   "source": [
    "for n in range(1,len(r.reclassification_table)):\n",
    "    print n\n",
    "    print r.reclassification_table[n]"
   ]
  },
  {
   "cell_type": "markdown",
   "metadata": {},
   "source": [
    "The list `r.classification_list` contains the classifications in `c`, but with each of the matrices `bent_cayley_graph_index_matrix` and `dual_cayley_graph_index_matrix` \n",
    "using the indices from row 0 of `reclassification_table` corresponding to each index from row 1 and row 3 respectively."
   ]
  },
  {
   "cell_type": "code",
   "execution_count": 9,
   "metadata": {},
   "outputs": [
    {
     "name": "stdout",
     "output_type": "stream",
     "text": [
      "\n",
      "Classification 1\n",
      "\n",
      "\n",
      "Classification 2\n",
      "\n",
      "\n",
      "Classification 3\n",
      "\n",
      "\n",
      "Classification 4\n",
      "\n",
      "\n",
      "Classification 5\n",
      "\n",
      "\n",
      "Classification 6\n",
      "\n",
      "\n",
      "Classification 7\n",
      "\n",
      "\n",
      "Classification 8\n",
      "\n",
      "\n",
      "Classification 9\n",
      "\n",
      "\n",
      "Classification 10\n",
      "\n"
     ]
    }
   ],
   "source": [
    "rc = r.classification_list\n",
    "for k in range(1,len(rc)):\n",
    "    print \"\"\n",
    "    print \"Classification\", k\n",
    "    print \"\"\n",
    "    matrix_plot(rc[k].weight_class_matrix,cmap='gist_stern')\n",
    "    matrix_plot(rc[k].bent_cayley_graph_index_matrix,cmap='gist_stern')\n",
    "    matrix_plot(rc[k].dual_cayley_graph_index_matrix,cmap='gist_stern')"
   ]
  },
  {
   "cell_type": "code",
   "execution_count": null,
   "metadata": {},
   "outputs": [],
   "source": []
  }
 ],
 "metadata": {
  "kernelspec": {
   "display_name": "SageMath 8.7",
   "language": "",
   "name": "sagemath"
  },
  "language_info": {
   "codemirror_mode": {
    "name": "ipython",
    "version": 2
   },
   "file_extension": ".py",
   "mimetype": "text/x-python",
   "name": "python",
   "nbconvert_exporter": "python",
   "pygments_lexer": "ipython2",
   "version": "2.7.15"
  }
 },
 "nbformat": 4,
 "nbformat_minor": 1
}
