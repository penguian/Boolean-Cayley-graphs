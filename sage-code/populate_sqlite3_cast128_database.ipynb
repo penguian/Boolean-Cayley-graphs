{
 "cells": [
  {
   "cell_type": "code",
   "execution_count": null,
   "metadata": {},
   "outputs": [],
   "source": [
    "import datetime\n",
    "import os\n",
    "import sqlite3\n",
    "\n",
    "from boolean_cayley_graphs.bent_function import BentFunction\n",
    "from boolean_cayley_graphs.classification_database_sqlite3 import *\n",
    "from boolean_cayley_graphs.bent_function_cayley_graph_classification import BentFunctionCayleyGraphClassification"
   ]
  },
  {
   "cell_type": "code",
   "execution_count": null,
   "metadata": {},
   "outputs": [],
   "source": [
    "db_dirname=os.path.join(\"..\",\"db\")\n",
    "sobj_dirname=os.path.join(\"..\",\"sobj\")"
   ]
  },
  {
   "cell_type": "code",
   "execution_count": null,
   "metadata": {},
   "outputs": [],
   "source": [
    "rm ../db/sqlite3_cast128.db"
   ]
  },
  {
   "cell_type": "code",
   "execution_count": null,
   "metadata": {},
   "outputs": [],
   "source": [
    "cast128_db_name = os.path.join(db_dirname,\"sqlite3_cast128.db\")\n",
    "create_database(cast128_db_name)\n",
    "conn = create_classification_tables(cast128_db_name)"
   ]
  },
  {
   "cell_type": "code",
   "execution_count": null,
   "metadata": {},
   "outputs": [],
   "source": [
    "def insert_classifications(conn, xbox_beg, xbox_end, j_beg):\n",
    "    then = datetime.datetime.now()\n",
    "    print(\"    \", then)\n",
    "    for xbox in range(xbox_beg, xbox_end):\n",
    "        str_xbox = \"%01d\" % xbox\n",
    "        for j in range(j_beg, 32):\n",
    "            strj = \"%02d\" % j\n",
    "            sobj_name = \"cast128_\" + str_xbox + \"_\" + str(j) + \".sobj\"\n",
    "            name = \"cast128_\" + str_xbox + \"_\" + strj\n",
    "            cgc = BentFunctionCayleyGraphClassification.load_mangled(\n",
    "                sobj_name,\n",
    "                dir=sobj_dirname)\n",
    "            insert_classification(conn, cgc, name)\n",
    "            now = datetime.datetime.now()\n",
    "            print(str_xbox, strj, now, now - then)\n",
    "            then = now"
   ]
  },
  {
   "cell_type": "code",
   "execution_count": null,
   "metadata": {},
   "outputs": [],
   "source": [
    "insert_classifications(conn, 1, 2, 0)"
   ]
  },
  {
   "cell_type": "code",
   "execution_count": null,
   "metadata": {},
   "outputs": [],
   "source": [
    "insert_classifications(conn, 2, 3, 0)"
   ]
  },
  {
   "cell_type": "code",
   "execution_count": null,
   "metadata": {},
   "outputs": [],
   "source": [
    "insert_classifications(conn, 3, 4, 0)"
   ]
  },
  {
   "cell_type": "code",
   "execution_count": null,
   "metadata": {
    "scrolled": false
   },
   "outputs": [],
   "source": [
    "insert_classifications(conn, 4, 5, 0)"
   ]
  },
  {
   "cell_type": "code",
   "execution_count": null,
   "metadata": {
    "scrolled": false
   },
   "outputs": [],
   "source": [
    "insert_classifications(conn, 5, 6, 0)"
   ]
  },
  {
   "cell_type": "code",
   "execution_count": null,
   "metadata": {
    "scrolled": false
   },
   "outputs": [],
   "source": [
    "insert_classifications(conn, 6, 7, 0)"
   ]
  },
  {
   "cell_type": "code",
   "execution_count": null,
   "metadata": {
    "scrolled": false
   },
   "outputs": [],
   "source": [
    "insert_classifications(conn, 7, 8, 0)"
   ]
  },
  {
   "cell_type": "code",
   "execution_count": null,
   "metadata": {
    "scrolled": false
   },
   "outputs": [],
   "source": [
    "insert_classifications(conn, 8, 9, 0)"
   ]
  },
  {
   "cell_type": "code",
   "execution_count": null,
   "metadata": {},
   "outputs": [],
   "source": [
    "#conn.rollback()"
   ]
  },
  {
   "cell_type": "code",
   "execution_count": null,
   "metadata": {},
   "outputs": [],
   "source": [
    "conn.close()"
   ]
  },
  {
   "cell_type": "code",
   "execution_count": null,
   "metadata": {},
   "outputs": [],
   "source": [
    "conn = connect_to_database(cast128_db_name)"
   ]
  },
  {
   "cell_type": "code",
   "execution_count": null,
   "metadata": {},
   "outputs": [],
   "source": [
    "curs = conn.cursor()\n",
    "curs.execute(\"SELECT name FROM bent_function\")\n",
    "for row in curs:\n",
    "    for x in row:\n",
    "        print(x)"
   ]
  },
  {
   "cell_type": "code",
   "execution_count": null,
   "metadata": {},
   "outputs": [],
   "source": [
    "exceptions = [\"2_01\", \"2_16\", \"4_27\", \"5_16\", \"5_27\", \"6_17\", \"7_15\", \"7_21\"]\n",
    "for suffix in exceptions:\n",
    "    exception_name = \"cast128_\" + suffix\n",
    "    print(\"\")\n",
    "    print(exception_name + \":\")\n",
    "    c = select_classification_where_name(conn, exception_name)\n",
    "    c.report()\n",
    "    matrix_plot(c.bent_cayley_graph_index_matrix,cmap=\"gist_stern\").show()"
   ]
  },
  {
   "cell_type": "code",
   "execution_count": null,
   "metadata": {},
   "outputs": [],
   "source": [
    "cgc = BentFunctionCayleyGraphClassification.load_mangled(\"cast128_5_27.sobj\", dir=sobj_dirname)\n",
    "bentf = BentFunction(cgc.algebraic_normal_form)\n",
    "\n",
    "c = select_classification_where_bent_function(conn, bentf)\n",
    "c.report()"
   ]
  },
  {
   "cell_type": "code",
   "execution_count": null,
   "metadata": {},
   "outputs": [],
   "source": [
    "print(datetime.datetime.now(), \"before\")\n",
    "curs.execute(\"SELECT MAX(ROWID) FROM graph\")\n",
    "print(datetime.datetime.now(), \"after\")\n",
    "for row in curs:\n",
    "    for x in row:\n",
    "        print(x)"
   ]
  },
  {
   "cell_type": "code",
   "execution_count": null,
   "metadata": {},
   "outputs": [],
   "source": [
    "curs = conn.cursor()\n",
    "print(datetime.datetime.now(), \"before\")\n",
    "curs.execute(\"SELECT COUNT(ROWID) FROM cayley_graph\")\n",
    "print(datetime.datetime.now(), \"after\")\n",
    "for row in curs:\n",
    "    for x in row:\n",
    "        print(x)"
   ]
  },
  {
   "cell_type": "code",
   "execution_count": null,
   "metadata": {},
   "outputs": [],
   "source": [
    "conn.close()"
   ]
  },
  {
   "cell_type": "code",
   "execution_count": null,
   "metadata": {},
   "outputs": [],
   "source": []
  }
 ],
 "metadata": {
  "kernelspec": {
   "display_name": "SageMath 9.5",
   "language": "sage",
   "name": "sagemath"
  },
  "language_info": {
   "codemirror_mode": {
    "name": "ipython",
    "version": 3
   },
   "file_extension": ".py",
   "mimetype": "text/x-python",
   "name": "python",
   "nbconvert_exporter": "python",
   "pygments_lexer": "ipython3",
   "version": "3.10.8"
  }
 },
 "nbformat": 4,
 "nbformat_minor": 2
}
