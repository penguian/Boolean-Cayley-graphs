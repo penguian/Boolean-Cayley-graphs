{
 "cells": [
  {
   "cell_type": "code",
   "execution_count": 1,
   "metadata": {
    "collapsed": false,
    "deletable": true,
    "editable": true
   },
   "outputs": [],
   "source": [
    "import datetime\n",
    "import sqlite3\n",
    "\n",
    "from boolean_cayley_graphs.bent_function import BentFunction\n",
    "from boolean_cayley_graphs.classification_database_sqlite3 import *\n",
    "from boolean_cayley_graphs.bent_function_cayley_graph_classification import BentFunctionCayleyGraphClassification"
   ]
  },
  {
   "cell_type": "code",
   "execution_count": 2,
   "metadata": {
    "collapsed": true,
    "deletable": true,
    "editable": true
   },
   "outputs": [],
   "source": [
    "rm -f test_p6.db"
   ]
  },
  {
   "cell_type": "code",
   "execution_count": 3,
   "metadata": {
    "collapsed": false,
    "deletable": true,
    "editable": true
   },
   "outputs": [],
   "source": [
    "conn = create_database('test_p6.db')\n",
    "conn = create_classification_tables('test_p6.db')"
   ]
  },
  {
   "cell_type": "code",
   "execution_count": 4,
   "metadata": {
    "collapsed": false,
    "deletable": true,
    "editable": true
   },
   "outputs": [
    {
     "name": "stdout",
     "output_type": "stream",
     "text": [
      "1\n",
      "2\n",
      "3\n",
      "4\n"
     ]
    }
   ],
   "source": [
    "for i in range(1,5):\n",
    "    print i\n",
    "    name = \"p6_\"+str(i)\n",
    "    cgc = BentFunctionCayleyGraphClassification.load_mangled(name + \".sobj\")\n",
    "    insert_classification(conn, cgc, name)"
   ]
  },
  {
   "cell_type": "code",
   "execution_count": 5,
   "metadata": {
    "collapsed": false,
    "deletable": true,
    "editable": true
   },
   "outputs": [
    {
     "name": "stdout",
     "output_type": "stream",
     "text": [
      "Algebraic normal form of Boolean function: x0*x1*x2 + x0*x3 + x1*x3*x4 + x1*x5 + x2*x3*x5 + x2*x3 + x2*x4 + x2*x5 + x3*x4 + x3*x5\n",
      "Function is bent.\n",
      "\n",
      "Weight class matrix:\n",
      "64 x 64 dense matrix over Integer Ring\n",
      "\n",
      "SDP design incidence structure t-design parameters: (True, (2, 64, 28, 12))\n",
      "\n",
      "Classification of Cayley graphs and classification of Cayley graphs of duals are the same:\n",
      "\n",
      "There are 3 extended Cayley classes in the extended translation class.\n",
      "\n",
      "Matrix of indices of Cayley graphs:\n",
      "64 x 64 dense matrix over Integer Ring\n"
     ]
    }
   ],
   "source": [
    "cgc.report()"
   ]
  },
  {
   "cell_type": "code",
   "execution_count": 6,
   "metadata": {
    "collapsed": false,
    "deletable": true,
    "editable": true
   },
   "outputs": [
    {
     "name": "stdout",
     "output_type": "stream",
     "text": [
      "Algebraic normal form of Boolean function: x0*x1*x2 + x0*x3 + x1*x3*x4 + x1*x5 + x2*x3*x5 + x2*x3 + x2*x4 + x2*x5 + x3*x4 + x3*x5\n",
      "Function is bent.\n",
      "\n",
      "Weight class matrix:\n",
      "64 x 64 dense matrix over Integer Ring\n",
      "\n",
      "SDP design incidence structure t-design parameters: (True, (2, 64, 28, 12))\n",
      "\n",
      "Classification of Cayley graphs and classification of Cayley graphs of duals are the same:\n",
      "\n",
      "There are 3 extended Cayley classes in the extended translation class.\n",
      "\n",
      "Matrix of indices of Cayley graphs:\n",
      "64 x 64 dense matrix over Integer Ring\n"
     ]
    }
   ],
   "source": [
    "bentf = BentFunction(cgc.algebraic_normal_form)\n",
    "c = select_classification_where_bent_function(conn, bentf)\n",
    "c.report()"
   ]
  },
  {
   "cell_type": "code",
   "execution_count": 7,
   "metadata": {
    "collapsed": false,
    "deletable": true,
    "editable": true
   },
   "outputs": [
    {
     "name": "stdout",
     "output_type": "stream",
     "text": [
      "Algebraic normal form of Boolean function: x0*x1 + x2*x3 + x4*x5\n",
      "Function is bent.\n",
      "\n",
      "Weight class matrix:\n",
      "64 x 64 dense matrix over Integer Ring\n",
      "\n",
      "SDP design incidence structure t-design parameters: (True, (2, 64, 28, 12))\n",
      "\n",
      "Classification of Cayley graphs and classification of Cayley graphs of duals are the same:\n",
      "\n",
      "There are 2 extended Cayley classes in the extended translation class.\n",
      "\n",
      "Matrix of indices of Cayley graphs:\n",
      "64 x 64 dense matrix over Integer Ring\n"
     ]
    }
   ],
   "source": [
    "c = select_classification_where_name(conn, \"p6_1\")\n",
    "c.report()"
   ]
  },
  {
   "cell_type": "code",
   "execution_count": 8,
   "metadata": {
    "collapsed": false,
    "deletable": true,
    "editable": true
   },
   "outputs": [
    {
     "name": "stdout",
     "output_type": "stream",
     "text": [
      "2017-12-02 00:39:10.765552 before\n",
      "2017-12-02 00:39:10.766089 after\n",
      "12\n"
     ]
    }
   ],
   "source": [
    "curs = conn.cursor()\n",
    "print datetime.datetime.now(), \"before\"\n",
    "curs.execute(\"SELECT COUNT(ROWID) FROM cayley_graph\")\n",
    "print datetime.datetime.now(), \"after\"\n",
    "for row in curs:\n",
    "    for x in row:\n",
    "        print x"
   ]
  },
  {
   "cell_type": "code",
   "execution_count": 9,
   "metadata": {
    "collapsed": false,
    "deletable": true,
    "editable": true
   },
   "outputs": [
    {
     "name": "stdout",
     "output_type": "stream",
     "text": [
      "2017-12-02 00:39:10.859495 before\n",
      "2017-12-02 00:39:10.859949 after\n",
      "11\n"
     ]
    }
   ],
   "source": [
    "print datetime.datetime.now(), \"before\"\n",
    "curs.execute(\"SELECT COUNT(ROWID) FROM graph\")\n",
    "print datetime.datetime.now(), \"after\"\n",
    "for row in curs:\n",
    "    for x in row:\n",
    "        print x"
   ]
  },
  {
   "cell_type": "code",
   "execution_count": 10,
   "metadata": {
    "collapsed": true,
    "deletable": true,
    "editable": true
   },
   "outputs": [],
   "source": [
    "conn.close()"
   ]
  },
  {
   "cell_type": "code",
   "execution_count": 11,
   "metadata": {
    "collapsed": true,
    "deletable": true,
    "editable": true
   },
   "outputs": [],
   "source": [
    "rm -f test_p8.db"
   ]
  },
  {
   "cell_type": "code",
   "execution_count": 12,
   "metadata": {
    "collapsed": false,
    "deletable": true,
    "editable": true
   },
   "outputs": [],
   "source": [
    "conn = create_database('test_p8.db')\n",
    "conn = create_classification_tables('test_p8.db')"
   ]
  },
  {
   "cell_type": "code",
   "execution_count": 13,
   "metadata": {
    "collapsed": false,
    "deletable": true,
    "editable": true
   },
   "outputs": [
    {
     "name": "stdout",
     "output_type": "stream",
     "text": [
      "2017-12-02 00:39:11.935102 1\n",
      "2017-12-02 00:39:12.786417 2\n",
      "2017-12-02 00:39:13.622103 3\n",
      "2017-12-02 00:39:14.507297 4\n",
      "2017-12-02 00:39:15.426261 5\n",
      "2017-12-02 00:39:16.190797 6\n",
      "2017-12-02 00:39:17.101525 7\n",
      "2017-12-02 00:39:18.022943 8\n",
      "2017-12-02 00:39:18.943230 9\n",
      "2017-12-02 00:39:19.711933 10\n",
      "2017-12-02 00:39:20.460187\n"
     ]
    }
   ],
   "source": [
    "for i in range(1,11):\n",
    "    name = \"p8_\"+str(i)\n",
    "    cgc = BentFunctionCayleyGraphClassification.load_mangled(name + \".sobj\")\n",
    "    print datetime.datetime.now(), i\n",
    "    insert_classification(conn, cgc, name)\n",
    "print datetime.datetime.now()"
   ]
  },
  {
   "cell_type": "code",
   "execution_count": 14,
   "metadata": {
    "collapsed": false,
    "deletable": true,
    "editable": true
   },
   "outputs": [
    {
     "name": "stdout",
     "output_type": "stream",
     "text": [
      "Algebraic normal form of Boolean function: x0*x1*x2 + x0*x6 + x1*x3*x4 + x1*x4 + x1*x5 + x2*x3*x5 + x2*x4 + x3*x7\n",
      "Function is bent.\n",
      "\n",
      "Weight class matrix:\n",
      "256 x 256 dense matrix over Integer Ring\n",
      "\n",
      "SDP design incidence structure t-design parameters: (True, (2, 256, 120, 56))\n",
      "\n",
      "Classification of Cayley graphs and classification of Cayley graphs of duals are the same:\n",
      "\n",
      "There are 9 extended Cayley classes in the extended translation class.\n",
      "\n",
      "Matrix of indices of Cayley graphs:\n",
      "256 x 256 dense matrix over Integer Ring\n"
     ]
    }
   ],
   "source": [
    "c8_5 = select_classification_where_name(conn, \"p8_5\")\n",
    "c8_5.report()"
   ]
  },
  {
   "cell_type": "code",
   "execution_count": 15,
   "metadata": {
    "collapsed": false,
    "deletable": true,
    "editable": true
   },
   "outputs": [
    {
     "name": "stdout",
     "output_type": "stream",
     "text": [
      "Algebraic normal form of Boolean function: x0*x1*x2 + x0*x6 + x1*x3*x4 + x1*x4 + x1*x5 + x2*x3*x5 + x2*x4 + x3*x7\n",
      "Function is bent.\n",
      "\n",
      "Weight class matrix:\n",
      "256 x 256 dense matrix over Integer Ring\n",
      "\n",
      "SDP design incidence structure t-design parameters: (True, (2, 256, 120, 56))\n",
      "\n",
      "Classification of Cayley graphs and classification of Cayley graphs of duals are the same:\n",
      "\n",
      "There are 9 extended Cayley classes in the extended translation class.\n",
      "\n",
      "Matrix of indices of Cayley graphs:\n",
      "256 x 256 dense matrix over Integer Ring\n"
     ]
    }
   ],
   "source": [
    "bentf = BentFunction(c8_5.algebraic_normal_form)\n",
    "\n",
    "c = select_classification_where_bent_function(conn, bentf)\n",
    "c.report()"
   ]
  },
  {
   "cell_type": "code",
   "execution_count": 16,
   "metadata": {
    "collapsed": false,
    "deletable": true,
    "editable": true
   },
   "outputs": [
    {
     "name": "stdout",
     "output_type": "stream",
     "text": [
      "Algebraic normal form of Boolean function: x0*x1*x2 + x0*x2 + x0*x3 + x1*x3*x4 + x1*x6 + x2*x3*x5 + x2*x4 + x5*x7\n",
      "Function is bent.\n",
      "\n",
      "Weight class matrix:\n",
      "256 x 256 dense matrix over Integer Ring\n",
      "\n",
      "SDP design incidence structure t-design parameters: (True, (2, 256, 120, 56))\n",
      "\n",
      "Classification of Cayley graphs and classification of Cayley graphs of duals are the same:\n",
      "\n",
      "There are 9 extended Cayley classes in the extended translation class.\n",
      "\n",
      "Matrix of indices of Cayley graphs:\n",
      "256 x 256 dense matrix over Integer Ring\n"
     ]
    }
   ],
   "source": [
    "c8_6 = select_classification_where_name(conn, \"p8_6\")\n",
    "c8_6.report()"
   ]
  },
  {
   "cell_type": "code",
   "execution_count": 17,
   "metadata": {
    "collapsed": false,
    "deletable": true,
    "editable": true
   },
   "outputs": [
    {
     "name": "stdout",
     "output_type": "stream",
     "text": [
      "2017-12-02 00:39:23.906596 before\n",
      "2017-12-02 00:39:23.907088 after\n",
      "66\n"
     ]
    }
   ],
   "source": [
    "curs = conn.cursor()\n",
    "print datetime.datetime.now(), \"before\"\n",
    "curs.execute(\"SELECT COUNT(*) FROM cayley_graph\")\n",
    "print datetime.datetime.now(), \"after\"\n",
    "for row in curs:\n",
    "    for x in row:\n",
    "        print x"
   ]
  },
  {
   "cell_type": "code",
   "execution_count": 18,
   "metadata": {
    "collapsed": false,
    "deletable": true,
    "editable": true
   },
   "outputs": [
    {
     "name": "stdout",
     "output_type": "stream",
     "text": [
      "2017-12-02 00:39:23.977027 before\n",
      "2017-12-02 00:39:23.977706 after\n",
      "66\n"
     ]
    }
   ],
   "source": [
    "curs = conn.cursor()\n",
    "print datetime.datetime.now(), \"before\"\n",
    "curs.execute(\"SELECT COUNT(ROWID) FROM cayley_graph\")\n",
    "print datetime.datetime.now(), \"after\"\n",
    "for row in curs:\n",
    "    for x in row:\n",
    "        print x"
   ]
  },
  {
   "cell_type": "code",
   "execution_count": 19,
   "metadata": {
    "collapsed": false,
    "deletable": true,
    "editable": true
   },
   "outputs": [
    {
     "name": "stdout",
     "output_type": "stream",
     "text": [
      "2017-12-02 00:39:24.038734 before\n",
      "2017-12-02 00:39:24.039620 after\n",
      "55\n"
     ]
    }
   ],
   "source": [
    "print datetime.datetime.now(), \"before\"\n",
    "curs.execute(\"SELECT COUNT(ROWID) FROM graph\")\n",
    "print datetime.datetime.now(), \"after\"\n",
    "for row in curs:\n",
    "    for x in row:\n",
    "        print x"
   ]
  },
  {
   "cell_type": "code",
   "execution_count": 20,
   "metadata": {
    "collapsed": true,
    "deletable": true,
    "editable": true
   },
   "outputs": [],
   "source": [
    "conn.close()"
   ]
  },
  {
   "cell_type": "code",
   "execution_count": 21,
   "metadata": {
    "collapsed": true,
    "deletable": true,
    "editable": true
   },
   "outputs": [],
   "source": [
    "conn = connect_to_database('test_p8.db')"
   ]
  },
  {
   "cell_type": "code",
   "execution_count": 22,
   "metadata": {
    "collapsed": false,
    "deletable": true,
    "editable": true
   },
   "outputs": [
    {
     "name": "stdout",
     "output_type": "stream",
     "text": [
      "2017-12-02 00:39:25.019138 before\n",
      "2017-12-02 00:39:25.941452 after\n",
      "p8_1 0 1 34816 \n",
      "p8_2 0 1 6144 \n",
      "p8_1 1 2 30720 \n",
      "p8_2 3 2 2048 \n",
      "p8_5 0 17 4096 \n",
      "p8_6 0 17 4096 \n",
      "p8_5 1 18 6144 \n",
      "p8_6 1 18 6144 \n",
      "p8_5 2 19 6144 \n",
      "p8_6 2 19 6144 \n",
      "p8_5 3 20 2048 \n",
      "p8_6 5 20 2048 \n",
      "p8_5 4 21 2048 \n",
      "p8_6 8 21 2048 \n",
      "p8_5 5 22 6144 \n",
      "p8_6 6 22 6144 \n",
      "p8_5 6 23 6144 \n",
      "p8_6 7 23 6144 \n",
      "p8_5 7 24 16384 \n",
      "p8_6 3 24 16384 \n",
      "p8_5 8 25 16384 \n",
      "p8_6 4 25 16384 \n"
     ]
    }
   ],
   "source": [
    "curs = conn.cursor()\n",
    "print datetime.datetime.now(), \"before\"\n",
    "curs.execute(\"\"\"\n",
    "select name, cayley_graph_index, graph_id, count(*)\n",
    "from matrices, (\n",
    "    select name, bent_function, cayley_graph_index, graph_id\n",
    "    from (\n",
    "        select graph_id\n",
    "        from cayley_graph\n",
    "        group by graph_id\n",
    "        having count (graph_id) > 1 ) as repeats\n",
    "    natural join cayley_graph\n",
    "    natural join bent_function )\n",
    "as repeats_with_counts\n",
    "where matrices.bent_function = repeats_with_counts.bent_function\n",
    "and matrices.bent_cayley_graph_index = repeats_with_counts.cayley_graph_index\n",
    "group by name, cayley_graph_index, graph_id\n",
    "order by graph_id\n",
    "\"\"\")\n",
    "print datetime.datetime.now(), \"after\"\n",
    "for row in curs:\n",
    "    for x in row:\n",
    "        print x,\n",
    "    print \"\""
   ]
  },
  {
   "cell_type": "code",
   "execution_count": 23,
   "metadata": {
    "collapsed": false,
    "deletable": true,
    "editable": true
   },
   "outputs": [],
   "source": [
    "conn = connect_to_database('cast128.db')"
   ]
  },
  {
   "cell_type": "code",
   "execution_count": 24,
   "metadata": {
    "collapsed": false,
    "deletable": true,
    "editable": true
   },
   "outputs": [
    {
     "name": "stdout",
     "output_type": "stream",
     "text": [
      "2017-12-02 00:39:26.030345 before\n",
      "2017-12-02 00:39:28.135298 after\n",
      "32914496\n"
     ]
    }
   ],
   "source": [
    "curs = conn.cursor()\n",
    "print datetime.datetime.now(), \"before\"\n",
    "curs.execute(\"SELECT COUNT(ROWID) FROM cayley_graph\")\n",
    "print datetime.datetime.now(), \"after\"\n",
    "for row in curs:\n",
    "    for x in row:\n",
    "        print x"
   ]
  },
  {
   "cell_type": "code",
   "execution_count": 25,
   "metadata": {
    "collapsed": false,
    "deletable": true,
    "editable": true
   },
   "outputs": [
    {
     "name": "stdout",
     "output_type": "stream",
     "text": [
      "2017-12-02 00:39:28.143698 before\n",
      "2017-12-02 00:39:28.802565 after\n",
      "32914496\n"
     ]
    }
   ],
   "source": [
    "print datetime.datetime.now(), \"before\"\n",
    "curs.execute(\"SELECT MAX(ROWID) FROM graph\")\n",
    "print datetime.datetime.now(), \"after\"\n",
    "for row in curs:\n",
    "    for x in row:\n",
    "        print x"
   ]
  },
  {
   "cell_type": "code",
   "execution_count": 26,
   "metadata": {
    "collapsed": false,
    "deletable": true,
    "editable": true
   },
   "outputs": [
    {
     "name": "stdout",
     "output_type": "stream",
     "text": [
      "\n",
      "cast128_2_1:\n",
      "Algebraic normal form of Boolean function: x0*x1*x2*x6 + x0*x1*x4 + x0*x1*x5 + x0*x1*x6 + x0*x2*x4*x6 + x0*x2*x4 + x0*x2*x5*x6 + x0*x2*x6 + x0*x2 + x0*x3*x5*x6 + x0*x3*x6 + x0*x3 + x0*x4*x6 + x0 + x1*x2*x3*x6 + x1*x2*x4 + x1*x2*x5 + x1*x2*x6 + x1*x3*x4*x6 + x1*x3*x4 + x1*x3*x5 + x1*x3*x6 + x1*x4*x5*x6 + x1*x5*x6 + x1*x5 + x1 + x2*x3*x4*x6 + x2*x3*x4 + x2*x3*x5*x6 + x2*x3*x6 + x2*x4*x5*x6 + x2*x4*x5 + x2*x4*x6 + x2*x4 + x2 + x3*x4*x5*x6 + x3*x4*x5 + x3*x4 + x3*x5 + x4*x5*x6 + x4 + x6*x7\n",
      "Function is bent.\n",
      "\n",
      "Weight class matrix:\n",
      "256 x 256 dense matrix over Integer Ring\n",
      "\n",
      "SDP design incidence structure t-design parameters: (True, (2, 256, 120, 56))\n",
      "\n",
      "Classification of Cayley graphs and classification of Cayley graphs of duals differ in matrices of indexes:\n",
      "\n",
      "There are 8256 extended Cayley classes in the extended translation class.\n",
      "There are 8256 extended Cayley classes of dual bent functions in the extended translation class,\n",
      "and 8256 extended Cayley classes in the union of the two.\n",
      "\n",
      "Matrix of indices of Cayley graphs:\n",
      "256 x 256 dense matrix over Integer Ring\n",
      "Matrix of indices of Cayley graphs of dual bent functions:\n",
      "256 x 256 dense matrix over Integer Ring\n",
      "\n",
      "cast128_2_16:\n",
      "Algebraic normal form of Boolean function: x0*x1*x2*x3 + x0*x1*x2 + x0*x1*x3*x5 + x0*x1*x3 + x0*x1*x4*x5 + x0*x1*x5*x7 + x0*x1 + x0*x2*x3*x6 + x0*x2*x3*x7 + x0*x2*x3 + x0*x2*x4*x7 + x0*x2*x5*x6 + x0*x2*x5*x7 + x0*x2*x6 + x0*x2*x7 + x0*x2 + x0*x3*x4*x5 + x0*x3*x4*x7 + x0*x3*x4 + x0*x3*x5 + x0*x3*x6 + x0*x3 + x0*x4*x5*x6 + x0*x4*x5*x7 + x0*x5*x7 + x0 + x1*x2*x3*x7 + x1*x2*x3 + x1*x2*x4*x5 + x1*x2*x4*x7 + x1*x2*x4 + x1*x2*x5*x6 + x1*x2*x6 + x1*x3*x4*x7 + x1*x3*x4 + x1*x3*x5*x6 + x1*x3*x5*x7 + x1*x3*x5 + x1*x3*x6 + x1*x3*x7 + x1*x4 + x1*x5*x7 + x1*x5 + x1*x7 + x1 + x2*x3*x4*x7 + x2*x3*x4 + x2*x3*x5*x6 + x2*x3*x5 + x2*x3*x6 + x2*x3*x7 + x2*x4*x5*x7 + x2*x4*x6 + x2*x5*x6 + x2*x5 + x2*x6 + x2*x7 + x2 + x3*x4*x5*x6 + x3*x4*x5 + x3*x4*x6 + x3*x4*x7 + x3*x5*x6 + x3*x6 + x3 + x4 + x6*x7\n",
      "Function is bent.\n",
      "\n",
      "Weight class matrix:\n",
      "256 x 256 dense matrix over Integer Ring\n",
      "\n",
      "SDP design incidence structure t-design parameters: (True, (2, 256, 120, 56))\n",
      "\n",
      "Classification of Cayley graphs and classification of Cayley graphs of duals differ in matrices of indexes:\n",
      "\n",
      "There are 32768 extended Cayley classes in the extended translation class.\n",
      "There are 32768 extended Cayley classes of dual bent functions in the extended translation class,\n",
      "and 65536 extended Cayley classes in the union of the two.\n",
      "\n",
      "Matrix of indices of Cayley graphs:\n",
      "256 x 256 dense matrix over Integer Ring\n",
      "Matrix of indices of Cayley graphs of dual bent functions:\n",
      "256 x 256 dense matrix over Integer Ring\n",
      "\n",
      "cast128_4_27:\n",
      "Algebraic normal form of Boolean function: x0*x1*x2*x6 + x0*x1*x3 + x0*x1*x5*x6 + x0*x1*x5*x7 + x0*x1*x5 + x0*x1*x6*x7 + x0*x1*x6 + x0*x1*x7 + x0*x2*x3*x7 + x0*x2*x3 + x0*x2*x5*x6 + x0*x2*x5*x7 + x0*x2*x6 + x0*x2 + x0*x3*x4*x6 + x0*x3*x4*x7 + x0*x3*x4 + x0*x3*x5*x6 + x0*x3*x5 + x0*x3*x6*x7 + x0*x3*x6 + x0*x3 + x0*x4*x5*x7 + x0*x4*x6 + x0*x5*x7 + x0*x5 + x0*x6*x7 + x0*x7 + x1*x2*x3*x6 + x1*x2*x3*x7 + x1*x2*x3 + x1*x2*x4*x6 + x1*x2*x6 + x1*x2*x7 + x1*x3*x4*x6 + x1*x3 + x1*x4 + x1*x5*x6 + x1*x5*x7 + x1*x7 + x1 + x2*x3*x4*x6 + x2*x3*x4*x7 + x2*x3*x5*x7 + x2*x4*x5*x6 + x2*x4*x6*x7 + x2*x5*x6*x7 + x2*x5*x6 + x2*x5*x7 + x2*x6*x7 + x3*x5*x6*x7 + x3*x5*x6 + x3*x5*x7 + x3*x5 + x3*x6 + x4*x5*x6*x7 + x4*x5*x6 + x4*x5*x7 + x4*x6*x7 + x4*x6 + x5*x6 + x5*x7 + x5 + x7 + 1\n",
      "Function is bent.\n",
      "\n",
      "Weight class matrix:\n",
      "256 x 256 dense matrix over Integer Ring\n",
      "\n",
      "SDP design incidence structure t-design parameters: (True, (2, 256, 120, 56))\n",
      "\n",
      "Classification of Cayley graphs and classification of Cayley graphs of duals differ in matrices of indexes:\n",
      "\n",
      "There are 65536 extended Cayley classes in the extended translation class.\n",
      "There are 65536 extended Cayley classes of dual bent functions in the extended translation class,\n",
      "and 65536 extended Cayley classes in the union of the two.\n",
      "\n",
      "Matrix of indices of Cayley graphs:\n",
      "256 x 256 dense matrix over Integer Ring\n",
      "Matrix of indices of Cayley graphs of dual bent functions:\n",
      "256 x 256 dense matrix over Integer Ring\n",
      "\n",
      "cast128_5_16:\n",
      "Algebraic normal form of Boolean function: x0*x1*x2*x6 + x0*x1*x2 + x0*x1*x3*x5 + x0*x1*x3*x6 + x0*x1*x3 + x0*x1*x4*x5 + x0*x1*x4 + x0*x1*x5*x7 + x0*x1*x6 + x0*x2*x3*x5 + x0*x2*x5 + x0*x2*x6 + x0*x2*x7 + x0*x3*x4*x5 + x0*x3*x5 + x0*x3*x6 + x0*x3*x7 + x0*x3 + x0*x4*x5*x6 + x0*x4*x5 + x0*x4*x7 + x0*x5 + x0*x7 + x0 + x1*x2*x3*x6 + x1*x2*x3 + x1*x2*x4 + x1*x2*x5 + x1*x2*x6 + x1*x3*x4*x5 + x1*x3*x5*x7 + x1*x3*x6 + x1*x3 + x1*x5 + x1 + x2*x3*x6 + x2*x3*x7 + x2*x3 + x2*x4*x5*x7 + x2*x4*x6 + x2*x4*x7 + x2*x5*x6 + x2*x5*x7 + x2*x6 + x2 + x3*x4*x5*x6 + x3*x4*x5*x7 + x3*x4*x5 + x3*x4*x6 + x3*x5*x7 + x4*x5*x6 + x4*x5*x7 + x4 + x5*x6 + x5*x7 + x6*x7 + 1\n",
      "Function is bent.\n",
      "\n",
      "Weight class matrix:\n",
      "256 x 256 dense matrix over Integer Ring\n",
      "\n",
      "SDP design incidence structure t-design parameters: (True, (2, 256, 120, 56))\n",
      "\n",
      "Classification of Cayley graphs and classification of Cayley graphs of duals differ in matrices of indexes:\n",
      "\n",
      "There are 33280 extended Cayley classes in the extended translation class.\n",
      "There are 33280 extended Cayley classes of dual bent functions in the extended translation class,\n",
      "and 66560 extended Cayley classes in the union of the two.\n",
      "\n",
      "Matrix of indices of Cayley graphs:\n",
      "256 x 256 dense matrix over Integer Ring\n",
      "Matrix of indices of Cayley graphs of dual bent functions:\n",
      "256 x 256 dense matrix over Integer Ring\n",
      "\n",
      "cast128_5_27:\n",
      "Algebraic normal form of Boolean function: x0*x1*x2*x7 + x0*x1*x2 + x0*x1*x4*x7 + x0*x1*x5 + x0*x1 + x0*x2*x3*x7 + x0*x2*x3 + x0*x2*x4*x7 + x0*x2*x4 + x0*x2*x7 + x0*x3*x4*x7 + x0*x3*x7 + x0*x3 + x0*x4*x5*x7 + x0*x4*x7 + x0*x5*x7 + x1*x2*x4*x7 + x1*x2*x7 + x1*x2 + x1*x3*x5 + x1*x3*x7 + x1*x3 + x1*x4*x5*x7 + x1*x4*x5 + x1*x4*x7 + x1*x5 + x2*x3*x4*x7 + x2*x3*x4 + x2*x3*x5*x7 + x2*x3*x5 + x2*x3*x7 + x2*x4*x5*x7 + x2*x4*x5 + x2*x4 + x2*x5*x7 + x2*x5 + x3*x4*x5 + x3*x4*x7 + x3*x4 + x3*x5 + x3*x7 + x4 + x6*x7 + x7 + 1\n",
      "Function is bent.\n",
      "\n",
      "Weight class matrix:\n",
      "256 x 256 dense matrix over Integer Ring\n",
      "\n",
      "SDP design incidence structure t-design parameters: (True, (2, 256, 120, 56))\n",
      "\n",
      "Classification of Cayley graphs and classification of Cayley graphs of duals differ in matrices of indexes:\n",
      "\n",
      "There are 6144 extended Cayley classes in the extended translation class.\n",
      "There are 6144 extended Cayley classes of dual bent functions in the extended translation class,\n",
      "and 6144 extended Cayley classes in the union of the two.\n",
      "\n",
      "Matrix of indices of Cayley graphs:\n",
      "256 x 256 dense matrix over Integer Ring\n",
      "Matrix of indices of Cayley graphs of dual bent functions:\n",
      "256 x 256 dense matrix over Integer Ring\n",
      "\n",
      "cast128_6_17:\n",
      "Algebraic normal form of Boolean function: x0*x1*x3*x7 + x0*x1*x4*x6 + x0*x1*x4 + x0*x1*x5*x6 + x0*x1*x5*x7 + x0*x1*x5 + x0*x1*x6*x7 + x0*x1*x6 + x0*x1 + x0*x2*x3*x6 + x0*x2*x3*x7 + x0*x2*x3 + x0*x2*x4*x6 + x0*x2*x4 + x0*x2*x5*x7 + x0*x2*x6 + x0*x2*x7 + x0*x3*x4*x7 + x0*x3*x5*x6 + x0*x3*x5 + x0*x4*x5*x6 + x0*x4*x5 + x0*x4*x6 + x0*x4*x7 + x0*x4 + x0*x5*x6*x7 + x0*x5*x6 + x0*x6*x7 + x0*x7 + x0 + x1*x2*x3*x6 + x1*x2*x3*x7 + x1*x2*x4*x7 + x1*x2*x4 + x1*x2*x6*x7 + x1*x2*x7 + x1*x2 + x1*x3*x5*x6 + x1*x3*x5*x7 + x1*x3*x6 + x1*x3*x7 + x1*x3 + x1*x4*x5*x6 + x1*x4 + x1*x5*x6*x7 + x1*x5*x6 + x1*x5*x7 + x1*x7 + x2*x3*x4*x7 + x2*x3*x5*x6 + x2*x3*x5 + x2*x3*x7 + x2*x4*x5*x6 + x2*x4*x5 + x2*x4*x6*x7 + x2*x4*x6 + x2*x5*x6*x7 + x2*x5*x6 + x2*x5 + x2*x6 + x2*x7 + x3*x4*x5*x7 + x3*x4*x7 + x3*x5*x6*x7 + x3*x5*x7 + x3*x5 + x3*x6*x7 + x3*x6 + x4*x7 + x4 + x6 + 1\n",
      "Function is bent.\n",
      "\n",
      "Weight class matrix:\n",
      "256 x 256 dense matrix over Integer Ring\n",
      "\n",
      "SDP design incidence structure t-design parameters: (True, (2, 256, 120, 56))\n",
      "\n",
      "Classification of Cayley graphs and classification of Cayley graphs of duals differ in matrices of indexes:\n",
      "\n",
      "There are 65536 extended Cayley classes in the extended translation class.\n",
      "There are 65536 extended Cayley classes of dual bent functions in the extended translation class,\n",
      "and 65536 extended Cayley classes in the union of the two.\n",
      "\n",
      "Matrix of indices of Cayley graphs:\n",
      "256 x 256 dense matrix over Integer Ring\n",
      "Matrix of indices of Cayley graphs of dual bent functions:\n",
      "256 x 256 dense matrix over Integer Ring\n",
      "\n",
      "cast128_7_15:\n",
      "Algebraic normal form of Boolean function: x0*x1*x2*x4 + x0*x1*x2*x5 + x0*x1*x3*x5 + x0*x1*x3*x6 + x0*x1*x3*x7 + x0*x1*x3 + x0*x1*x4 + x0*x1*x5*x6 + x0*x1*x5*x7 + x0*x1*x5 + x0*x1*x7 + x0*x2*x3*x7 + x0*x2*x3 + x0*x2*x4*x5 + x0*x2*x4*x6 + x0*x2*x4*x7 + x0*x2*x5*x7 + x0*x2*x5 + x0*x2*x6 + x0*x2*x7 + x0*x3*x4*x5 + x0*x3*x4*x6 + x0*x3*x7 + x0*x4*x5*x6 + x0*x4*x5 + x0*x4*x6 + x0*x4*x7 + x0*x4 + x0*x5*x6 + x0*x5 + x0 + x1*x2*x3*x5 + x1*x2*x3*x6 + x1*x2*x3 + x1*x2*x5*x6 + x1*x2*x6 + x1*x2*x7 + x1*x2 + x1*x3*x4 + x1*x3 + x1*x5*x6 + x1*x5*x7 + x1 + x2*x3*x4*x5 + x2*x3*x4*x6 + x2*x4*x5*x6 + x2*x4*x7 + x2*x5*x6 + x2*x5*x7 + x3*x5 + x3 + x4*x5*x7 + x4 + x5*x6 + x5*x7 + x5 + x6*x7\n",
      "Function is bent.\n",
      "\n",
      "Weight class matrix:\n",
      "256 x 256 dense matrix over Integer Ring\n",
      "\n",
      "SDP design incidence structure t-design parameters: (True, (2, 256, 120, 56))\n",
      "\n",
      "Classification of Cayley graphs and classification of Cayley graphs of duals differ in matrices of indexes:\n",
      "\n",
      "There are 32768 extended Cayley classes in the extended translation class.\n",
      "There are 32768 extended Cayley classes of dual bent functions in the extended translation class,\n",
      "and 65536 extended Cayley classes in the union of the two.\n",
      "\n",
      "Matrix of indices of Cayley graphs:\n",
      "256 x 256 dense matrix over Integer Ring\n",
      "Matrix of indices of Cayley graphs of dual bent functions:\n",
      "256 x 256 dense matrix over Integer Ring\n",
      "\n",
      "cast128_7_21:\n",
      "Algebraic normal form of Boolean function: x0*x1*x2 + x0*x1*x3*x7 + x0*x1*x3 + x0*x1*x4*x7 + x0*x1*x4 + x0*x1*x5*x7 + x0*x1 + x0*x2*x3*x7 + x0*x2*x5*x7 + x0*x2*x5 + x0*x2*x6*x7 + x0*x2*x6 + x0*x3*x4 + x0*x3*x6*x7 + x0*x3*x6 + x0*x3*x7 + x0*x4*x5*x7 + x0*x4*x5 + x0*x4*x6*x7 + x0*x4*x6 + x0*x5*x7 + x0*x6*x7 + x0*x6 + x1*x2*x3*x7 + x1*x2*x3 + x1*x2*x4*x7 + x1*x2*x4 + x1*x2*x5*x6 + x1*x2*x5*x7 + x1*x2 + x1*x3*x4*x6 + x1*x3*x4*x7 + x1*x3*x4 + x1*x3*x5*x7 + x1*x3*x5 + x1*x3*x6*x7 + x1*x3*x7 + x1*x4*x5*x6 + x1*x4*x5*x7 + x1*x4*x6*x7 + x1*x5*x6*x7 + x1*x5*x7 + x1*x6 + x2*x3*x5*x7 + x2*x3*x5 + x2*x3*x7 + x2*x3 + x2*x4*x5*x7 + x2*x4*x5 + x2*x4*x6*x7 + x2*x4*x7 + x2*x5*x6*x7 + x2*x5*x6 + x2*x5*x7 + x2*x5 + x2*x6 + x2*x7 + x2 + x3*x4*x6 + x3*x5*x6*x7 + x3*x6 + x3*x7 + x4*x5*x6*x7 + x4*x5*x6 + x4*x5*x7 + x4*x5 + x4*x6 + x4 + x6 + 1\n",
      "Function is bent.\n",
      "\n",
      "Weight class matrix:\n",
      "256 x 256 dense matrix over Integer Ring\n",
      "\n",
      "SDP design incidence structure t-design parameters: (True, (2, 256, 120, 56))\n",
      "\n",
      "Classification of Cayley graphs and classification of Cayley graphs of duals differ in matrices of indexes:\n",
      "\n",
      "There are 32768 extended Cayley classes in the extended translation class.\n",
      "There are 32768 extended Cayley classes of dual bent functions in the extended translation class,\n",
      "and 65536 extended Cayley classes in the union of the two.\n",
      "\n",
      "Matrix of indices of Cayley graphs:\n",
      "256 x 256 dense matrix over Integer Ring\n",
      "Matrix of indices of Cayley graphs of dual bent functions:\n",
      "256 x 256 dense matrix over Integer Ring\n"
     ]
    }
   ],
   "source": [
    "exceptions = [\"2_1\", \"2_16\", \"4_27\", \"5_16\", \"5_27\", \"6_17\", \"7_15\", \"7_21\"]\n",
    "for suffix in exceptions:\n",
    "    exception_name = \"cast128_\" + suffix\n",
    "    print \"\"\n",
    "    print exception_name + \":\"\n",
    "    c = select_classification_where_name(conn, exception_name)\n",
    "    c.report()"
   ]
  },
  {
   "cell_type": "code",
   "execution_count": 27,
   "metadata": {
    "collapsed": false,
    "deletable": true,
    "editable": true
   },
   "outputs": [
    {
     "name": "stdout",
     "output_type": "stream",
     "text": [
      "Algebraic normal form of Boolean function: x0*x1*x2*x7 + x0*x1*x2 + x0*x1*x4*x7 + x0*x1*x5 + x0*x1 + x0*x2*x3*x7 + x0*x2*x3 + x0*x2*x4*x7 + x0*x2*x4 + x0*x2*x7 + x0*x3*x4*x7 + x0*x3*x7 + x0*x3 + x0*x4*x5*x7 + x0*x4*x7 + x0*x5*x7 + x1*x2*x4*x7 + x1*x2*x7 + x1*x2 + x1*x3*x5 + x1*x3*x7 + x1*x3 + x1*x4*x5*x7 + x1*x4*x5 + x1*x4*x7 + x1*x5 + x2*x3*x4*x7 + x2*x3*x4 + x2*x3*x5*x7 + x2*x3*x5 + x2*x3*x7 + x2*x4*x5*x7 + x2*x4*x5 + x2*x4 + x2*x5*x7 + x2*x5 + x3*x4*x5 + x3*x4*x7 + x3*x4 + x3*x5 + x3*x7 + x4 + x6*x7 + x7 + 1\n",
      "Function is bent.\n",
      "\n",
      "Weight class matrix:\n",
      "256 x 256 dense matrix over Integer Ring\n",
      "\n",
      "SDP design incidence structure t-design parameters: (True, (2, 256, 120, 56))\n",
      "\n",
      "Classification of Cayley graphs and classification of Cayley graphs of duals differ in matrices of indexes:\n",
      "\n",
      "There are 6144 extended Cayley classes in the extended translation class.\n",
      "There are 6144 extended Cayley classes of dual bent functions in the extended translation class,\n",
      "and 6144 extended Cayley classes in the union of the two.\n",
      "\n",
      "Matrix of indices of Cayley graphs:\n",
      "256 x 256 dense matrix over Integer Ring\n",
      "Matrix of indices of Cayley graphs of dual bent functions:\n",
      "256 x 256 dense matrix over Integer Ring\n"
     ]
    }
   ],
   "source": [
    "cgc = load(\"BentFunctionCayleyGraphClassification__cast128_5_27.sobj\")\n",
    "bentf = BentFunction(cgc.algebraic_normal_form)\n",
    "\n",
    "c = select_classification_where_bent_function(conn, bentf)\n",
    "c.report()"
   ]
  },
  {
   "cell_type": "code",
   "execution_count": 28,
   "metadata": {
    "collapsed": true,
    "deletable": true,
    "editable": true
   },
   "outputs": [],
   "source": [
    "conn.close()"
   ]
  },
  {
   "cell_type": "code",
   "execution_count": null,
   "metadata": {
    "collapsed": true,
    "deletable": true,
    "editable": true
   },
   "outputs": [],
   "source": []
  }
 ],
 "metadata": {
  "kernelspec": {
   "display_name": "SageMath 8.1",
   "language": "",
   "name": "sagemath"
  },
  "language_info": {
   "codemirror_mode": {
    "name": "ipython",
    "version": 2
   },
   "file_extension": ".py",
   "mimetype": "text/x-python",
   "name": "python",
   "nbconvert_exporter": "python",
   "pygments_lexer": "ipython2",
   "version": "2.7.14"
  }
 },
 "nbformat": 4,
 "nbformat_minor": 2
}
