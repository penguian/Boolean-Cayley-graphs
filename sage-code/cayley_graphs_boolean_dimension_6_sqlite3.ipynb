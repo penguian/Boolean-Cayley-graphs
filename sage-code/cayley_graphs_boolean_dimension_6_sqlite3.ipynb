{
 "cells": [
  {
   "cell_type": "markdown",
   "metadata": {},
   "source": [
    "# Cayley graphs of binary bent functions of dimension 6."
   ]
  },
  {
   "cell_type": "markdown",
   "metadata": {},
   "source": [
    "Import the required modules."
   ]
  },
  {
   "cell_type": "code",
   "execution_count": 1,
   "metadata": {},
   "outputs": [],
   "source": [
    "import os\n",
    "import sqlite3\n",
    "\n",
    "from boolean_cayley_graphs.bent_function import BentFunction\n",
    "from boolean_cayley_graphs.classification_database_sqlite3 import *\n",
    "from boolean_cayley_graphs.bent_function_cayley_graph_classification import BentFunctionCayleyGraphClassification"
   ]
  },
  {
   "cell_type": "markdown",
   "metadata": {},
   "source": [
    "Connect to the database that contains the classifications of bent functions in 6 dimensions."
   ]
  },
  {
   "cell_type": "code",
   "execution_count": 2,
   "metadata": {},
   "outputs": [],
   "source": [
    "conn = connect_to_database(os.path.join(\"..\",\"db\",\"p6.db\"))"
   ]
  },
  {
   "cell_type": "markdown",
   "metadata": {},
   "source": [
    "Create a list `c` for the classifications."
   ]
  },
  {
   "cell_type": "code",
   "execution_count": 3,
   "metadata": {},
   "outputs": [],
   "source": [
    "c = [None] * 5"
   ]
  },
  {
   "cell_type": "markdown",
   "metadata": {},
   "source": [
    "Set `c` to be the list of classifications for dimension 6, starting from 1, by retrieving these by name. `c[0]` is `None`."
   ]
  },
  {
   "cell_type": "code",
   "execution_count": 4,
   "metadata": {},
   "outputs": [
    {
     "name": "stdout",
     "output_type": "stream",
     "text": [
      "1\n",
      "2\n",
      "3\n",
      "4\n"
     ]
    }
   ],
   "source": [
    "for i in range(1,5):\n",
    "    print i\n",
    "    name = \"p6_\"+str(i)\n",
    "    c[i] = select_classification_where_name(conn, name)"
   ]
  },
  {
   "cell_type": "markdown",
   "metadata": {},
   "source": [
    "Display the length of c, the list of classifications."
   ]
  },
  {
   "cell_type": "code",
   "execution_count": 5,
   "metadata": {},
   "outputs": [
    {
     "data": {
      "text/plain": [
       "5"
      ]
     },
     "execution_count": 5,
     "metadata": {},
     "output_type": "execute_result"
    }
   ],
   "source": [
    "len(c)"
   ]
  },
  {
   "cell_type": "markdown",
   "metadata": {},
   "source": [
    "Verify that `c[0]` is `None`."
   ]
  },
  {
   "cell_type": "code",
   "execution_count": 6,
   "metadata": {},
   "outputs": [
    {
     "name": "stdout",
     "output_type": "stream",
     "text": [
      "None\n"
     ]
    }
   ],
   "source": [
    "print c[0]"
   ]
  },
  {
   "cell_type": "markdown",
   "metadata": {},
   "source": [
    "Print the algebraic normal form of the bent function corresponding to `c[1]`."
   ]
  },
  {
   "cell_type": "code",
   "execution_count": 7,
   "metadata": {},
   "outputs": [
    {
     "data": {
      "text/plain": [
       "x0*x1 + x2*x3 + x4*x5"
      ]
     },
     "execution_count": 7,
     "metadata": {},
     "output_type": "execute_result"
    }
   ],
   "source": [
    "c[1].algebraic_normal_form"
   ]
  },
  {
   "cell_type": "markdown",
   "metadata": {},
   "source": [
    "Produce a report on the classification `c[1]`."
   ]
  },
  {
   "cell_type": "code",
   "execution_count": 8,
   "metadata": {},
   "outputs": [
    {
     "name": "stdout",
     "output_type": "stream",
     "text": [
      "Algebraic normal form of Boolean function: x0*x1 + x2*x3 + x4*x5\n",
      "Function is bent.\n",
      "\n",
      "\n",
      "SDP design incidence structure t-design parameters: (True, (2, 64, 28, 12))\n",
      "\n",
      "Classification of Cayley graphs and classification of Cayley graphs of duals are the same:\n",
      "\n",
      "There are 2 extended Cayley classes in the extended translation class.\n",
      "\n",
      "For each extended Cayley class in the extended translation class:\n",
      "Clique polynomial, strongly regular parameters, rank, and order of a representative graph; and\n",
      "linear code and generator matrix for a representative bent function:\n",
      "\n",
      "EC class 0 :\n",
      "Algebraic normal form of representative: x0*x1 + x2*x3 + x4*x5\n",
      "Clique polynomial: 64*t^8 + 512*t^7 + 1792*t^6 + 3584*t^5 + 5376*t^4 + 3584*t^3 + 896*t^2 + 64*t + 1\n",
      "Strongly regular parameters: (64, 28, 12, 12)\n",
      "Rank: 8 Order: 2580480\n",
      "\n",
      "Linear code from representative:\n",
      "[28, 6] linear code over GF(2)\n",
      "Generator matrix:\n",
      "[1 0 0 0 0 1 0 1 1 1 1 0 0 1 1 1 1 0 0 0 1 1 1 0 1 1 0 1]\n",
      "[0 1 0 1 0 0 0 1 0 1 0 0 0 1 0 1 0 0 0 1 1 1 0 0 0 1 1 1]\n",
      "[0 0 1 1 0 0 0 0 1 1 0 0 0 0 1 1 0 0 0 1 1 0 1 1 1 0 0 1]\n",
      "[0 0 0 0 1 1 0 0 0 0 1 1 0 0 0 0 1 1 0 1 1 0 1 1 0 1 1 0]\n",
      "[0 0 0 0 0 0 1 1 1 1 1 1 0 0 0 0 0 0 1 1 1 1 1 1 1 1 1 1]\n",
      "[0 0 0 0 0 0 0 0 0 0 0 0 1 1 1 1 1 1 1 1 1 1 1 1 1 1 1 1]\n",
      "Linear code is projective.\n",
      "Weight distribution: {0: 1, 16: 35, 12: 28}\n",
      "\n",
      "EC class 1 :\n",
      "Algebraic normal form of representative: x0*x1 + x0 + x1 + x2*x3 + x4*x5\n",
      "Clique polynomial: 2304*t^6 + 13824*t^5 + 19200*t^4 + 7680*t^3 + 1152*t^2 + 64*t + 1\n",
      "Strongly regular parameters: (64, 36, 20, 20)\n",
      "Rank: 8 Order: 3317760\n",
      "\n",
      "Linear code from representative:\n",
      "[36, 6] linear code over GF(2)\n",
      "Generator matrix:\n",
      "[1 0 1 0 1 0 0 1 0 0 0 1 0 1 0 1 1 0 1 1 0 1 0 1 0 1 1 0 1 1 0 1 1 1 0 1]\n",
      "[0 1 1 0 1 1 0 1 1 0 0 1 1 0 1 1 0 1 1 0 0 1 1 0 1 1 0 1 1 0 0 0 0 0 1 1]\n",
      "[0 0 0 1 1 1 0 0 0 1 0 0 0 1 1 1 0 0 0 1 0 0 0 1 1 1 0 0 0 1 0 1 0 1 1 1]\n",
      "[0 0 0 0 0 0 1 1 1 1 0 0 0 0 0 0 1 1 1 1 0 0 0 0 0 0 1 1 1 1 0 0 1 1 1 1]\n",
      "[0 0 0 0 0 0 0 0 0 0 1 1 1 1 1 1 1 1 1 1 0 0 0 0 0 0 0 0 0 0 1 1 1 1 1 1]\n",
      "[0 0 0 0 0 0 0 0 0 0 0 0 0 0 0 0 0 0 0 0 1 1 1 1 1 1 1 1 1 1 1 1 1 1 1 1]\n",
      "Linear code is projective.\n",
      "Weight distribution: {0: 1, 16: 27, 20: 36}\n"
     ]
    }
   ],
   "source": [
    "c[1].report(report_on_graph_details=True)"
   ]
  },
  {
   "cell_type": "markdown",
   "metadata": {},
   "source": [
    "Produce a matrix plot of the `weight_class_matrix`."
   ]
  },
  {
   "cell_type": "code",
   "execution_count": 9,
   "metadata": {},
   "outputs": [
    {
     "data": {
      "image/png": "[encoded data removed]",
      "text/plain": [
       "Graphics object consisting of 1 graphics primitive"
      ]
     },
     "execution_count": 9,
     "metadata": {},
     "output_type": "execute_result"
    }
   ],
   "source": [
    "matrix_plot(c[1].weight_class_matrix,cmap='gist_stern')"
   ]
  },
  {
   "cell_type": "markdown",
   "metadata": {},
   "source": [
    "Produce a matrix plot of `bent_cayley_graph_index_matrix`, the matrix of indices of extended Cayley classes within the extended translation class."
   ]
  },
  {
   "cell_type": "code",
   "execution_count": 10,
   "metadata": {},
   "outputs": [
    {
     "data": {
      "image/png": "[encoded data removed]",
      "text/plain": [
       "Graphics object consisting of 1 graphics primitive"
      ]
     },
     "execution_count": 10,
     "metadata": {},
     "output_type": "execute_result"
    }
   ],
   "source": [
    "matrix_plot(c[1].bent_cayley_graph_index_matrix,cmap='gist_stern')"
   ]
  },
  {
   "cell_type": "markdown",
   "metadata": {},
   "source": [
    "Print the algebraic normal form of the bent function corresponding to `c[2]`."
   ]
  },
  {
   "cell_type": "code",
   "execution_count": 11,
   "metadata": {},
   "outputs": [
    {
     "data": {
      "text/plain": [
       "x0*x1*x2 + x0*x3 + x1*x4 + x2*x5"
      ]
     },
     "execution_count": 11,
     "metadata": {},
     "output_type": "execute_result"
    }
   ],
   "source": [
    "c[2].algebraic_normal_form"
   ]
  },
  {
   "cell_type": "markdown",
   "metadata": {},
   "source": [
    "Produce a report on the classification `c[2]`."
   ]
  },
  {
   "cell_type": "code",
   "execution_count": 12,
   "metadata": {},
   "outputs": [
    {
     "name": "stdout",
     "output_type": "stream",
     "text": [
      "Algebraic normal form of Boolean function: x0*x1*x2 + x0*x3 + x1*x4 + x2*x5\n",
      "Function is bent.\n",
      "\n",
      "\n",
      "SDP design incidence structure t-design parameters: (True, (2, 64, 28, 12))\n",
      "\n",
      "Classification of Cayley graphs and classification of Cayley graphs of duals are the same:\n",
      "\n",
      "There are 3 extended Cayley classes in the extended translation class.\n",
      "\n",
      "For each extended Cayley class in the extended translation class:\n",
      "Clique polynomial, strongly regular parameters, rank, and order of a representative graph; and\n",
      "linear code and generator matrix for a representative bent function:\n",
      "\n",
      "EC class 0 :\n",
      "Algebraic normal form of representative: x0*x1*x2 + x0*x3 + x1*x4 + x2*x5\n",
      "Clique polynomial: 64*t^8 + 512*t^7 + 1792*t^6 + 3584*t^5 + 5376*t^4 + 3584*t^3 + 896*t^2 + 64*t + 1\n",
      "Strongly regular parameters: (64, 28, 12, 12)\n",
      "Rank: 8 Order: 2580480\n",
      "\n",
      "Linear code from representative:\n",
      "[28, 6] linear code over GF(2)\n",
      "Generator matrix:\n",
      "[1 0 0 0 0 1 0 0 1 0 1 0 0 1 0 0 0 1 1 0 0 1 0 1 1 0 1 1]\n",
      "[0 1 0 0 0 0 1 0 1 1 0 0 0 0 1 0 1 1 0 0 1 1 1 1 0 1 0 0]\n",
      "[0 0 1 0 0 1 0 1 1 1 1 0 0 1 1 0 1 1 0 1 0 1 1 0 1 1 1 0]\n",
      "[0 0 0 1 0 1 1 0 1 1 0 1 0 1 0 1 1 1 1 0 1 0 0 1 1 1 0 1]\n",
      "[0 0 0 0 1 1 1 1 1 1 1 1 0 0 0 0 0 0 0 0 1 1 1 1 1 1 1 1]\n",
      "[0 0 0 0 0 0 0 0 0 0 0 0 1 1 1 1 1 1 1 1 1 1 1 1 1 1 1 1]\n",
      "Linear code is projective.\n",
      "Weight distribution: {0: 1, 16: 35, 12: 28}\n",
      "\n",
      "EC class 1 :\n",
      "Algebraic normal form of representative: x0*x1*x2 + x0*x3 + x1*x2 + x1*x4 + x2*x5 + x3\n",
      "Clique polynomial: 256*t^6 + 1536*t^5 + 4352*t^4 + 3584*t^3 + 896*t^2 + 64*t + 1\n",
      "Strongly regular parameters: (64, 28, 12, 12)\n",
      "Rank: 8 Order: 24576\n",
      "\n",
      "Linear code from representative:\n",
      "[28, 6] linear code over GF(2)\n",
      "Generator matrix:\n",
      "[1 0 0 1 0 0 1 0 0 1 1 1 0 0 0 1 1 0 0 0 1 1 0 0 0 1 1 0]\n",
      "[0 1 0 0 0 0 1 0 1 1 0 0 0 0 1 0 1 1 0 0 1 1 1 1 0 1 0 0]\n",
      "[0 0 1 1 0 0 1 1 0 0 1 1 0 0 1 1 0 0 1 1 1 1 1 1 0 0 1 1]\n",
      "[0 0 0 0 1 0 0 1 0 1 1 0 0 1 1 0 0 1 0 1 1 0 1 0 1 1 0 0]\n",
      "[0 0 0 0 0 1 1 0 1 0 0 1 0 1 1 0 0 1 0 1 0 1 0 1 0 0 1 1]\n",
      "[0 0 0 0 0 0 0 0 0 0 0 0 1 1 1 1 1 1 1 1 1 1 1 1 1 1 1 1]\n",
      "Linear code is projective.\n",
      "Weight distribution: {0: 1, 16: 35, 12: 28}\n",
      "\n",
      "EC class 2 :\n",
      "Algebraic normal form of representative: x0*x1*x2 + x0*x1 + x0*x2 + x0*x3 + x0 + x1*x2 + x1*x4 + x1 + x2*x5 + x2 + x3 + x4 + x5\n",
      "Clique polynomial: 192*t^8 + 1536*t^7 + 8960*t^6 + 19968*t^5 + 20224*t^4 + 7680*t^3 + 1152*t^2 + 64*t + 1\n",
      "Strongly regular parameters: (64, 36, 20, 20)\n",
      "Rank: 8 Order: 73728\n",
      "\n",
      "Linear code from representative:\n",
      "[36, 6] linear code over GF(2)\n",
      "Generator matrix:\n",
      "[1 0 1 0 1 0 1 0 1 1 1 1 0 0 1 0 1 1 0 1 0 0 1 0 1 0 1 1 1 0 1 0 1 0 0 1]\n",
      "[0 1 1 0 0 1 1 0 0 1 0 1 0 1 1 1 1 1 0 1 0 0 0 1 1 1 0 1 0 1 1 0 0 1 0 1]\n",
      "[0 0 0 1 1 1 1 0 0 0 1 1 0 0 0 1 1 0 1 1 0 1 1 1 1 0 1 1 0 1 1 0 0 0 1 1]\n",
      "[0 0 0 0 0 0 0 1 1 1 1 1 0 0 0 0 0 1 1 1 0 0 0 0 0 1 1 1 0 0 0 1 1 1 1 1]\n",
      "[0 0 0 0 0 0 0 0 0 0 0 0 1 1 1 1 1 1 1 1 0 0 0 0 0 0 0 0 1 1 1 1 1 1 1 1]\n",
      "[0 0 0 0 0 0 0 0 0 0 0 0 0 0 0 0 0 0 0 0 1 1 1 1 1 1 1 1 1 1 1 1 1 1 1 1]\n",
      "Linear code is projective.\n",
      "Weight distribution: {0: 1, 16: 27, 20: 36}\n"
     ]
    }
   ],
   "source": [
    "c[2].report(report_on_graph_details=True)"
   ]
  },
  {
   "cell_type": "markdown",
   "metadata": {},
   "source": [
    "Produce a matrix plot of the `weight_class_matrix`."
   ]
  },
  {
   "cell_type": "code",
   "execution_count": 13,
   "metadata": {},
   "outputs": [
    {
     "data": {
      "image/png": "[encoded data removed]",
      "text/plain": [
       "Graphics object consisting of 1 graphics primitive"
      ]
     },
     "execution_count": 13,
     "metadata": {},
     "output_type": "execute_result"
    }
   ],
   "source": [
    "matrix_plot(c[2].weight_class_matrix,cmap='gist_stern')"
   ]
  },
  {
   "cell_type": "markdown",
   "metadata": {},
   "source": [
    "Produce a matrix plot of `bent_cayley_graph_index_matrix`, the matrix of indices of extended Cayley classes within the extended translation class."
   ]
  },
  {
   "cell_type": "code",
   "execution_count": 14,
   "metadata": {},
   "outputs": [
    {
     "data": {
      "image/png": "[encoded data removed]",
      "text/plain": [
       "Graphics object consisting of 1 graphics primitive"
      ]
     },
     "execution_count": 14,
     "metadata": {},
     "output_type": "execute_result"
    }
   ],
   "source": [
    "matrix_plot(c[2].bent_cayley_graph_index_matrix,cmap='gist_stern')"
   ]
  },
  {
   "cell_type": "markdown",
   "metadata": {},
   "source": [
    "Print the algebraic normal form of the bent function corresponding to `c[3]`."
   ]
  },
  {
   "cell_type": "code",
   "execution_count": 15,
   "metadata": {},
   "outputs": [
    {
     "data": {
      "text/plain": [
       "x0*x1*x2 + x0*x1 + x0*x3 + x1*x3*x4 + x1*x5 + x2*x4 + x3*x4"
      ]
     },
     "execution_count": 15,
     "metadata": {},
     "output_type": "execute_result"
    }
   ],
   "source": [
    "c[3].algebraic_normal_form"
   ]
  },
  {
   "cell_type": "markdown",
   "metadata": {},
   "source": [
    "Produce a report on the classification `c[3]`."
   ]
  },
  {
   "cell_type": "code",
   "execution_count": 16,
   "metadata": {},
   "outputs": [
    {
     "name": "stdout",
     "output_type": "stream",
     "text": [
      "Algebraic normal form of Boolean function: x0*x1*x2 + x0*x1 + x0*x3 + x1*x3*x4 + x1*x5 + x2*x4 + x3*x4\n",
      "Function is bent.\n",
      "\n",
      "\n",
      "SDP design incidence structure t-design parameters: (True, (2, 64, 28, 12))\n",
      "\n",
      "Classification of Cayley graphs and classification of Cayley graphs of duals are the same:\n",
      "\n",
      "There are 4 extended Cayley classes in the extended translation class.\n"
     ]
    }
   ],
   "source": [
    "c[3].report()"
   ]
  },
  {
   "cell_type": "markdown",
   "metadata": {},
   "source": [
    "Produce a matrix plot of the `weight_class_matrix`."
   ]
  },
  {
   "cell_type": "code",
   "execution_count": 17,
   "metadata": {},
   "outputs": [
    {
     "data": {
      "image/png": "[encoded data removed]",
      "text/plain": [
       "Graphics object consisting of 1 graphics primitive"
      ]
     },
     "execution_count": 17,
     "metadata": {},
     "output_type": "execute_result"
    }
   ],
   "source": [
    "matrix_plot(c[3].weight_class_matrix,cmap='gist_stern')"
   ]
  },
  {
   "cell_type": "markdown",
   "metadata": {},
   "source": [
    "Produce a matrix plot of `bent_cayley_graph_index_matrix`, the matrix of indices of extended Cayley classes within the extended translation class."
   ]
  },
  {
   "cell_type": "code",
   "execution_count": 18,
   "metadata": {},
   "outputs": [
    {
     "data": {
      "image/png": "[encoded data removed]",
      "text/plain": [
       "Graphics object consisting of 1 graphics primitive"
      ]
     },
     "execution_count": 18,
     "metadata": {},
     "output_type": "execute_result"
    }
   ],
   "source": [
    "matrix_plot(c[3].bent_cayley_graph_index_matrix,cmap='gist_stern')"
   ]
  },
  {
   "cell_type": "markdown",
   "metadata": {},
   "source": [
    "Print the algebraic normal form of the bent function corresponding to `c[4]`."
   ]
  },
  {
   "cell_type": "code",
   "execution_count": 19,
   "metadata": {},
   "outputs": [
    {
     "data": {
      "text/plain": [
       "x0*x1*x2 + x0*x3 + x1*x3*x4 + x1*x5 + x2*x3*x5 + x2*x3 + x2*x4 + x2*x5 + x3*x4 + x3*x5"
      ]
     },
     "execution_count": 19,
     "metadata": {},
     "output_type": "execute_result"
    }
   ],
   "source": [
    "c[4].algebraic_normal_form"
   ]
  },
  {
   "cell_type": "markdown",
   "metadata": {},
   "source": [
    "Produce a report on the classification `c[4]`."
   ]
  },
  {
   "cell_type": "code",
   "execution_count": 20,
   "metadata": {},
   "outputs": [
    {
     "name": "stdout",
     "output_type": "stream",
     "text": [
      "Algebraic normal form of Boolean function: x0*x1*x2 + x0*x3 + x1*x3*x4 + x1*x5 + x2*x3*x5 + x2*x3 + x2*x4 + x2*x5 + x3*x4 + x3*x5\n",
      "Function is bent.\n",
      "\n",
      "\n",
      "SDP design incidence structure t-design parameters: (True, (2, 64, 28, 12))\n",
      "\n",
      "Classification of Cayley graphs and classification of Cayley graphs of duals are the same:\n",
      "\n",
      "There are 3 extended Cayley classes in the extended translation class.\n"
     ]
    }
   ],
   "source": [
    "c[4].report()"
   ]
  },
  {
   "cell_type": "markdown",
   "metadata": {},
   "source": [
    "Produce a matrix plot of the `weight_class_matrix`."
   ]
  },
  {
   "cell_type": "code",
   "execution_count": 21,
   "metadata": {},
   "outputs": [
    {
     "data": {
      "image/png": "[encoded data removed]",
      "text/plain": [
       "Graphics object consisting of 1 graphics primitive"
      ]
     },
     "execution_count": 21,
     "metadata": {},
     "output_type": "execute_result"
    }
   ],
   "source": [
    "matrix_plot(c[4].weight_class_matrix,cmap='gist_stern')"
   ]
  },
  {
   "cell_type": "markdown",
   "metadata": {},
   "source": [
    "Produce a matrix plot of `bent_cayley_graph_index_matrix`, the matrix of indices of extended Cayley classes within the extended translation class."
   ]
  },
  {
   "cell_type": "code",
   "execution_count": 22,
   "metadata": {},
   "outputs": [
    {
     "data": {
      "image/png": "[encoded data removed]",
      "text/plain": [
       "Graphics object consisting of 1 graphics primitive"
      ]
     },
     "execution_count": 22,
     "metadata": {},
     "output_type": "execute_result"
    }
   ],
   "source": [
    "matrix_plot(c[4].bent_cayley_graph_index_matrix,cmap='gist_stern')"
   ]
  },
  {
   "cell_type": "markdown",
   "metadata": {},
   "source": [
    "Now use an SQL on the database to determine which extended Cayley classes are repeated between extended translation classes."
   ]
  },
  {
   "cell_type": "code",
   "execution_count": 23,
   "metadata": {},
   "outputs": [
    {
     "name": "stdout",
     "output_type": "stream",
     "text": [
      "p6_1 0 1 2304 \n",
      "p6_2 0 1 512 \n"
     ]
    }
   ],
   "source": [
    "curs = conn.cursor()\n",
    "curs.execute(\"\"\"\n",
    "select name, cayley_graph_index, graph_id, count(*)\n",
    "from matrices, (\n",
    "    select name, bent_function, cayley_graph_index, graph_id\n",
    "    from (\n",
    "        select graph_id\n",
    "        from cayley_graph\n",
    "        group by graph_id\n",
    "        having count (graph_id) > 1 ) as repeats\n",
    "    natural join cayley_graph\n",
    "    natural join bent_function )\n",
    "as repeats_with_counts\n",
    "where matrices.bent_function = repeats_with_counts.bent_function\n",
    "and matrices.bent_cayley_graph_index = repeats_with_counts.cayley_graph_index\n",
    "group by name, cayley_graph_index, graph_id\n",
    "order by graph_id\n",
    "\"\"\")\n",
    "for row in curs:\n",
    "    for x in row:\n",
    "        print x,\n",
    "    print \"\""
   ]
  },
  {
   "cell_type": "markdown",
   "metadata": {},
   "source": [
    "We see that extended Cayley class 0 occurs in both extended translation class 1 (2304 Cayley graphs) and extended translation class 2 (512 Cayley graphs)."
   ]
  },
  {
   "cell_type": "markdown",
   "metadata": {},
   "source": [
    "Close the connection to the database, as we no longer need it."
   ]
  },
  {
   "cell_type": "code",
   "execution_count": 24,
   "metadata": {},
   "outputs": [],
   "source": [
    "conn.close()"
   ]
  },
  {
   "cell_type": "markdown",
   "metadata": {},
   "source": [
    "Now take a look at binary projective two weight codes relevant to dimension 6.\n",
    "References: Tonchev 1996, Tonchev 2006."
   ]
  },
  {
   "cell_type": "code",
   "execution_count": 25,
   "metadata": {},
   "outputs": [],
   "source": [
    "from sage.graphs.strongly_regular_db import strongly_regular_from_two_weight_code\n",
    "\n",
    "from boolean_cayley_graphs.binary_projective_two_weight_codes import *"
   ]
  },
  {
   "cell_type": "code",
   "execution_count": 26,
   "metadata": {},
   "outputs": [],
   "source": [
    "def linear_code_from_gen_tuple(gen_tuple):\n",
    "    gen_matrix = matrix(GF(2),[list(row) for row in gen_tuple])\n",
    "    return LinearCode(gen_matrix)"
   ]
  },
  {
   "cell_type": "code",
   "execution_count": 27,
   "metadata": {},
   "outputs": [],
   "source": [
    "gens_27_6_12 = binary_projective_two_weight_27_6_12()"
   ]
  },
  {
   "cell_type": "code",
   "execution_count": 28,
   "metadata": {},
   "outputs": [],
   "source": [
    "code_27_6_12 = [linear_code_from_gen_tuple(gen_tuple) for gen_tuple in gens_27_6_12]"
   ]
  },
  {
   "cell_type": "code",
   "execution_count": 29,
   "metadata": {},
   "outputs": [],
   "source": [
    "srg_27_6_12 = [strongly_regular_from_two_weight_code(code).canonical_label().graph6_string() for code in code_27_6_12]"
   ]
  },
  {
   "cell_type": "code",
   "execution_count": 30,
   "metadata": {},
   "outputs": [
    {
     "name": "stdout",
     "output_type": "stream",
     "text": [
      "[]\n"
     ]
    }
   ],
   "source": [
    "print [((i,j),k)\n",
    "       for i in range(1,len(c))\n",
    "       for j in range(len(c[i].cayley_graph_class_list)) \n",
    "       for k in range(len(srg_27_6_12)) \n",
    "       if c[i].cayley_graph_class_list[j] == srg_27_6_12[k]]"
   ]
  },
  {
   "cell_type": "code",
   "execution_count": 31,
   "metadata": {},
   "outputs": [],
   "source": [
    "gens_35_6_16 = binary_projective_two_weight_35_6_16()"
   ]
  },
  {
   "cell_type": "code",
   "execution_count": 32,
   "metadata": {},
   "outputs": [],
   "source": [
    "code_35_6_16 = [linear_code_from_gen_tuple(gen_tuple) for gen_tuple in gens_35_6_16]"
   ]
  },
  {
   "cell_type": "code",
   "execution_count": 33,
   "metadata": {},
   "outputs": [],
   "source": [
    "srg_35_6_16 = [strongly_regular_from_two_weight_code(code).complement().canonical_label().graph6_string() for code in code_35_6_16]"
   ]
  },
  {
   "cell_type": "code",
   "execution_count": 34,
   "metadata": {},
   "outputs": [
    {
     "name": "stdout",
     "output_type": "stream",
     "text": [
      "[]\n"
     ]
    }
   ],
   "source": [
    "print [((i,j),k)\n",
    "       for i in range(1,len(c))\n",
    "       for j in range(len(c[i].cayley_graph_class_list)) \n",
    "       for k in range(len(srg_35_6_16)) \n",
    "       if c[i].cayley_graph_class_list[j] == srg_35_6_16[k]]"
   ]
  },
  {
   "cell_type": "code",
   "execution_count": null,
   "metadata": {},
   "outputs": [],
   "source": []
  }
 ],
 "metadata": {
  "kernelspec": {
   "display_name": "SageMath 8.9",
   "language": "sage",
   "name": "sagemath"
  },
  "language_info": {
   "codemirror_mode": {
    "name": "ipython",
    "version": 2
   },
   "file_extension": ".py",
   "mimetype": "text/x-python",
   "name": "python",
   "nbconvert_exporter": "python",
   "pygments_lexer": "ipython2",
   "version": "2.7.15"
  }
 },
 "nbformat": 4,
 "nbformat_minor": 1
}
