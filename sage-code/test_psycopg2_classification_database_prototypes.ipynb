{
 "cells": [
  {
   "cell_type": "code",
   "execution_count": 1,
   "metadata": {
    "collapsed": false,
    "deletable": true,
    "editable": true
   },
   "outputs": [],
   "source": [
    "import datetime\n",
    "import psycopg2\n",
    "\n",
    "from boolean_cayley_graphs.bent_function import BentFunction\n",
    "from boolean_cayley_graphs.classification_database_psycopg2 import *\n",
    "from boolean_cayley_graphs.bent_function_cayley_graph_classification import BentFunctionCayleyGraphClassification"
   ]
  },
  {
   "cell_type": "code",
   "execution_count": 4,
   "metadata": {
    "collapsed": false
   },
   "outputs": [],
   "source": [
    "def drop_database(db_name):\n",
    "    conn = psycopg2.connect(dbname=\"postgres\")\n",
    "    conn.set_isolation_level(ISOLATION_LEVEL_AUTOCOMMIT)\n",
    "    curs = conn.cursor()\n",
    "    curs.execute(\n",
    "        \"DROP DATABASE \" + db_name)\n",
    "    conn.commit()\n",
    "drop_database('test_p6')"
   ]
  },
  {
   "cell_type": "code",
   "execution_count": 5,
   "metadata": {
    "collapsed": false,
    "deletable": true,
    "editable": true
   },
   "outputs": [],
   "source": [
    "conn = create_database('test_p6')\n",
    "conn = create_classification_tables('test_p6')"
   ]
  },
  {
   "cell_type": "code",
   "execution_count": 6,
   "metadata": {
    "collapsed": false,
    "deletable": true,
    "editable": true
   },
   "outputs": [
    {
     "name": "stdout",
     "output_type": "stream",
     "text": [
      "1\n",
      "2\n",
      "3\n",
      "4\n"
     ]
    }
   ],
   "source": [
    "for i in range(1,5):\n",
    "    print i\n",
    "    name = \"p6_\"+str(i)\n",
    "    cgc = BentFunctionCayleyGraphClassification.load_mangled(name + \".sobj\")\n",
    "    insert_classification(conn, cgc, name)"
   ]
  },
  {
   "cell_type": "code",
   "execution_count": 7,
   "metadata": {
    "collapsed": false,
    "deletable": true,
    "editable": true
   },
   "outputs": [
    {
     "name": "stdout",
     "output_type": "stream",
     "text": [
      "Algebraic normal form of Boolean function: x0*x1*x2 + x0*x3 + x1*x3*x4 + x1*x5 + x2*x3*x5 + x2*x3 + x2*x4 + x2*x5 + x3*x4 + x3*x5\n",
      "Function is bent.\n",
      "\n",
      "Weight class matrix:\n",
      "64 x 64 dense matrix over Integer Ring\n",
      "\n",
      "SDP design incidence structure t-design parameters: (True, (2, 64, 28, 12))\n",
      "\n",
      "Classification of Cayley graphs and classification of Cayley graphs of duals are the same:\n",
      "\n",
      "There are 3 extended Cayley classes in the extended translation class.\n",
      "\n",
      "Matrix of indices of Cayley graphs:\n",
      "64 x 64 dense matrix over Integer Ring\n"
     ]
    }
   ],
   "source": [
    "cgc.report()"
   ]
  },
  {
   "cell_type": "code",
   "execution_count": 8,
   "metadata": {
    "collapsed": false,
    "deletable": true,
    "editable": true
   },
   "outputs": [
    {
     "name": "stdout",
     "output_type": "stream",
     "text": [
      "Algebraic normal form of Boolean function: x0*x1*x2 + x0*x3 + x1*x3*x4 + x1*x5 + x2*x3*x5 + x2*x3 + x2*x4 + x2*x5 + x3*x4 + x3*x5\n",
      "Function is bent.\n",
      "\n",
      "Weight class matrix:\n",
      "64 x 64 dense matrix over Integer Ring\n",
      "\n",
      "SDP design incidence structure t-design parameters: (True, (2, 64, 28, 12))\n",
      "\n",
      "Classification of Cayley graphs and classification of Cayley graphs of duals are the same:\n",
      "\n",
      "There are 3 extended Cayley classes in the extended translation class.\n",
      "\n",
      "Matrix of indices of Cayley graphs:\n",
      "64 x 64 dense matrix over Integer Ring\n"
     ]
    }
   ],
   "source": [
    "bentf = BentFunction(cgc.algebraic_normal_form)\n",
    "c = select_classification_where_bent_function(conn, bentf)\n",
    "c.report()"
   ]
  },
  {
   "cell_type": "code",
   "execution_count": 9,
   "metadata": {
    "collapsed": false,
    "deletable": true,
    "editable": true
   },
   "outputs": [
    {
     "name": "stdout",
     "output_type": "stream",
     "text": [
      "Algebraic normal form of Boolean function: x0*x1 + x2*x3 + x4*x5\n",
      "Function is bent.\n",
      "\n",
      "Weight class matrix:\n",
      "64 x 64 dense matrix over Integer Ring\n",
      "\n",
      "SDP design incidence structure t-design parameters: (True, (2, 64, 28, 12))\n",
      "\n",
      "Classification of Cayley graphs and classification of Cayley graphs of duals are the same:\n",
      "\n",
      "There are 2 extended Cayley classes in the extended translation class.\n",
      "\n",
      "Matrix of indices of Cayley graphs:\n",
      "64 x 64 dense matrix over Integer Ring\n"
     ]
    }
   ],
   "source": [
    "c = select_classification_where_name(conn, \"p6_1\")\n",
    "c.report()"
   ]
  },
  {
   "cell_type": "code",
   "execution_count": 11,
   "metadata": {
    "collapsed": false,
    "deletable": true,
    "editable": true
   },
   "outputs": [
    {
     "name": "stdout",
     "output_type": "stream",
     "text": [
      "2017-12-01 23:59:29.081892 before\n",
      "2017-12-01 23:59:29.082920 after\n",
      "12\n"
     ]
    }
   ],
   "source": [
    "curs = conn.cursor()\n",
    "print datetime.datetime.now(), \"before\"\n",
    "curs.execute(\"SELECT COUNT(graph_id) FROM cayley_graph\")\n",
    "print datetime.datetime.now(), \"after\"\n",
    "for row in curs:\n",
    "    for x in row:\n",
    "        print x"
   ]
  },
  {
   "cell_type": "code",
   "execution_count": 12,
   "metadata": {
    "collapsed": false,
    "deletable": true,
    "editable": true
   },
   "outputs": [
    {
     "name": "stdout",
     "output_type": "stream",
     "text": [
      "2017-12-01 23:59:35.941487 before\n",
      "2017-12-01 23:59:35.942259 after\n",
      "11\n"
     ]
    }
   ],
   "source": [
    "print datetime.datetime.now(), \"before\"\n",
    "curs.execute(\"SELECT COUNT(graph_id) FROM graph\")\n",
    "print datetime.datetime.now(), \"after\"\n",
    "for row in curs:\n",
    "    for x in row:\n",
    "        print x"
   ]
  },
  {
   "cell_type": "code",
   "execution_count": 13,
   "metadata": {
    "collapsed": true,
    "deletable": true,
    "editable": true
   },
   "outputs": [],
   "source": [
    "conn.close()"
   ]
  },
  {
   "cell_type": "code",
   "execution_count": 14,
   "metadata": {
    "collapsed": false,
    "deletable": true,
    "editable": true
   },
   "outputs": [],
   "source": [
    "conn = create_database('test_p8')\n",
    "conn = create_classification_tables('test_p8')"
   ]
  },
  {
   "cell_type": "code",
   "execution_count": 15,
   "metadata": {
    "collapsed": false,
    "deletable": true,
    "editable": true
   },
   "outputs": [
    {
     "name": "stdout",
     "output_type": "stream",
     "text": [
      "2017-12-02 00:00:16.233585 1\n",
      "2017-12-02 00:00:30.324066 2\n",
      "2017-12-02 00:00:44.407413 3\n",
      "2017-12-02 00:00:58.714494 4\n",
      "2017-12-02 00:01:12.990717 5\n",
      "2017-12-02 00:01:27.215516 6\n",
      "2017-12-02 00:01:41.490038 7\n",
      "2017-12-02 00:01:55.771747 8\n",
      "2017-12-02 00:02:10.113020 9\n",
      "2017-12-02 00:02:23.803700 10\n",
      "2017-12-02 00:02:37.804279\n"
     ]
    }
   ],
   "source": [
    "for i in range(1,11):\n",
    "    name = \"p8_\"+str(i)\n",
    "    cgc = BentFunctionCayleyGraphClassification.load_mangled(name + \".sobj\")\n",
    "    print datetime.datetime.now(), i\n",
    "    insert_classification(conn, cgc, name)\n",
    "print datetime.datetime.now()"
   ]
  },
  {
   "cell_type": "code",
   "execution_count": 16,
   "metadata": {
    "collapsed": false,
    "deletable": true,
    "editable": true
   },
   "outputs": [
    {
     "name": "stdout",
     "output_type": "stream",
     "text": [
      "Algebraic normal form of Boolean function: x0*x1*x2 + x0*x6 + x1*x3*x4 + x1*x4 + x1*x5 + x2*x3*x5 + x2*x4 + x3*x7\n",
      "Function is bent.\n",
      "\n",
      "Weight class matrix:\n",
      "256 x 256 dense matrix over Integer Ring\n",
      "\n",
      "SDP design incidence structure t-design parameters: (True, (2, 256, 120, 56))\n",
      "\n",
      "Classification of Cayley graphs and classification of Cayley graphs of duals are the same:\n",
      "\n",
      "There are 9 extended Cayley classes in the extended translation class.\n",
      "\n",
      "Matrix of indices of Cayley graphs:\n",
      "256 x 256 dense matrix over Integer Ring\n"
     ]
    }
   ],
   "source": [
    "c8_5 = select_classification_where_name(conn, \"p8_5\")\n",
    "c8_5.report()"
   ]
  },
  {
   "cell_type": "code",
   "execution_count": 17,
   "metadata": {
    "collapsed": false,
    "deletable": true,
    "editable": true
   },
   "outputs": [
    {
     "name": "stdout",
     "output_type": "stream",
     "text": [
      "Algebraic normal form of Boolean function: x0*x1*x2 + x0*x6 + x1*x3*x4 + x1*x4 + x1*x5 + x2*x3*x5 + x2*x4 + x3*x7\n",
      "Function is bent.\n",
      "\n",
      "Weight class matrix:\n",
      "256 x 256 dense matrix over Integer Ring\n",
      "\n",
      "SDP design incidence structure t-design parameters: (True, (2, 256, 120, 56))\n",
      "\n",
      "Classification of Cayley graphs and classification of Cayley graphs of duals are the same:\n",
      "\n",
      "There are 9 extended Cayley classes in the extended translation class.\n",
      "\n",
      "Matrix of indices of Cayley graphs:\n",
      "256 x 256 dense matrix over Integer Ring\n"
     ]
    }
   ],
   "source": [
    "bentf = BentFunction(c8_5.algebraic_normal_form)\n",
    "\n",
    "c = select_classification_where_bent_function(conn, bentf)\n",
    "c.report()"
   ]
  },
  {
   "cell_type": "code",
   "execution_count": 18,
   "metadata": {
    "collapsed": false,
    "deletable": true,
    "editable": true
   },
   "outputs": [
    {
     "name": "stdout",
     "output_type": "stream",
     "text": [
      "Algebraic normal form of Boolean function: x0*x1*x2 + x0*x2 + x0*x3 + x1*x3*x4 + x1*x6 + x2*x3*x5 + x2*x4 + x5*x7\n",
      "Function is bent.\n",
      "\n",
      "Weight class matrix:\n",
      "256 x 256 dense matrix over Integer Ring\n",
      "\n",
      "SDP design incidence structure t-design parameters: (True, (2, 256, 120, 56))\n",
      "\n",
      "Classification of Cayley graphs and classification of Cayley graphs of duals are the same:\n",
      "\n",
      "There are 9 extended Cayley classes in the extended translation class.\n",
      "\n",
      "Matrix of indices of Cayley graphs:\n",
      "256 x 256 dense matrix over Integer Ring\n"
     ]
    }
   ],
   "source": [
    "c8_6 = select_classification_where_name(conn, \"p8_6\")\n",
    "c8_6.report()"
   ]
  },
  {
   "cell_type": "code",
   "execution_count": 19,
   "metadata": {
    "collapsed": false,
    "deletable": true,
    "editable": true
   },
   "outputs": [
    {
     "name": "stdout",
     "output_type": "stream",
     "text": [
      "2017-12-02 00:03:21.851887 before\n",
      "2017-12-02 00:03:21.852828 after\n",
      "66\n"
     ]
    }
   ],
   "source": [
    "curs = conn.cursor()\n",
    "print datetime.datetime.now(), \"before\"\n",
    "curs.execute(\"SELECT COUNT(*) FROM cayley_graph\")\n",
    "print datetime.datetime.now(), \"after\"\n",
    "for row in curs:\n",
    "    for x in row:\n",
    "        print x"
   ]
  },
  {
   "cell_type": "code",
   "execution_count": 27,
   "metadata": {
    "collapsed": true
   },
   "outputs": [],
   "source": [
    "conn.close()\n",
    "conn = connect_to_database('test_p8')"
   ]
  },
  {
   "cell_type": "code",
   "execution_count": 28,
   "metadata": {
    "collapsed": false,
    "deletable": true,
    "editable": true
   },
   "outputs": [
    {
     "name": "stdout",
     "output_type": "stream",
     "text": [
      "2017-12-02 00:05:31.248639 before\n",
      "2017-12-02 00:05:31.294771 after\n",
      "66\n"
     ]
    }
   ],
   "source": [
    "curs = conn.cursor()\n",
    "print datetime.datetime.now(), \"before\"\n",
    "curs.execute(\"SELECT COUNT(*) FROM cayley_graph\")\n",
    "print datetime.datetime.now(), \"after\"\n",
    "for row in curs:\n",
    "    for x in row:\n",
    "        print x"
   ]
  },
  {
   "cell_type": "code",
   "execution_count": 29,
   "metadata": {
    "collapsed": false,
    "deletable": true,
    "editable": true
   },
   "outputs": [
    {
     "name": "stdout",
     "output_type": "stream",
     "text": [
      "2017-12-02 00:05:34.345202 before\n",
      "2017-12-02 00:05:34.346711 after\n",
      "55\n"
     ]
    }
   ],
   "source": [
    "print datetime.datetime.now(), \"before\"\n",
    "curs.execute(\"SELECT COUNT(*) FROM graph\")\n",
    "print datetime.datetime.now(), \"after\"\n",
    "for row in curs:\n",
    "    for x in row:\n",
    "        print x"
   ]
  },
  {
   "cell_type": "code",
   "execution_count": 41,
   "metadata": {
    "collapsed": true,
    "deletable": true,
    "editable": true
   },
   "outputs": [],
   "source": [
    "conn.close()"
   ]
  },
  {
   "cell_type": "code",
   "execution_count": 42,
   "metadata": {
    "collapsed": false,
    "deletable": true,
    "editable": true
   },
   "outputs": [],
   "source": [
    "conn = connect_to_database('test_p8')"
   ]
  },
  {
   "cell_type": "code",
   "execution_count": 44,
   "metadata": {
    "collapsed": false,
    "deletable": true,
    "editable": true
   },
   "outputs": [
    {
     "name": "stdout",
     "output_type": "stream",
     "text": [
      "2017-12-02 00:13:06.152148 before\n",
      "2017-12-02 00:13:06.600444 after\n",
      "p8_1 0 1 34816 \n",
      "p8_2 0 1 6144 \n",
      "p8_1 1 2 30720 \n",
      "p8_2 3 2 2048 \n",
      "p8_5 0 19 4096 \n",
      "p8_6 0 19 4096 \n",
      "p8_5 1 20 6144 \n",
      "p8_6 1 20 6144 \n",
      "p8_5 2 21 6144 \n",
      "p8_6 2 21 6144 \n",
      "p8_5 3 22 2048 \n",
      "p8_6 5 22 2048 \n",
      "p8_5 4 23 2048 \n",
      "p8_6 8 23 2048 \n",
      "p8_5 5 24 6144 \n",
      "p8_6 6 24 6144 \n",
      "p8_5 6 25 6144 \n",
      "p8_6 7 25 6144 \n",
      "p8_5 7 26 16384 \n",
      "p8_6 3 26 16384 \n",
      "p8_5 8 27 16384 \n",
      "p8_6 4 27 16384 \n"
     ]
    }
   ],
   "source": [
    "curs = conn.cursor()\n",
    "print datetime.datetime.now(), \"before\"\n",
    "curs.execute(\"\"\"\n",
    "select name, cayley_graph_index, graph_id, count(*)\n",
    "from matrices, (\n",
    "    select name, bent_function, cayley_graph_index, graph_id\n",
    "    from (\n",
    "        select graph_id\n",
    "        from cayley_graph\n",
    "        group by graph_id\n",
    "        having count (graph_id) > 1 ) as repeats\n",
    "    natural join cayley_graph\n",
    "    natural join bent_function )\n",
    "as repeats_with_counts\n",
    "where matrices.bent_function = repeats_with_counts.bent_function\n",
    "and matrices.bent_cayley_graph_index = repeats_with_counts.cayley_graph_index\n",
    "group by name, cayley_graph_index, graph_id\n",
    "order by graph_id\n",
    "\"\"\")\n",
    "print datetime.datetime.now(), \"after\"\n",
    "for row in curs:\n",
    "    for x in row:\n",
    "        print x,\n",
    "    print \"\""
   ]
  },
  {
   "cell_type": "code",
   "execution_count": 45,
   "metadata": {
    "collapsed": false,
    "deletable": true,
    "editable": true
   },
   "outputs": [
    {
     "name": "stdout",
     "output_type": "stream",
     "text": [
      "2017-12-02 00:14:38.072665 before\n",
      "2017-12-02 00:14:38.074667 after\n",
      "55\n"
     ]
    }
   ],
   "source": [
    "print datetime.datetime.now(), \"before\"\n",
    "curs.execute(\"SELECT COUNT(*) FROM graph\")\n",
    "print datetime.datetime.now(), \"after\"\n",
    "for row in curs:\n",
    "    for x in row:\n",
    "        print x"
   ]
  },
  {
   "cell_type": "code",
   "execution_count": null,
   "metadata": {
    "collapsed": false,
    "deletable": true,
    "editable": true
   },
   "outputs": [],
   "source": [
    "exceptions = [\"2_1\", \"2_16\", \"4_27\", \"5_16\", \"5_27\", \"6_17\", \"7_15\", \"7_21\"]\n",
    "for suffix in exceptions:\n",
    "    exception_name = \"cast128_\" + suffix\n",
    "    print \"\"\n",
    "    print exception_name + \":\"\n",
    "    c = select_classification_where_name(conn, exception_name)\n",
    "    c.report()"
   ]
  },
  {
   "cell_type": "code",
   "execution_count": 46,
   "metadata": {
    "collapsed": false,
    "deletable": true,
    "editable": true
   },
   "outputs": [
    {
     "name": "stdout",
     "output_type": "stream",
     "text": [
      "Algebraic normal form of Boolean function: x0*x1*x2*x7 + x0*x1*x2 + x0*x1*x4*x7 + x0*x1*x5 + x0*x1 + x0*x2*x3*x7 + x0*x2*x3 + x0*x2*x4*x7 + x0*x2*x4 + x0*x2*x7 + x0*x3*x4*x7 + x0*x3*x7 + x0*x3 + x0*x4*x5*x7 + x0*x4*x7 + x0*x5*x7 + x1*x2*x4*x7 + x1*x2*x7 + x1*x2 + x1*x3*x5 + x1*x3*x7 + x1*x3 + x1*x4*x5*x7 + x1*x4*x5 + x1*x4*x7 + x1*x5 + x2*x3*x4*x7 + x2*x3*x4 + x2*x3*x5*x7 + x2*x3*x5 + x2*x3*x7 + x2*x4*x5*x7 + x2*x4*x5 + x2*x4 + x2*x5*x7 + x2*x5 + x3*x4*x5 + x3*x4*x7 + x3*x4 + x3*x5 + x3*x7 + x4 + x6*x7 + x7 + 1\n",
      "Function is bent.\n",
      "\n",
      "Weight class matrix:\n",
      "256 x 256 dense matrix over Integer Ring\n",
      "\n",
      "SDP design incidence structure t-design parameters:"
     ]
    },
    {
     "ename": "TypeError",
     "evalue": "'NoneType' object is not iterable",
     "output_type": "error",
     "traceback": [
      "\u001b[0;31m---------------------------------------------------------------------------\u001b[0m",
      "\u001b[0;31mTypeError\u001b[0m                                 Traceback (most recent call last)",
      "\u001b[0;32m<ipython-input-46-85de41377ac1>\u001b[0m in \u001b[0;36m<module>\u001b[0;34m()\u001b[0m\n\u001b[1;32m      3\u001b[0m \u001b[0;34m\u001b[0m\u001b[0m\n\u001b[1;32m      4\u001b[0m \u001b[0mc\u001b[0m \u001b[0;34m=\u001b[0m \u001b[0mselect_classification_where_bent_function\u001b[0m\u001b[0;34m(\u001b[0m\u001b[0mconn\u001b[0m\u001b[0;34m,\u001b[0m \u001b[0mbentf\u001b[0m\u001b[0;34m)\u001b[0m\u001b[0;34m\u001b[0m\u001b[0m\n\u001b[0;32m----> 5\u001b[0;31m \u001b[0mc\u001b[0m\u001b[0;34m.\u001b[0m\u001b[0mreport\u001b[0m\u001b[0;34m(\u001b[0m\u001b[0;34m)\u001b[0m\u001b[0;34m\u001b[0m\u001b[0m\n\u001b[0m",
      "\u001b[0;32m/home/leopardi/sync/src/sage-sandbox/Boolean-Cayley-graphs/sage-code/boolean_cayley_graphs/bent_function_cayley_graph_classification.pyc\u001b[0m in \u001b[0;36mreport\u001b[0;34m(self, report_on_graph_details)\u001b[0m\n\u001b[1;32m    899\u001b[0m         \u001b[0;32mprint\u001b[0m \u001b[0;34m\"\"\u001b[0m\u001b[0;34m\u001b[0m\u001b[0m\n\u001b[1;32m    900\u001b[0m         \u001b[0;32mprint\u001b[0m \u001b[0;34m\"SDP design incidence structure t-design parameters:\"\u001b[0m\u001b[0;34m,\u001b[0m\u001b[0;34m\u001b[0m\u001b[0m\n\u001b[0;32m--> 901\u001b[0;31m         \u001b[0mI\u001b[0m \u001b[0;34m=\u001b[0m \u001b[0mIncidenceStructure\u001b[0m\u001b[0;34m(\u001b[0m\u001b[0mD\u001b[0m\u001b[0;34m)\u001b[0m\u001b[0;34m\u001b[0m\u001b[0m\n\u001b[0m\u001b[1;32m    902\u001b[0m         \u001b[0;32mprint\u001b[0m \u001b[0mI\u001b[0m\u001b[0;34m.\u001b[0m\u001b[0mis_t_design\u001b[0m\u001b[0;34m(\u001b[0m\u001b[0mreturn_parameters\u001b[0m\u001b[0;34m=\u001b[0m\u001b[0mTrue\u001b[0m\u001b[0;34m)\u001b[0m\u001b[0;34m\u001b[0m\u001b[0m\n\u001b[1;32m    903\u001b[0m \u001b[0;34m\u001b[0m\u001b[0m\n",
      "\u001b[0;32m/home/leopardi/sync/src-downloaded/sage/sage-7.6-Ubuntu_16.04-x86_64/local/lib/python2.7/site-packages/sage/combinat/designs/incidence_structures.pyc\u001b[0m in \u001b[0;36m__init__\u001b[0;34m(self, points, blocks, incidence_matrix, name, check, copy)\u001b[0m\n\u001b[1;32m    208\u001b[0m                 \u001b[0mself\u001b[0m\u001b[0;34m.\u001b[0m\u001b[0m_point_to_index\u001b[0m \u001b[0;34m=\u001b[0m \u001b[0mNone\u001b[0m\u001b[0;34m\u001b[0m\u001b[0m\n\u001b[1;32m    209\u001b[0m             \u001b[0;32melse\u001b[0m\u001b[0;34m:\u001b[0m\u001b[0;34m\u001b[0m\u001b[0m\n\u001b[0;32m--> 210\u001b[0;31m                 \u001b[0mself\u001b[0m\u001b[0;34m.\u001b[0m\u001b[0m_points\u001b[0m \u001b[0;34m=\u001b[0m \u001b[0msorted\u001b[0m\u001b[0;34m(\u001b[0m\u001b[0mpoints\u001b[0m\u001b[0;34m)\u001b[0m\u001b[0;34m\u001b[0m\u001b[0m\n\u001b[0m\u001b[1;32m    211\u001b[0m                 \u001b[0;32mif\u001b[0m \u001b[0mself\u001b[0m\u001b[0;34m.\u001b[0m\u001b[0m_points\u001b[0m \u001b[0;34m==\u001b[0m \u001b[0mlist\u001b[0m\u001b[0;34m(\u001b[0m\u001b[0mrange\u001b[0m\u001b[0;34m(\u001b[0m\u001b[0mlen\u001b[0m\u001b[0;34m(\u001b[0m\u001b[0mpoints\u001b[0m\u001b[0;34m)\u001b[0m\u001b[0;34m)\u001b[0m\u001b[0;34m)\u001b[0m \u001b[0;32mand\u001b[0m \u001b[0mall\u001b[0m\u001b[0;34m(\u001b[0m\u001b[0misinstance\u001b[0m\u001b[0;34m(\u001b[0m\u001b[0mx\u001b[0m\u001b[0;34m,\u001b[0m\u001b[0;34m(\u001b[0m\u001b[0mint\u001b[0m\u001b[0;34m,\u001b[0m\u001b[0mInteger\u001b[0m\u001b[0;34m)\u001b[0m\u001b[0;34m)\u001b[0m \u001b[0;32mfor\u001b[0m \u001b[0mx\u001b[0m \u001b[0;32min\u001b[0m \u001b[0mself\u001b[0m\u001b[0;34m.\u001b[0m\u001b[0m_points\u001b[0m\u001b[0;34m)\u001b[0m\u001b[0;34m:\u001b[0m\u001b[0;34m\u001b[0m\u001b[0m\n\u001b[1;32m    212\u001b[0m                     \u001b[0mself\u001b[0m\u001b[0;34m.\u001b[0m\u001b[0m_point_to_index\u001b[0m \u001b[0;34m=\u001b[0m \u001b[0mNone\u001b[0m\u001b[0;34m\u001b[0m\u001b[0m\n",
      "\u001b[0;31mTypeError\u001b[0m: 'NoneType' object is not iterable"
     ]
    }
   ],
   "source": [
    "cgc = load(\"BentFunctionCayleyGraphClassification__cast128_5_27.sobj\")\n",
    "bentf = BentFunction(cgc.algebraic_normal_form)\n",
    "\n",
    "c = select_classification_where_bent_function(conn, bentf)\n",
    "c.report()"
   ]
  },
  {
   "cell_type": "code",
   "execution_count": null,
   "metadata": {
    "collapsed": true,
    "deletable": true,
    "editable": true
   },
   "outputs": [],
   "source": [
    "conn.close()"
   ]
  },
  {
   "cell_type": "code",
   "execution_count": null,
   "metadata": {
    "collapsed": true,
    "deletable": true,
    "editable": true
   },
   "outputs": [],
   "source": []
  }
 ],
 "metadata": {
  "kernelspec": {
   "display_name": "SageMath 7.6",
   "language": "",
   "name": "sagemath"
  },
  "language_info": {
   "codemirror_mode": {
    "name": "ipython",
    "version": 2
   },
   "file_extension": ".py",
   "mimetype": "text/x-python",
   "name": "python",
   "nbconvert_exporter": "python",
   "pygments_lexer": "ipython2",
   "version": "2.7.13"
  }
 },
 "nbformat": 4,
 "nbformat_minor": 2
}
