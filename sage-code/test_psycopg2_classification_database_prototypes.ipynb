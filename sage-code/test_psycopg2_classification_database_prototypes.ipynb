{
 "cells": [
  {
   "cell_type": "code",
   "execution_count": 1,
   "metadata": {},
   "outputs": [],
   "source": [
    "import datetime\n",
    "import os\n",
    "import psycopg2\n",
    "\n",
    "from boolean_cayley_graphs.bent_function import BentFunction\n",
    "from boolean_cayley_graphs.classification_database_psycopg2 import *\n",
    "from boolean_cayley_graphs.bent_function_cayley_graph_classification import BentFunctionCayleyGraphClassification"
   ]
  },
  {
   "cell_type": "code",
   "execution_count": 2,
   "metadata": {},
   "outputs": [],
   "source": [
    "sobj_dirname=os.path.join(\"..\",\"sobj\")"
   ]
  },
  {
   "cell_type": "code",
   "execution_count": 3,
   "metadata": {},
   "outputs": [],
   "source": [
    "def drop_database(db_name):\n",
    "    conn = psycopg2.connect(dbname=\"postgres\")\n",
    "    conn.set_isolation_level(ISOLATION_LEVEL_AUTOCOMMIT)\n",
    "    curs = conn.cursor()\n",
    "    curs.execute(\n",
    "        \"DROP DATABASE \" + db_name)\n",
    "    conn.commit()"
   ]
  },
  {
   "cell_type": "code",
   "execution_count": 4,
   "metadata": {},
   "outputs": [],
   "source": [
    "try:\n",
    "    drop_database('test_p6')\n",
    "except:\n",
    "    pass\n",
    "conn = create_database('test_p6')\n",
    "conn = create_classification_tables('test_p6')"
   ]
  },
  {
   "cell_type": "code",
   "execution_count": 5,
   "metadata": {},
   "outputs": [
    {
     "name": "stdout",
     "output_type": "stream",
     "text": [
      "1\n",
      "2\n",
      "3\n",
      "4\n"
     ]
    }
   ],
   "source": [
    "for i in range(1,5):\n",
    "    print(i)\n",
    "    name = \"p6_\"+str(i)\n",
    "    cgc = BentFunctionCayleyGraphClassification.load_mangled(name + \".sobj\", dir=sobj_dirname)\n",
    "    insert_classification(conn, cgc, name)"
   ]
  },
  {
   "cell_type": "code",
   "execution_count": 6,
   "metadata": {},
   "outputs": [
    {
     "name": "stdout",
     "output_type": "stream",
     "text": [
      "Algebraic normal form of Boolean function: x0*x1*x2 + x0*x3 + x1*x3*x4 + x1*x5 + x2*x3*x5 + x2*x3 + x2*x4 + x2*x5 + x3*x4 + x3*x5\n",
      "Function is bent.\n",
      "\n",
      "\n",
      "SDP design incidence structure t-design parameters: (True, (2, 64, 28, 12))\n",
      "\n",
      "Classification of Cayley graphs and classification of Cayley graphs of duals are the same:\n",
      "\n",
      "There are 3 extended Cayley classes in the extended translation class.\n"
     ]
    }
   ],
   "source": [
    "cgc.report()"
   ]
  },
  {
   "cell_type": "code",
   "execution_count": 7,
   "metadata": {},
   "outputs": [
    {
     "name": "stdout",
     "output_type": "stream",
     "text": [
      "Algebraic normal form of Boolean function: x0*x1*x2 + x0*x3 + x1*x3*x4 + x1*x5 + x2*x3*x5 + x2*x3 + x2*x4 + x2*x5 + x3*x4 + x3*x5\n",
      "Function is bent.\n",
      "\n",
      "\n",
      "SDP design incidence structure t-design parameters: (True, (2, 64, 28, 12))\n",
      "\n",
      "Classification of Cayley graphs and classification of Cayley graphs of duals are the same:\n",
      "\n",
      "There are 3 extended Cayley classes in the extended translation class.\n"
     ]
    }
   ],
   "source": [
    "bentf = BentFunction(cgc.algebraic_normal_form)\n",
    "c = select_classification_where_bent_function(conn, bentf)\n",
    "c.report()"
   ]
  },
  {
   "cell_type": "code",
   "execution_count": 8,
   "metadata": {},
   "outputs": [
    {
     "name": "stdout",
     "output_type": "stream",
     "text": [
      "Algebraic normal form of Boolean function: x0*x1 + x2*x3 + x4*x5\n",
      "Function is bent.\n",
      "\n",
      "\n",
      "SDP design incidence structure t-design parameters: (True, (2, 64, 28, 12))\n",
      "\n",
      "Classification of Cayley graphs and classification of Cayley graphs of duals are the same:\n",
      "\n",
      "There are 2 extended Cayley classes in the extended translation class.\n"
     ]
    }
   ],
   "source": [
    "c = select_classification_where_name(conn, \"p6_1\")\n",
    "c.report()"
   ]
  },
  {
   "cell_type": "code",
   "execution_count": 9,
   "metadata": {},
   "outputs": [
    {
     "name": "stdout",
     "output_type": "stream",
     "text": [
      "2020-09-19 19:23:35.687522 before\n",
      "2020-09-19 19:23:35.688587 after\n",
      "12\n"
     ]
    }
   ],
   "source": [
    "curs = conn.cursor()\n",
    "print(datetime.datetime.now(), \"before\")\n",
    "curs.execute(\"SELECT COUNT(graph_id) FROM cayley_graph\")\n",
    "print(datetime.datetime.now(), \"after\")\n",
    "for row in curs:\n",
    "    for x in row:\n",
    "        print(x)"
   ]
  },
  {
   "cell_type": "code",
   "execution_count": 10,
   "metadata": {},
   "outputs": [
    {
     "name": "stdout",
     "output_type": "stream",
     "text": [
      "2020-09-19 19:23:35.777019 before\n",
      "2020-09-19 19:23:35.777740 after\n",
      "11\n"
     ]
    }
   ],
   "source": [
    "print(datetime.datetime.now(), \"before\")\n",
    "curs.execute(\"SELECT COUNT(graph_id) FROM graph\")\n",
    "print(datetime.datetime.now(), \"after\")\n",
    "for row in curs:\n",
    "    for x in row:\n",
    "        print(x)"
   ]
  },
  {
   "cell_type": "code",
   "execution_count": 11,
   "metadata": {},
   "outputs": [],
   "source": [
    "conn.close()"
   ]
  },
  {
   "cell_type": "code",
   "execution_count": 12,
   "metadata": {},
   "outputs": [],
   "source": [
    "try:\n",
    "    drop_database('test_p8')\n",
    "except:\n",
    "    pass\n",
    "conn = create_database('test_p8')\n",
    "conn = create_classification_tables('test_p8')"
   ]
  },
  {
   "cell_type": "code",
   "execution_count": 13,
   "metadata": {},
   "outputs": [
    {
     "name": "stdout",
     "output_type": "stream",
     "text": [
      "2020-09-19 19:23:40.962346 1\n",
      "2020-09-19 19:23:57.198127 2\n",
      "2020-09-19 19:24:14.249456 3\n",
      "2020-09-19 19:24:32.799106 4\n",
      "2020-09-19 19:24:51.402998 5\n",
      "2020-09-19 19:25:09.035606 6\n",
      "2020-09-19 19:25:27.242895 7\n",
      "2020-09-19 19:25:46.095698 8\n",
      "2020-09-19 19:26:04.052607 9\n",
      "2020-09-19 19:26:21.101727 10\n",
      "2020-09-19 19:26:38.921789\n"
     ]
    }
   ],
   "source": [
    "for i in range(1,11):\n",
    "    name = \"p8_\"+str(i)\n",
    "    cgc = BentFunctionCayleyGraphClassification.load_mangled(name + \".sobj\", dir=sobj_dirname)\n",
    "    print(datetime.datetime.now(), i)\n",
    "    insert_classification(conn, cgc, name)\n",
    "print(datetime.datetime.now())"
   ]
  },
  {
   "cell_type": "code",
   "execution_count": 14,
   "metadata": {},
   "outputs": [
    {
     "name": "stdout",
     "output_type": "stream",
     "text": [
      "Algebraic normal form of Boolean function: x0*x1*x2 + x0*x6 + x1*x3*x4 + x1*x4 + x1*x5 + x2*x3*x5 + x2*x4 + x3*x7\n",
      "Function is bent.\n",
      "\n",
      "\n",
      "SDP design incidence structure t-design parameters: (True, (2, 256, 120, 56))\n",
      "\n",
      "Classification of Cayley graphs and classification of Cayley graphs of duals are the same:\n",
      "\n",
      "There are 9 extended Cayley classes in the extended translation class.\n"
     ]
    }
   ],
   "source": [
    "c8_5 = select_classification_where_name(conn, \"p8_5\")\n",
    "c8_5.report()"
   ]
  },
  {
   "cell_type": "code",
   "execution_count": 15,
   "metadata": {},
   "outputs": [
    {
     "name": "stdout",
     "output_type": "stream",
     "text": [
      "Algebraic normal form of Boolean function: x0*x1*x2 + x0*x6 + x1*x3*x4 + x1*x4 + x1*x5 + x2*x3*x5 + x2*x4 + x3*x7\n",
      "Function is bent.\n",
      "\n",
      "\n",
      "SDP design incidence structure t-design parameters: (True, (2, 256, 120, 56))\n",
      "\n",
      "Classification of Cayley graphs and classification of Cayley graphs of duals are the same:\n",
      "\n",
      "There are 9 extended Cayley classes in the extended translation class.\n"
     ]
    }
   ],
   "source": [
    "bentf = BentFunction(c8_5.algebraic_normal_form)\n",
    "\n",
    "c = select_classification_where_bent_function(conn, bentf)\n",
    "c.report()"
   ]
  },
  {
   "cell_type": "code",
   "execution_count": 16,
   "metadata": {},
   "outputs": [
    {
     "name": "stdout",
     "output_type": "stream",
     "text": [
      "Algebraic normal form of Boolean function: x0*x1*x2 + x0*x2 + x0*x3 + x1*x3*x4 + x1*x6 + x2*x3*x5 + x2*x4 + x5*x7\n",
      "Function is bent.\n",
      "\n",
      "\n",
      "SDP design incidence structure t-design parameters: (True, (2, 256, 120, 56))\n",
      "\n",
      "Classification of Cayley graphs and classification of Cayley graphs of duals are the same:\n",
      "\n",
      "There are 9 extended Cayley classes in the extended translation class.\n"
     ]
    }
   ],
   "source": [
    "c8_6 = select_classification_where_name(conn, \"p8_6\")\n",
    "c8_6.report()"
   ]
  },
  {
   "cell_type": "code",
   "execution_count": 17,
   "metadata": {},
   "outputs": [
    {
     "name": "stdout",
     "output_type": "stream",
     "text": [
      "2020-09-19 19:26:43.102174 before\n",
      "2020-09-19 19:26:43.102959 after\n",
      "66\n"
     ]
    }
   ],
   "source": [
    "curs = conn.cursor()\n",
    "print(datetime.datetime.now(), \"before\")\n",
    "curs.execute(\"SELECT COUNT(*) FROM cayley_graph\")\n",
    "print(datetime.datetime.now(), \"after\")\n",
    "for row in curs:\n",
    "    for x in row:\n",
    "        print(x)"
   ]
  },
  {
   "cell_type": "code",
   "execution_count": 18,
   "metadata": {},
   "outputs": [],
   "source": [
    "conn.close()\n",
    "conn = connect_to_database('test_p8')"
   ]
  },
  {
   "cell_type": "code",
   "execution_count": 19,
   "metadata": {},
   "outputs": [
    {
     "name": "stdout",
     "output_type": "stream",
     "text": [
      "2020-09-19 19:26:43.428264 before\n",
      "2020-09-19 19:26:43.429710 after\n",
      "66\n"
     ]
    }
   ],
   "source": [
    "curs = conn.cursor()\n",
    "print(datetime.datetime.now(), \"before\")\n",
    "curs.execute(\"SELECT COUNT(*) FROM cayley_graph\")\n",
    "print(datetime.datetime.now(), \"after\")\n",
    "for row in curs:\n",
    "    for x in row:\n",
    "        print(x)"
   ]
  },
  {
   "cell_type": "code",
   "execution_count": 20,
   "metadata": {},
   "outputs": [
    {
     "name": "stdout",
     "output_type": "stream",
     "text": [
      "2020-09-19 19:26:43.535688 before\n",
      "2020-09-19 19:26:43.537105 after\n",
      "55\n"
     ]
    }
   ],
   "source": [
    "print(datetime.datetime.now(), \"before\")\n",
    "curs.execute(\"SELECT COUNT(*) FROM graph\")\n",
    "print(datetime.datetime.now(), \"after\")\n",
    "for row in curs:\n",
    "    for x in row:\n",
    "        print(x)"
   ]
  },
  {
   "cell_type": "code",
   "execution_count": 21,
   "metadata": {},
   "outputs": [],
   "source": [
    "conn.close()"
   ]
  },
  {
   "cell_type": "code",
   "execution_count": 22,
   "metadata": {},
   "outputs": [],
   "source": [
    "conn = connect_to_database('test_p8')"
   ]
  },
  {
   "cell_type": "code",
   "execution_count": 23,
   "metadata": {},
   "outputs": [
    {
     "name": "stdout",
     "output_type": "stream",
     "text": [
      "2020-09-19 19:26:43.791740 before\n",
      "2020-09-19 19:26:44.362517 after\n",
      "p8_1 0 1 34816 \n",
      "p8_2 0 1 6144 \n",
      "p8_1 1 2 30720 \n",
      "p8_2 3 2 2048 \n",
      "p8_5 0 19 4096 \n",
      "p8_6 0 19 4096 \n",
      "p8_5 1 20 6144 \n",
      "p8_6 1 20 6144 \n",
      "p8_5 2 21 6144 \n",
      "p8_6 2 21 6144 \n",
      "p8_5 3 22 2048 \n",
      "p8_6 5 22 2048 \n",
      "p8_5 4 23 2048 \n",
      "p8_6 8 23 2048 \n",
      "p8_5 5 24 6144 \n",
      "p8_6 6 24 6144 \n",
      "p8_5 6 25 6144 \n",
      "p8_6 7 25 6144 \n",
      "p8_5 7 26 16384 \n",
      "p8_6 3 26 16384 \n",
      "p8_5 8 27 16384 \n",
      "p8_6 4 27 16384 \n"
     ]
    }
   ],
   "source": [
    "curs = conn.cursor()\n",
    "print(datetime.datetime.now(), \"before\")\n",
    "curs.execute(\"\"\"\n",
    "select name, cayley_graph_index, graph_id, count(*)\n",
    "from matrices, (\n",
    "    select name, bent_function, cayley_graph_index, graph_id\n",
    "    from (\n",
    "        select graph_id\n",
    "        from cayley_graph\n",
    "        group by graph_id\n",
    "        having count (graph_id) > 1L ) as repeats\n",
    "    natural join cayley_graph\n",
    "    natural join bent_function )\n",
    "as repeats_with_counts\n",
    "where matrices.bent_function = repeats_with_counts.bent_function\n",
    "and matrices.bent_cayley_graph_index = repeats_with_counts.cayley_graph_index\n",
    "group by name, cayley_graph_index, graph_id\n",
    "order by graph_id\n",
    "\"\"\")\n",
    "print(datetime.datetime.now(), \"after\")\n",
    "for row in curs:\n",
    "    for x in row:\n",
    "        print(x, end=\" \")\n",
    "    print(\"\")"
   ]
  },
  {
   "cell_type": "code",
   "execution_count": 24,
   "metadata": {},
   "outputs": [],
   "source": [
    "conn.close()"
   ]
  },
  {
   "cell_type": "code",
   "execution_count": null,
   "metadata": {},
   "outputs": [],
   "source": []
  }
 ],
 "metadata": {
  "kernelspec": {
   "display_name": "SageMath 9.0",
   "language": "sage",
   "name": "sagemath"
  },
  "language_info": {
   "codemirror_mode": {
    "name": "ipython",
    "version": 3
   },
   "file_extension": ".py",
   "mimetype": "text/x-python",
   "name": "python",
   "nbconvert_exporter": "python",
   "pygments_lexer": "ipython3",
   "version": "3.8.2"
  }
 },
 "nbformat": 4,
 "nbformat_minor": 2
}
