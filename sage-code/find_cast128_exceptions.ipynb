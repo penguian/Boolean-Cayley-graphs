{
 "cells": [
  {
   "cell_type": "markdown",
   "metadata": {},
   "source": [
    "# Finding exceptional bent functions in the CAST128 S-boxes"
   ]
  },
  {
   "cell_type": "markdown",
   "metadata": {},
   "source": [
    "Only a small number of the $8 \\times 32 = 256$ bent functions in the CAST128 S-boxes have fewer than $2^{17} = 131072$ Cayley classes in the union of their Extended Translation class and its dual. The code in this notebook finds these bent functions."
   ]
  },
  {
   "cell_type": "markdown",
   "metadata": {},
   "source": [
    "Import the required modules"
   ]
  },
  {
   "cell_type": "code",
   "execution_count": 1,
   "metadata": {},
   "outputs": [],
   "source": [
    "import datetime\n",
    "import os\n",
    "import sqlite3\n",
    "\n",
    "from boolean_cayley_graphs.bent_function import BentFunction\n",
    "from boolean_cayley_graphs.bent_function_cayley_graph_classification import BentFunctionCayleyGraphClassification"
   ]
  },
  {
   "cell_type": "markdown",
   "metadata": {},
   "source": [
    "Using saved CAST128 classifcations, find the exceptional bent functions."
   ]
  },
  {
   "cell_type": "code",
   "execution_count": 2,
   "metadata": {
    "scrolled": false
   },
   "outputs": [
    {
     "name": "stdout",
     "output_type": "stream",
     "text": [
      "1\n",
      "2\n",
      "2 01 2023-01-22 17:35:59.209772 0:04:58.706344 8256\n",
      "2 16 2023-01-22 17:38:01.334311 0:02:02.124539 65536\n",
      "3\n",
      "4\n",
      "4 27 2023-01-22 17:48:44.514829 0:10:43.180518 65536\n",
      "5\n",
      "5 16 2023-01-22 17:51:34.786826 0:02:50.271997 66560\n",
      "5 27 2023-01-22 17:53:04.571871 0:01:29.785045 6144\n",
      "6\n",
      "6 17 2023-01-22 17:56:23.275130 0:03:18.703259 65536\n",
      "7\n",
      "7 15 2023-01-22 18:00:32.579023 0:04:09.303893 65536\n",
      "7 21 2023-01-22 18:01:17.083889 0:00:44.504866 65536\n",
      "8\n",
      "[(2, 1), (2, 16), (4, 27), (5, 16), (5, 27), (6, 17), (7, 15), (7, 21)]\n"
     ]
    }
   ],
   "source": [
    "sobj_dirname=os.path.join(\"..\",\"sobj\")\n",
    "exceptions = []\n",
    "max_len_cayley_graph_class_list = 2 ** 17\n",
    "then = datetime.datetime.now()\n",
    "for i in range(1,9):\n",
    "    print(i)\n",
    "    stri = \"%01d\" % i\n",
    "    for j in range(32):\n",
    "        strj = \"%02d\" % j\n",
    "        sobj_name = \"cast128_\" + stri + \"_\" + str(j) + \".sobj\"\n",
    "        cgc = BentFunctionCayleyGraphClassification.load_mangled(\n",
    "            sobj_name,\n",
    "            dir=sobj_dirname)\n",
    "        len_cayley_graph_class_list = len(cgc.cayley_graph_class_list)\n",
    "        if len_cayley_graph_class_list < max_len_cayley_graph_class_list:\n",
    "            exceptions.append((i,j))\n",
    "            now = datetime.datetime.now()\n",
    "            print(stri, strj, now, now - then, len_cayley_graph_class_list)\n",
    "            then = now\n",
    "print(exceptions)"
   ]
  },
  {
   "cell_type": "code",
   "execution_count": null,
   "metadata": {},
   "outputs": [],
   "source": []
  },
  {
   "cell_type": "code",
   "execution_count": null,
   "metadata": {},
   "outputs": [],
   "source": []
  }
 ],
 "metadata": {
  "kernelspec": {
   "display_name": "SageMath 9.5",
   "language": "sage",
   "name": "sagemath"
  },
  "language_info": {
   "codemirror_mode": {
    "name": "ipython",
    "version": 3
   },
   "file_extension": ".py",
   "mimetype": "text/x-python",
   "name": "python",
   "nbconvert_exporter": "python",
   "pygments_lexer": "ipython3",
   "version": "3.10.8"
  }
 },
 "nbformat": 4,
 "nbformat_minor": 2
}
