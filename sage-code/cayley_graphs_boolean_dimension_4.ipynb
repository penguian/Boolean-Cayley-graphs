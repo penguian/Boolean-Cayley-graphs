{
 "cells": [
  {
   "cell_type": "markdown",
   "metadata": {},
   "source": [
    "# Cayley graphs of binary bent functions of dimension 4."
   ]
  },
  {
   "cell_type": "markdown",
   "metadata": {},
   "source": [
    "Import the required modules."
   ]
  },
  {
   "cell_type": "code",
   "execution_count": 1,
   "metadata": {},
   "outputs": [],
   "source": [
    "from os import path\n",
    "from boolean_cayley_graphs.bent_function import BentFunction\n",
    "from boolean_cayley_graphs.bent_function_cayley_graph_classification import (\n",
    "     BentFunctionCayleyGraphClassification)\n",
    "from boolean_cayley_graphs.boolean_function_extended_translate_classification import (\n",
    "     BooleanFunctionExtendedTranslateClassification)"
   ]
  },
  {
   "cell_type": "markdown",
   "metadata": {},
   "source": [
    "Import controls."
   ]
  },
  {
   "cell_type": "code",
   "execution_count": 2,
   "metadata": {},
   "outputs": [],
   "source": [
    "import boolean_cayley_graphs.cayley_graph_controls as controls"
   ]
  },
  {
   "cell_type": "markdown",
   "metadata": {},
   "source": [
    "Turn on verbose output."
   ]
  },
  {
   "cell_type": "code",
   "execution_count": 3,
   "metadata": {},
   "outputs": [],
   "source": [
    "controls.timing = True\n",
    "controls.verbose = True"
   ]
  },
  {
   "cell_type": "markdown",
   "metadata": {},
   "source": [
    "Connect to the database that contains the classifications of bent functions in 4 dimensions."
   ]
  },
  {
   "cell_type": "code",
   "execution_count": 4,
   "metadata": {},
   "outputs": [],
   "source": [
    "load(path.join(\"..\", \"sage-code\", \"boolean_dimension_cayley_graph_classifications.py\"))"
   ]
  },
  {
   "cell_type": "markdown",
   "metadata": {},
   "source": [
    "Set `c` to be the list of classifications for dimension 4, starting from 1. `c[0]` is `None`."
   ]
  },
  {
   "cell_type": "code",
   "execution_count": 5,
   "metadata": {},
   "outputs": [],
   "source": [
    "dim = 4"
   ]
  },
  {
   "cell_type": "code",
   "execution_count": 6,
   "metadata": {},
   "outputs": [],
   "source": [
    "sobj_dir = path.join(\"..\", \"sobj\")"
   ]
  },
  {
   "cell_type": "code",
   "execution_count": 7,
   "metadata": {},
   "outputs": [
    {
     "name": "stdout",
     "output_type": "stream",
     "text": [
      "Function 1 :\n",
      "2023-02-13 00:05:17.090648 0 0\n",
      "2023-02-13 00:05:17.579189 1 2\n",
      "2023-02-13 00:05:17.643876 2 2\n",
      "2023-02-13 00:05:17.709685 3 2\n",
      "2023-02-13 00:05:17.772676 4 2\n",
      "2023-02-13 00:05:17.836682 5 2\n",
      "2023-02-13 00:05:17.900229 6 2\n",
      "2023-02-13 00:05:17.963815 7 2\n",
      "2023-02-13 00:05:18.028295 8 2\n",
      "2023-02-13 00:05:18.089978 9 2\n",
      "2023-02-13 00:05:18.153194 10 2\n",
      "2023-02-13 00:05:18.217837 11 2\n",
      "2023-02-13 00:05:18.281292 12 2\n",
      "2023-02-13 00:05:18.345468 13 2\n",
      "2023-02-13 00:05:18.410576 14 2\n",
      "2023-02-13 00:05:18.474689 15 2\n",
      "2023-02-13 00:05:18.536352\n",
      "Algebraic normal form of Boolean function: x0*x1 + x2*x3\n",
      "Function is bent.\n",
      "\n",
      "\n",
      "SDP design incidence structure t-design parameters: (True, (2, 16, 6, 2))\n",
      "\n",
      "Classification of Cayley graphs and classification of Cayley graphs of duals are the same:\n",
      "\n",
      "There are 2 extended Cayley classes in the extended translation class.\n"
     ]
    }
   ],
   "source": [
    "c = save_boolean_dimension_cayley_graph_classifications(dim, dir=sobj_dir)"
   ]
  },
  {
   "cell_type": "markdown",
   "metadata": {},
   "source": [
    "Display the length of c, the list of classifications."
   ]
  },
  {
   "cell_type": "code",
   "execution_count": 8,
   "metadata": {},
   "outputs": [
    {
     "data": {
      "text/plain": [
       "2"
      ]
     },
     "execution_count": 8,
     "metadata": {},
     "output_type": "execute_result"
    }
   ],
   "source": [
    "len(c)"
   ]
  },
  {
   "cell_type": "markdown",
   "metadata": {},
   "source": [
    "Verify that `c[0]` is `None`."
   ]
  },
  {
   "cell_type": "code",
   "execution_count": 9,
   "metadata": {},
   "outputs": [
    {
     "name": "stdout",
     "output_type": "stream",
     "text": [
      "None\n"
     ]
    }
   ],
   "source": [
    "print(c[0])"
   ]
  },
  {
   "cell_type": "markdown",
   "metadata": {},
   "source": [
    "Print the algebraic normal form of the bent function corresponding to `c[1]`."
   ]
  },
  {
   "cell_type": "code",
   "execution_count": 10,
   "metadata": {},
   "outputs": [],
   "source": [
    "n = 1"
   ]
  },
  {
   "cell_type": "code",
   "execution_count": 11,
   "metadata": {},
   "outputs": [
    {
     "data": {
      "text/plain": [
       "x0*x1 + x2*x3"
      ]
     },
     "execution_count": 11,
     "metadata": {},
     "output_type": "execute_result"
    }
   ],
   "source": [
    "c[n].algebraic_normal_form"
   ]
  },
  {
   "cell_type": "markdown",
   "metadata": {},
   "source": [
    "Produce a report on the classification `c[1]`."
   ]
  },
  {
   "cell_type": "code",
   "execution_count": 12,
   "metadata": {},
   "outputs": [
    {
     "name": "stdout",
     "output_type": "stream",
     "text": [
      "Algebraic normal form of Boolean function: x0*x1 + x2*x3\n",
      "Function is bent.\n",
      "\n",
      "\n",
      "SDP design incidence structure t-design parameters: (True, (2, 16, 6, 2))\n",
      "\n",
      "Classification of Cayley graphs and classification of Cayley graphs of duals are the same:\n",
      "\n",
      "There are 2 extended Cayley classes in the extended translation class.\n",
      "\n",
      "For each extended Cayley class in the extended translation class:\n",
      "Clique polynomial, strongly regular parameters, rank, and order of a representative graph; and\n",
      "linear code and generator matrix for a representative bent function:\n",
      "\n",
      "EC class 0 :\n",
      "Algebraic normal form of representative: x0*x1 + x2*x3\n",
      "Clique polynomial: 8*t^4 + 32*t^3 + 48*t^2 + 16*t + 1\n",
      "Strongly regular parameters: (16, 6, 2, 2)\n",
      "Rank: 6 Order: 1152\n",
      "\n",
      "Linear code from representative:\n",
      "[6, 4] linear code over GF(2)\n",
      "Generator matrix:\n",
      "[1 0 0 0 0 1]\n",
      "[0 1 0 1 0 0]\n",
      "[0 0 1 1 0 0]\n",
      "[0 0 0 0 1 1]\n",
      "Linear code is projective.\n",
      "Weight distribution: {0: 1, 2: 6, 4: 9}\n",
      "\n",
      "EC class 1 :\n",
      "Algebraic normal form of representative: x0*x1 + x0 + x1 + x2*x3\n",
      "Clique polynomial: 16*t^5 + 120*t^4 + 160*t^3 + 80*t^2 + 16*t + 1\n",
      "Strongly regular parameters: (16, 10, 6, 6)\n",
      "Rank: 6 Order: 1920\n",
      "\n",
      "Linear code from representative:\n",
      "[10, 4] linear code over GF(2)\n",
      "Generator matrix:\n",
      "[1 0 1 0 1 0 0 1 0 0]\n",
      "[0 1 1 0 1 1 0 1 1 0]\n",
      "[0 0 0 1 1 1 0 0 0 1]\n",
      "[0 0 0 0 0 0 1 1 1 1]\n",
      "Linear code is projective.\n",
      "Weight distribution: {0: 1, 4: 5, 6: 10}\n"
     ]
    }
   ],
   "source": [
    "c[n].report(report_on_graph_details=True)"
   ]
  },
  {
   "cell_type": "markdown",
   "metadata": {},
   "source": [
    "Produce a matrix plot of the `weight_class_matrix`."
   ]
  },
  {
   "cell_type": "code",
   "execution_count": 13,
   "metadata": {},
   "outputs": [
    {
     "data": {
      "image/png": "[encoded data removed]",
      "text/plain": [
       "Graphics object consisting of 1 graphics primitive"
      ]
     },
     "execution_count": 13,
     "metadata": {},
     "output_type": "execute_result"
    }
   ],
   "source": [
    "matrix_plot(c[n].weight_class_matrix, cmap='gist_stern', colorbar=True)"
   ]
  },
  {
   "cell_type": "markdown",
   "metadata": {},
   "source": [
    "Produce a matrix plot of `bent_cayley_graph_index_matrix`, the matrix of indices of extended Cayley classes within the extended translation class."
   ]
  },
  {
   "cell_type": "code",
   "execution_count": 14,
   "metadata": {},
   "outputs": [
    {
     "data": {
      "image/png": "[encoded data removed]",
      "text/plain": [
       "Graphics object consisting of 1 graphics primitive"
      ]
     },
     "execution_count": 14,
     "metadata": {},
     "output_type": "execute_result"
    }
   ],
   "source": [
    "matrix_plot(c[n].bent_cayley_graph_index_matrix, cmap='gist_stern', colorbar=True)"
   ]
  },
  {
   "cell_type": "code",
   "execution_count": 15,
   "metadata": {},
   "outputs": [
    {
     "name": "stdout",
     "output_type": "stream",
     "text": [
      "2023-02-13 00:05:21.288885 0 0\n",
      "2023-02-13 00:05:21.368993 1 16\n",
      "2023-02-13 00:05:21.456279 2 16\n",
      "2023-02-13 00:05:21.538787 3 16\n",
      "2023-02-13 00:05:21.624185 4 16\n",
      "2023-02-13 00:05:21.710175 5 16\n",
      "2023-02-13 00:05:21.794835 6 16\n",
      "2023-02-13 00:05:21.874041 7 16\n",
      "2023-02-13 00:05:21.956902 8 16\n",
      "2023-02-13 00:05:22.039982 9 16\n",
      "2023-02-13 00:05:22.126219 10 16\n",
      "2023-02-13 00:05:22.209270 11 16\n",
      "2023-02-13 00:05:22.290019 12 16\n",
      "2023-02-13 00:05:22.371205 13 16\n",
      "2023-02-13 00:05:22.452284 14 16\n",
      "2023-02-13 00:05:22.534601 15 16\n",
      "2023-02-13 00:05:22.622375\n",
      "CPU times: user 1.34 s, sys: 16.1 ms, total: 1.35 s\n",
      "Wall time: 1.34 s\n"
     ]
    }
   ],
   "source": [
    "%%time\n",
    "\n",
    "bf = BentFunction(c[1].algebraic_normal_form)\n",
    "bf_etc = BooleanFunctionExtendedTranslateClassification.from_function(bf)"
   ]
  },
  {
   "cell_type": "code",
   "execution_count": 16,
   "metadata": {},
   "outputs": [],
   "source": [
    "name_n = \"p\" + str(dim) + \"_\" + str(n)\n",
    "bf_etc.save_mangled(name_n, dir=sobj_dir)"
   ]
  },
  {
   "cell_type": "code",
   "execution_count": 17,
   "metadata": {},
   "outputs": [
    {
     "name": "stdout",
     "output_type": "stream",
     "text": [
      "Number of bent functions in the extended translation class is 16\n",
      "Number of general linear equivalence classes in the extended translation class is 2\n"
     ]
    }
   ],
   "source": [
    "print(\"Number of bent functions in the extended translation class is\", \n",
    "      len(bf_etc.boolean_function_list))\n",
    "print(\"Number of general linear equivalence classes in the extended translation class is\", \n",
    "      len(bf_etc.general_linear_class_list))"
   ]
  },
  {
   "cell_type": "code",
   "execution_count": 18,
   "metadata": {},
   "outputs": [
    {
     "data": {
      "image/png": "[encoded data removed]",
      "text/plain": [
       "Graphics object consisting of 1 graphics primitive"
      ]
     },
     "execution_count": 18,
     "metadata": {},
     "output_type": "execute_result"
    }
   ],
   "source": [
    "matrix_plot(bf_etc.general_linear_class_index_matrix, cmap='gist_stern', colorbar=True)"
   ]
  },
  {
   "cell_type": "code",
   "execution_count": 19,
   "metadata": {},
   "outputs": [
    {
     "data": {
      "image/png": "[encoded data removed]",
      "text/plain": [
       "Graphics object consisting of 1 graphics primitive"
      ]
     },
     "execution_count": 19,
     "metadata": {},
     "output_type": "execute_result"
    }
   ],
   "source": [
    "matrix_plot(bf_etc.boolean_function_index_matrix, cmap='gist_stern', colorbar=True)"
   ]
  },
  {
   "cell_type": "code",
   "execution_count": null,
   "metadata": {},
   "outputs": [],
   "source": []
  }
 ],
 "metadata": {
  "kernelspec": {
   "display_name": "SageMath 9.5",
   "language": "sage",
   "name": "sagemath"
  },
  "language_info": {
   "codemirror_mode": {
    "name": "ipython",
    "version": 3
   },
   "file_extension": ".py",
   "mimetype": "text/x-python",
   "name": "python",
   "nbconvert_exporter": "python",
   "pygments_lexer": "ipython3",
   "version": "3.10.8"
  }
 },
 "nbformat": 4,
 "nbformat_minor": 1
}
