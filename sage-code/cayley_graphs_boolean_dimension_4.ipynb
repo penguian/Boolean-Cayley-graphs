{
 "cells": [
  {
   "cell_type": "markdown",
   "metadata": {},
   "source": [
    "# Cayley graphs of binary bent functions of dimension 4."
   ]
  },
  {
   "cell_type": "markdown",
   "metadata": {},
   "source": [
    "Import the required modules."
   ]
  },
  {
   "cell_type": "code",
   "execution_count": 1,
   "metadata": {},
   "outputs": [],
   "source": [
    "import os\n",
    "from boolean_cayley_graphs.bent_function import BentFunction\n",
    "from boolean_cayley_graphs.bent_function_cayley_graph_classification import BentFunctionCayleyGraphClassification"
   ]
  },
  {
   "cell_type": "markdown",
   "metadata": {},
   "source": [
    "Connect to the database that contains the classifications of bent functions in 4 dimensions."
   ]
  },
  {
   "cell_type": "code",
   "execution_count": 2,
   "metadata": {},
   "outputs": [],
   "source": [
    "load(\"boolean_dimension_cayley_graph_classifications.py\")"
   ]
  },
  {
   "cell_type": "markdown",
   "metadata": {},
   "source": [
    "Set `c` to be the list of classifications for dimension 4, starting from 1. `c[0]` is `None`."
   ]
  },
  {
   "cell_type": "code",
   "execution_count": 3,
   "metadata": {},
   "outputs": [],
   "source": [
    "c = save_boolean_dimension_cayley_graph_classifications(4, dir=os.path.join(\"..\",\"sobj\"))"
   ]
  },
  {
   "cell_type": "markdown",
   "metadata": {},
   "source": [
    "Display the length of c, the list of classifications."
   ]
  },
  {
   "cell_type": "code",
   "execution_count": 4,
   "metadata": {},
   "outputs": [
    {
     "data": {
      "text/plain": [
       "2"
      ]
     },
     "execution_count": 4,
     "metadata": {},
     "output_type": "execute_result"
    }
   ],
   "source": [
    "len(c)"
   ]
  },
  {
   "cell_type": "markdown",
   "metadata": {},
   "source": [
    "Verify that `c[0]` is `None`."
   ]
  },
  {
   "cell_type": "code",
   "execution_count": 5,
   "metadata": {},
   "outputs": [
    {
     "name": "stdout",
     "output_type": "stream",
     "text": [
      "None\n"
     ]
    }
   ],
   "source": [
    "print(c[0])"
   ]
  },
  {
   "cell_type": "markdown",
   "metadata": {},
   "source": [
    "Print the algebraic normal form of the bent function corresponding to `c[1]`."
   ]
  },
  {
   "cell_type": "code",
   "execution_count": 6,
   "metadata": {},
   "outputs": [
    {
     "data": {
      "text/plain": [
       "x0*x1 + x2*x3"
      ]
     },
     "execution_count": 6,
     "metadata": {},
     "output_type": "execute_result"
    }
   ],
   "source": [
    "c[1].algebraic_normal_form"
   ]
  },
  {
   "cell_type": "markdown",
   "metadata": {},
   "source": [
    "Produce a report on the classification `c[1]`."
   ]
  },
  {
   "cell_type": "code",
   "execution_count": 7,
   "metadata": {},
   "outputs": [
    {
     "name": "stdout",
     "output_type": "stream",
     "text": [
      "Algebraic normal form of Boolean function: x0*x1 + x2*x3\n",
      "Function is bent.\n",
      "\n",
      "\n",
      "SDP design incidence structure t-design parameters: (True, (2, 16, 6, 2))\n",
      "\n",
      "Classification of Cayley graphs and classification of Cayley graphs of duals are the same:\n",
      "\n",
      "There are 2 extended Cayley classes in the extended translation class.\n",
      "\n",
      "For each extended Cayley class in the extended translation class:\n",
      "Clique polynomial, strongly regular parameters, rank, and order of a representative graph; and\n",
      "linear code and generator matrix for a representative bent function:\n",
      "\n",
      "EC class 0 :\n",
      "Algebraic normal form of representative: x0*x1 + x2*x3\n",
      "Clique polynomial: 8*t^4 + 32*t^3 + 48*t^2 + 16*t + 1\n",
      "Strongly regular parameters: (16, 6, 2, 2)\n",
      "Rank: 6 Order: 1152\n",
      "\n",
      "Linear code from representative:\n",
      "[6, 4] linear code over GF(2)\n",
      "Generator matrix:\n",
      "[1 0 0 0 0 1]\n",
      "[0 1 0 1 0 0]\n",
      "[0 0 1 1 0 0]\n",
      "[0 0 0 0 1 1]\n",
      "Linear code is projective.\n",
      "Weight distribution: {0: 1, 2: 6, 4: 9}\n",
      "\n",
      "EC class 1 :\n",
      "Algebraic normal form of representative: x0*x1 + x0 + x1 + x2*x3\n",
      "Clique polynomial: 16*t^5 + 120*t^4 + 160*t^3 + 80*t^2 + 16*t + 1\n",
      "Strongly regular parameters: (16, 10, 6, 6)\n",
      "Rank: 6 Order: 1920\n",
      "\n",
      "Linear code from representative:\n",
      "[10, 4] linear code over GF(2)\n",
      "Generator matrix:\n",
      "[1 0 1 0 1 0 0 1 0 0]\n",
      "[0 1 1 0 1 1 0 1 1 0]\n",
      "[0 0 0 1 1 1 0 0 0 1]\n",
      "[0 0 0 0 0 0 1 1 1 1]\n",
      "Linear code is projective.\n",
      "Weight distribution: {0: 1, 4: 5, 6: 10}\n"
     ]
    }
   ],
   "source": [
    "c[1].report(report_on_graph_details=True)"
   ]
  },
  {
   "cell_type": "markdown",
   "metadata": {},
   "source": [
    "Produce a matrix plot of the `weight_class_matrix`."
   ]
  },
  {
   "cell_type": "code",
   "execution_count": 8,
   "metadata": {},
   "outputs": [
    {
     "data": {
      "image/png": "[encoded data removed]",
      "text/plain": [
       "Graphics object consisting of 1 graphics primitive"
      ]
     },
     "execution_count": 8,
     "metadata": {},
     "output_type": "execute_result"
    }
   ],
   "source": [
    "matrix_plot(c[1].weight_class_matrix,cmap='gist_stern')"
   ]
  },
  {
   "cell_type": "markdown",
   "metadata": {},
   "source": [
    "Produce a matrix plot of `bent_cayley_graph_index_matrix`, the matrix of indices of extended Cayley classes within the extended translation class."
   ]
  },
  {
   "cell_type": "code",
   "execution_count": 9,
   "metadata": {},
   "outputs": [
    {
     "data": {
      "image/png": "[encoded data removed]",
      "text/plain": [
       "Graphics object consisting of 1 graphics primitive"
      ]
     },
     "execution_count": 9,
     "metadata": {},
     "output_type": "execute_result"
    }
   ],
   "source": [
    "matrix_plot(c[1].bent_cayley_graph_index_matrix,cmap='gist_stern')"
   ]
  },
  {
   "cell_type": "code",
   "execution_count": null,
   "metadata": {},
   "outputs": [],
   "source": []
  },
  {
   "cell_type": "code",
   "execution_count": null,
   "metadata": {},
   "outputs": [],
   "source": []
  }
 ],
 "metadata": {
  "kernelspec": {
   "display_name": "SageMath 9.0",
   "language": "sage",
   "name": "sagemath"
  },
  "language_info": {
   "codemirror_mode": {
    "name": "ipython",
    "version": 3
   },
   "file_extension": ".py",
   "mimetype": "text/x-python",
   "name": "python",
   "nbconvert_exporter": "python",
   "pygments_lexer": "ipython3",
   "version": "3.8.2"
  }
 },
 "nbformat": 4,
 "nbformat_minor": 1
}
