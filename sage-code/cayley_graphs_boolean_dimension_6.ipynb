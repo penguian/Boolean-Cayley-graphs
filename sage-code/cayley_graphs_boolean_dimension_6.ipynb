{
 "cells": [
  {
   "cell_type": "markdown",
   "metadata": {},
   "source": [
    "# Cayley graphs of binary bent functions of dimension 6."
   ]
  },
  {
   "cell_type": "markdown",
   "metadata": {},
   "source": [
    "Import the required modules."
   ]
  },
  {
   "cell_type": "code",
   "execution_count": 1,
   "metadata": {},
   "outputs": [],
   "source": [
    "import os\n",
    "from boolean_cayley_graphs.bent_function import BentFunction\n",
    "from boolean_cayley_graphs.bent_function_cayley_graph_classification import BentFunctionCayleyGraphClassification"
   ]
  },
  {
   "cell_type": "markdown",
   "metadata": {},
   "source": [
    "Import controls."
   ]
  },
  {
   "cell_type": "code",
   "execution_count": 2,
   "metadata": {},
   "outputs": [],
   "source": [
    "import boolean_cayley_graphs.cayley_graph_controls as controls"
   ]
  },
  {
   "cell_type": "markdown",
   "metadata": {},
   "source": [
    "Turn on verbose output."
   ]
  },
  {
   "cell_type": "code",
   "execution_count": 3,
   "metadata": {},
   "outputs": [],
   "source": [
    "controls.timing = True\n",
    "controls.verbose = True"
   ]
  },
  {
   "cell_type": "markdown",
   "metadata": {},
   "source": [
    "Connect to the database that contains the classifications of bent functions in 6 dimensions."
   ]
  },
  {
   "cell_type": "code",
   "execution_count": 4,
   "metadata": {},
   "outputs": [],
   "source": [
    "load(\"boolean_dimension_cayley_graph_classifications.py\")"
   ]
  },
  {
   "cell_type": "markdown",
   "metadata": {},
   "source": [
    "Set `c` to be the list of classifications for dimension 6. `c[0]` is `None`."
   ]
  },
  {
   "cell_type": "code",
   "execution_count": 5,
   "metadata": {},
   "outputs": [
    {
     "name": "stdout",
     "output_type": "stream",
     "text": [
      "Function 1 :\n",
      "2020-08-26 22:03:59.250796 0 0\n",
      "2020-08-26 22:04:03.913917 1 2\n",
      "2020-08-26 22:04:08.285609 2 2\n",
      "2020-08-26 22:04:13.031692 3 2\n",
      "2020-08-26 22:04:17.511541 4 2\n",
      "2020-08-26 22:04:21.901518 5 2\n",
      "2020-08-26 22:04:26.367184 6 2\n",
      "2020-08-26 22:04:30.944391 7 2\n",
      "2020-08-26 22:04:35.646961 8 2\n",
      "2020-08-26 22:04:39.974166 9 2\n",
      "2020-08-26 22:04:44.179793 10 2\n",
      "2020-08-26 22:04:48.310784 11 2\n",
      "2020-08-26 22:04:52.580417 12 2\n",
      "2020-08-26 22:04:56.890572 13 2\n",
      "2020-08-26 22:05:01.079542 14 2\n",
      "2020-08-26 22:05:05.294654 15 2\n",
      "2020-08-26 22:05:09.449848 16 2\n",
      "2020-08-26 22:05:13.717613 17 2\n",
      "2020-08-26 22:05:18.079125 18 2\n",
      "2020-08-26 22:05:22.502645 19 2\n",
      "2020-08-26 22:05:26.856919 20 2\n",
      "2020-08-26 22:05:31.096493 21 2\n",
      "2020-08-26 22:05:35.301843 22 2\n",
      "2020-08-26 22:05:39.505822 23 2\n",
      "2020-08-26 22:05:43.785254 24 2\n",
      "2020-08-26 22:05:48.170236 25 2\n",
      "2020-08-26 22:05:52.907719 26 2\n",
      "2020-08-26 22:05:57.598669 27 2\n",
      "2020-08-26 22:06:01.817419 28 2\n",
      "2020-08-26 22:06:06.207024 29 2\n",
      "2020-08-26 22:06:10.626975 30 2\n",
      "2020-08-26 22:06:14.884316 31 2\n",
      "2020-08-26 22:06:19.167959 32 2\n",
      "2020-08-26 22:06:23.370892 33 2\n",
      "2020-08-26 22:06:27.593187 34 2\n",
      "2020-08-26 22:06:31.914020 35 2\n",
      "2020-08-26 22:06:36.221838 36 2\n",
      "2020-08-26 22:06:40.482851 37 2\n",
      "2020-08-26 22:06:44.661100 38 2\n",
      "2020-08-26 22:06:48.943439 39 2\n",
      "2020-08-26 22:06:53.108976 40 2\n",
      "2020-08-26 22:06:57.267034 41 2\n",
      "2020-08-26 22:07:01.409429 42 2\n",
      "2020-08-26 22:07:05.584136 43 2\n",
      "2020-08-26 22:07:09.809842 44 2\n",
      "2020-08-26 22:07:14.112781 45 2\n",
      "2020-08-26 22:07:18.310281 46 2\n",
      "2020-08-26 22:07:22.485204 47 2\n",
      "2020-08-26 22:07:26.610704 48 2\n",
      "2020-08-26 22:07:30.818841 49 2\n",
      "2020-08-26 22:07:35.011980 50 2\n",
      "2020-08-26 22:07:39.197270 51 2\n",
      "2020-08-26 22:07:43.369830 52 2\n",
      "2020-08-26 22:07:47.638811 53 2\n",
      "2020-08-26 22:07:51.820246 54 2\n",
      "2020-08-26 22:07:56.217440 55 2\n",
      "2020-08-26 22:08:00.462626 56 2\n",
      "2020-08-26 22:08:04.762643 57 2\n",
      "2020-08-26 22:08:08.948643 58 2\n",
      "2020-08-26 22:08:13.252900 59 2\n",
      "2020-08-26 22:08:17.611592 60 2\n",
      "2020-08-26 22:08:21.845190 61 2\n",
      "2020-08-26 22:08:26.108310 62 2\n",
      "2020-08-26 22:08:30.265332 63 2\n",
      "2020-08-26 22:08:34.469179\n",
      "Algebraic normal form of Boolean function: x0*x1 + x2*x3 + x4*x5\n",
      "Function is bent.\n",
      "\n",
      "\n",
      "SDP design incidence structure t-design parameters: (True, (2, 64, 28, 12))\n",
      "\n",
      "Classification of Cayley graphs and classification of Cayley graphs of duals are the same:\n",
      "\n",
      "There are 2 extended Cayley classes in the extended translation class.\n",
      "Function 2 :\n",
      "2020-08-26 22:08:34.515622 0 0\n",
      "2020-08-26 22:08:38.742182 1 3\n",
      "2020-08-26 22:08:42.983796 2 3\n",
      "2020-08-26 22:08:47.226425 3 3\n",
      "2020-08-26 22:08:51.483986 4 3\n",
      "2020-08-26 22:08:55.858851 5 3\n",
      "2020-08-26 22:09:00.241911 6 3\n",
      "2020-08-26 22:09:04.435773 7 3\n",
      "2020-08-26 22:09:08.664809 8 3\n",
      "2020-08-26 22:09:12.878279 9 3\n",
      "2020-08-26 22:09:17.156018 10 3\n",
      "2020-08-26 22:09:21.418085 11 3\n",
      "2020-08-26 22:09:25.745999 12 3\n",
      "2020-08-26 22:09:30.005180 13 3\n",
      "2020-08-26 22:09:34.233923 14 3\n",
      "2020-08-26 22:09:38.503631 15 3\n",
      "2020-08-26 22:09:42.794395 16 3\n",
      "2020-08-26 22:09:47.094716 17 3\n",
      "2020-08-26 22:09:51.310764 18 3\n",
      "2020-08-26 22:09:55.486143 19 3\n",
      "2020-08-26 22:09:59.706688 20 3\n",
      "2020-08-26 22:10:04.083235 21 3\n",
      "2020-08-26 22:10:08.401903 22 3\n",
      "2020-08-26 22:10:12.730840 23 3\n",
      "2020-08-26 22:10:17.243038 24 3\n",
      "2020-08-26 22:10:21.937541 25 3\n",
      "2020-08-26 22:10:26.641754 26 3\n",
      "2020-08-26 22:10:30.994372 27 3\n",
      "2020-08-26 22:10:35.557013 28 3\n",
      "2020-08-26 22:10:40.195633 29 3\n",
      "2020-08-26 22:10:44.756026 30 3\n",
      "2020-08-26 22:10:49.182148 31 3\n",
      "2020-08-26 22:10:53.736782 32 3\n",
      "2020-08-26 22:10:58.247085 33 3\n",
      "2020-08-26 22:11:02.691173 34 3\n",
      "2020-08-26 22:11:07.027445 35 3\n",
      "2020-08-26 22:11:11.597537 36 3\n",
      "2020-08-26 22:11:16.014753 37 3\n",
      "2020-08-26 22:11:20.388937 38 3\n",
      "2020-08-26 22:11:24.630606 39 3\n",
      "2020-08-26 22:11:29.285324 40 3\n",
      "2020-08-26 22:11:33.670384 41 3\n",
      "2020-08-26 22:11:37.895847 42 3\n",
      "2020-08-26 22:11:42.196048 43 3\n",
      "2020-08-26 22:11:46.478094 44 3\n",
      "2020-08-26 22:11:50.741775 45 3\n",
      "2020-08-26 22:11:55.056162 46 3\n",
      "2020-08-26 22:11:59.315496 47 3\n",
      "2020-08-26 22:12:03.626866 48 3\n",
      "2020-08-26 22:12:08.230355 49 3\n",
      "2020-08-26 22:12:12.694917 50 3\n",
      "2020-08-26 22:12:17.113946 51 3\n",
      "2020-08-26 22:12:21.448607 52 3\n",
      "2020-08-26 22:12:25.773732 53 3\n",
      "2020-08-26 22:12:30.363133 54 3\n",
      "2020-08-26 22:12:35.079279 55 3\n",
      "2020-08-26 22:12:39.716173 56 3\n",
      "2020-08-26 22:12:44.281859 57 3\n",
      "2020-08-26 22:12:48.926084 58 3\n",
      "2020-08-26 22:12:53.528752 59 3\n",
      "2020-08-26 22:12:58.073782 60 3\n",
      "2020-08-26 22:13:02.886553 61 3\n",
      "2020-08-26 22:13:07.359110 62 3\n",
      "2020-08-26 22:13:11.801912 63 3\n",
      "2020-08-26 22:13:16.254933\n",
      "Algebraic normal form of Boolean function: x0*x1*x2 + x0*x3 + x1*x4 + x2*x5\n",
      "Function is bent.\n",
      "\n",
      "\n",
      "SDP design incidence structure t-design parameters: (True, (2, 64, 28, 12))\n",
      "\n",
      "Classification of Cayley graphs and classification of Cayley graphs of duals are the same:\n",
      "\n",
      "There are 3 extended Cayley classes in the extended translation class.\n",
      "Function 3 :\n",
      "2020-08-26 22:13:16.296642 0 0\n",
      "2020-08-26 22:13:20.690914 1 4\n",
      "2020-08-26 22:13:25.096903 2 4\n",
      "2020-08-26 22:13:29.507583 3 4\n",
      "2020-08-26 22:13:33.904109 4 4\n",
      "2020-08-26 22:13:38.452920 5 4\n",
      "2020-08-26 22:13:42.778888 6 4\n",
      "2020-08-26 22:13:46.930434 7 4\n",
      "2020-08-26 22:13:51.231066 8 4\n",
      "2020-08-26 22:13:55.595864 9 4\n",
      "2020-08-26 22:13:59.746301 10 4\n",
      "2020-08-26 22:14:03.892553 11 4\n",
      "2020-08-26 22:14:08.006177 12 4\n",
      "2020-08-26 22:14:12.240370 13 4\n",
      "2020-08-26 22:14:16.593331 14 4\n",
      "2020-08-26 22:14:20.911840 15 4\n",
      "2020-08-26 22:14:25.272024 16 4\n",
      "2020-08-26 22:14:29.767510 17 4\n",
      "2020-08-26 22:14:34.123914 18 4\n",
      "2020-08-26 22:14:38.373716 19 4\n",
      "2020-08-26 22:14:42.675393 20 4\n",
      "2020-08-26 22:14:46.980655 21 4\n",
      "2020-08-26 22:14:51.208142 22 4\n",
      "2020-08-26 22:14:55.569274 23 4\n",
      "2020-08-26 22:14:59.983387 24 4\n",
      "2020-08-26 22:15:04.185193 25 4\n",
      "2020-08-26 22:15:08.357771 26 4\n",
      "2020-08-26 22:15:12.661651 27 4\n",
      "2020-08-26 22:15:16.855651 28 4\n",
      "2020-08-26 22:15:21.066057 29 4\n",
      "2020-08-26 22:15:25.261563 30 4\n",
      "2020-08-26 22:15:29.439824 31 4\n",
      "2020-08-26 22:15:33.692921 32 4\n",
      "2020-08-26 22:15:37.930854 33 4\n",
      "2020-08-26 22:15:42.158630 34 4\n",
      "2020-08-26 22:15:46.439455 35 4\n",
      "2020-08-26 22:15:50.746862 36 4\n",
      "2020-08-26 22:15:54.957761 37 4\n",
      "2020-08-26 22:15:59.192816 38 4\n",
      "2020-08-26 22:16:03.387391 39 4\n",
      "2020-08-26 22:16:07.648566 40 4\n",
      "2020-08-26 22:16:11.890961 41 4\n",
      "2020-08-26 22:16:16.102287 42 4\n",
      "2020-08-26 22:16:20.354847 43 4\n",
      "2020-08-26 22:16:24.534107 44 4\n",
      "2020-08-26 22:16:28.740815 45 4\n",
      "2020-08-26 22:16:32.981505 46 4\n",
      "2020-08-26 22:16:37.199038 47 4\n",
      "2020-08-26 22:16:41.629856 48 4\n",
      "2020-08-26 22:16:45.851787 49 4\n",
      "2020-08-26 22:16:49.997104 50 4\n",
      "2020-08-26 22:16:54.236314 51 4\n",
      "2020-08-26 22:16:58.504028 52 4\n",
      "2020-08-26 22:17:02.784198 53 4\n",
      "2020-08-26 22:17:07.066588 54 4\n",
      "2020-08-26 22:17:11.310644 55 4\n",
      "2020-08-26 22:17:15.570987 56 4\n",
      "2020-08-26 22:17:19.875464 57 4\n",
      "2020-08-26 22:17:24.140924 58 4\n",
      "2020-08-26 22:17:28.368090 59 4\n",
      "2020-08-26 22:17:32.614050 60 4\n",
      "2020-08-26 22:17:36.808323 61 4\n",
      "2020-08-26 22:17:41.093114 62 4\n",
      "2020-08-26 22:17:45.377588 63 4\n",
      "2020-08-26 22:17:49.727219\n",
      "Algebraic normal form of Boolean function: x0*x1*x2 + x0*x1 + x0*x3 + x1*x3*x4 + x1*x5 + x2*x4 + x3*x4\n",
      "Function is bent.\n",
      "\n",
      "\n",
      "SDP design incidence structure t-design parameters: (True, (2, 64, 28, 12))\n",
      "\n",
      "Classification of Cayley graphs and classification of Cayley graphs of duals are the same:\n",
      "\n",
      "There are 4 extended Cayley classes in the extended translation class.\n",
      "Function 4 :\n",
      "2020-08-26 22:17:49.768191 0 0\n",
      "2020-08-26 22:17:53.892535 1 3\n",
      "2020-08-26 22:17:58.043238 2 3\n",
      "2020-08-26 22:18:02.175658 3 3\n",
      "2020-08-26 22:18:06.326474 4 3\n",
      "2020-08-26 22:18:10.442528 5 3\n",
      "2020-08-26 22:18:14.810331 6 3\n",
      "2020-08-26 22:18:18.917510 7 3\n",
      "2020-08-26 22:18:23.039690 8 3\n",
      "2020-08-26 22:18:27.144184 9 3\n",
      "2020-08-26 22:18:31.310419 10 3\n",
      "2020-08-26 22:18:35.546972 11 3\n",
      "2020-08-26 22:18:39.696955 12 3\n",
      "2020-08-26 22:18:43.777049 13 3\n",
      "2020-08-26 22:18:48.033622 14 3\n",
      "2020-08-26 22:18:52.252638 15 3\n",
      "2020-08-26 22:18:56.388379 16 3\n",
      "2020-08-26 22:19:00.608915 17 3\n",
      "2020-08-26 22:19:04.794247 18 3\n",
      "2020-08-26 22:19:09.002080 19 3\n",
      "2020-08-26 22:19:13.235032 20 3\n",
      "2020-08-26 22:19:17.390355 21 3\n",
      "2020-08-26 22:19:21.623478 22 3\n",
      "2020-08-26 22:19:25.698163 23 3\n",
      "2020-08-26 22:19:29.882876 24 3\n",
      "2020-08-26 22:19:34.141670 25 3\n",
      "2020-08-26 22:19:38.328808 26 3\n",
      "2020-08-26 22:19:42.541017 27 3\n",
      "2020-08-26 22:19:46.717225 28 3\n",
      "2020-08-26 22:19:51.007383 29 3\n"
     ]
    },
    {
     "name": "stdout",
     "output_type": "stream",
     "text": [
      "2020-08-26 22:19:55.297960 30 3\n",
      "2020-08-26 22:19:59.491443 31 3\n",
      "2020-08-26 22:20:03.628143 32 3\n",
      "2020-08-26 22:20:07.800773 33 3\n",
      "2020-08-26 22:20:11.942292 34 3\n",
      "2020-08-26 22:20:16.086924 35 3\n",
      "2020-08-26 22:20:20.201743 36 3\n",
      "2020-08-26 22:20:24.368809 37 3\n",
      "2020-08-26 22:20:28.580382 38 3\n",
      "2020-08-26 22:20:32.711994 39 3\n",
      "2020-08-26 22:20:36.976017 40 3\n",
      "2020-08-26 22:20:41.129791 41 3\n",
      "2020-08-26 22:20:45.272088 42 3\n",
      "2020-08-26 22:20:49.535108 43 3\n",
      "2020-08-26 22:20:53.693505 44 3\n",
      "2020-08-26 22:20:57.954190 45 3\n",
      "2020-08-26 22:21:02.152058 46 3\n",
      "2020-08-26 22:21:06.297737 47 3\n",
      "2020-08-26 22:21:10.439836 48 3\n",
      "2020-08-26 22:21:14.715841 49 3\n",
      "2020-08-26 22:21:18.963697 50 3\n",
      "2020-08-26 22:21:23.094853 51 3\n",
      "2020-08-26 22:21:27.376816 52 3\n",
      "2020-08-26 22:21:31.484958 53 3\n",
      "2020-08-26 22:21:35.712164 54 3\n",
      "2020-08-26 22:21:39.883210 55 3\n",
      "2020-08-26 22:21:44.131153 56 3\n",
      "2020-08-26 22:21:48.351087 57 3\n",
      "2020-08-26 22:21:52.503573 58 3\n",
      "2020-08-26 22:21:56.681518 59 3\n",
      "2020-08-26 22:22:00.794687 60 3\n",
      "2020-08-26 22:22:05.035332 61 3\n",
      "2020-08-26 22:22:09.252651 62 3\n",
      "2020-08-26 22:22:13.394310 63 3\n",
      "2020-08-26 22:22:17.623395\n",
      "Algebraic normal form of Boolean function: x0*x1*x2 + x0*x3 + x1*x3*x4 + x1*x5 + x2*x3*x5 + x2*x3 + x2*x4 + x2*x5 + x3*x4 + x3*x5\n",
      "Function is bent.\n",
      "\n",
      "\n",
      "SDP design incidence structure t-design parameters: (True, (2, 64, 28, 12))\n",
      "\n",
      "Classification of Cayley graphs and classification of Cayley graphs of duals are the same:\n",
      "\n",
      "There are 3 extended Cayley classes in the extended translation class.\n"
     ]
    }
   ],
   "source": [
    "c = save_boolean_dimension_cayley_graph_classifications(6, dir=os.path.join(\"..\",\"sobj\"))"
   ]
  },
  {
   "cell_type": "markdown",
   "metadata": {},
   "source": [
    "Display the length of c, the list of classifications."
   ]
  },
  {
   "cell_type": "code",
   "execution_count": 6,
   "metadata": {},
   "outputs": [
    {
     "data": {
      "text/plain": [
       "5"
      ]
     },
     "execution_count": 6,
     "metadata": {},
     "output_type": "execute_result"
    }
   ],
   "source": [
    "len(c)"
   ]
  },
  {
   "cell_type": "markdown",
   "metadata": {},
   "source": [
    "Verify that `c[0]` is `None`."
   ]
  },
  {
   "cell_type": "code",
   "execution_count": 7,
   "metadata": {},
   "outputs": [
    {
     "name": "stdout",
     "output_type": "stream",
     "text": [
      "None\n"
     ]
    }
   ],
   "source": [
    "print(c[0])"
   ]
  },
  {
   "cell_type": "markdown",
   "metadata": {},
   "source": [
    "Print the algebraic normal form of the bent function corresponding to `c[1]`."
   ]
  },
  {
   "cell_type": "code",
   "execution_count": 8,
   "metadata": {},
   "outputs": [
    {
     "data": {
      "text/plain": [
       "x0*x1 + x2*x3 + x4*x5"
      ]
     },
     "execution_count": 8,
     "metadata": {},
     "output_type": "execute_result"
    }
   ],
   "source": [
    "c[1].algebraic_normal_form"
   ]
  },
  {
   "cell_type": "markdown",
   "metadata": {},
   "source": [
    "Produce a report on the classification `c[1]`."
   ]
  },
  {
   "cell_type": "code",
   "execution_count": 9,
   "metadata": {},
   "outputs": [
    {
     "name": "stdout",
     "output_type": "stream",
     "text": [
      "Algebraic normal form of Boolean function: x0*x1 + x2*x3 + x4*x5\n",
      "Function is bent.\n",
      "\n",
      "\n",
      "SDP design incidence structure t-design parameters: (True, (2, 64, 28, 12))\n",
      "\n",
      "Classification of Cayley graphs and classification of Cayley graphs of duals are the same:\n",
      "\n",
      "There are 2 extended Cayley classes in the extended translation class.\n",
      "\n",
      "For each extended Cayley class in the extended translation class:\n",
      "Clique polynomial, strongly regular parameters, rank, and order of a representative graph; and\n",
      "linear code and generator matrix for a representative bent function:\n",
      "\n",
      "EC class 0 :\n",
      "Algebraic normal form of representative: x0*x1 + x2*x3 + x4*x5\n",
      "Clique polynomial: 64*t^8 + 512*t^7 + 1792*t^6 + 3584*t^5 + 5376*t^4 + 3584*t^3 + 896*t^2 + 64*t + 1\n",
      "Strongly regular parameters: (64, 28, 12, 12)\n",
      "Rank: 8 Order: 2580480\n",
      "\n",
      "Linear code from representative:\n",
      "[28, 6] linear code over GF(2)\n",
      "Generator matrix:\n",
      "[1 0 0 0 0 1 0 1 1 1 1 0 0 1 1 1 1 0 0 0 1 1 1 0 1 1 0 1]\n",
      "[0 1 0 1 0 0 0 1 0 1 0 0 0 1 0 1 0 0 0 1 1 1 0 0 0 1 1 1]\n",
      "[0 0 1 1 0 0 0 0 1 1 0 0 0 0 1 1 0 0 0 1 1 0 1 1 1 0 0 1]\n",
      "[0 0 0 0 1 1 0 0 0 0 1 1 0 0 0 0 1 1 0 1 1 0 1 1 0 1 1 0]\n",
      "[0 0 0 0 0 0 1 1 1 1 1 1 0 0 0 0 0 0 1 1 1 1 1 1 1 1 1 1]\n",
      "[0 0 0 0 0 0 0 0 0 0 0 0 1 1 1 1 1 1 1 1 1 1 1 1 1 1 1 1]\n",
      "Linear code is projective.\n",
      "Weight distribution: {0: 1, 12: 28, 16: 35}\n",
      "\n",
      "EC class 1 :\n",
      "Algebraic normal form of representative: x0*x1 + x0 + x1 + x2*x3 + x4*x5\n",
      "Clique polynomial: 2304*t^6 + 13824*t^5 + 19200*t^4 + 7680*t^3 + 1152*t^2 + 64*t + 1\n",
      "Strongly regular parameters: (64, 36, 20, 20)\n",
      "Rank: 8 Order: 3317760\n",
      "\n",
      "Linear code from representative:\n",
      "[36, 6] linear code over GF(2)\n",
      "Generator matrix:\n",
      "[1 0 1 0 1 0 0 1 0 0 0 1 0 1 0 1 1 0 1 1 0 1 0 1 0 1 1 0 1 1 0 1 1 1 0 1]\n",
      "[0 1 1 0 1 1 0 1 1 0 0 1 1 0 1 1 0 1 1 0 0 1 1 0 1 1 0 1 1 0 0 0 0 0 1 1]\n",
      "[0 0 0 1 1 1 0 0 0 1 0 0 0 1 1 1 0 0 0 1 0 0 0 1 1 1 0 0 0 1 0 1 0 1 1 1]\n",
      "[0 0 0 0 0 0 1 1 1 1 0 0 0 0 0 0 1 1 1 1 0 0 0 0 0 0 1 1 1 1 0 0 1 1 1 1]\n",
      "[0 0 0 0 0 0 0 0 0 0 1 1 1 1 1 1 1 1 1 1 0 0 0 0 0 0 0 0 0 0 1 1 1 1 1 1]\n",
      "[0 0 0 0 0 0 0 0 0 0 0 0 0 0 0 0 0 0 0 0 1 1 1 1 1 1 1 1 1 1 1 1 1 1 1 1]\n",
      "Linear code is projective.\n",
      "Weight distribution: {0: 1, 16: 27, 20: 36}\n"
     ]
    }
   ],
   "source": [
    "c[1].report(report_on_graph_details=True)"
   ]
  },
  {
   "cell_type": "markdown",
   "metadata": {},
   "source": [
    "Produce a matrix plot of the `weight_class_matrix`."
   ]
  },
  {
   "cell_type": "code",
   "execution_count": 10,
   "metadata": {},
   "outputs": [
    {
     "data": {
      "image/png": "[encoded data removed]",
      "text/plain": [
       "Graphics object consisting of 1 graphics primitive"
      ]
     },
     "execution_count": 10,
     "metadata": {},
     "output_type": "execute_result"
    }
   ],
   "source": [
    "matrix_plot(c[1].weight_class_matrix,cmap='gist_stern')"
   ]
  },
  {
   "cell_type": "markdown",
   "metadata": {},
   "source": [
    "Produce a matrix plot of `bent_cayley_graph_index_matrix`, the matrix of indices of extended Cayley classes within the extended translation class."
   ]
  },
  {
   "cell_type": "code",
   "execution_count": 11,
   "metadata": {},
   "outputs": [
    {
     "data": {
      "image/png": "[encoded data removed]",
      "text/plain": [
       "Graphics object consisting of 1 graphics primitive"
      ]
     },
     "execution_count": 11,
     "metadata": {},
     "output_type": "execute_result"
    }
   ],
   "source": [
    "matrix_plot(c[1].bent_cayley_graph_index_matrix,cmap='gist_stern')"
   ]
  },
  {
   "cell_type": "markdown",
   "metadata": {},
   "source": [
    "Print the algebraic normal form of the bent function corresponding to `c[2]`."
   ]
  },
  {
   "cell_type": "code",
   "execution_count": 12,
   "metadata": {},
   "outputs": [
    {
     "data": {
      "text/plain": [
       "x0*x1*x2 + x0*x3 + x1*x4 + x2*x5"
      ]
     },
     "execution_count": 12,
     "metadata": {},
     "output_type": "execute_result"
    }
   ],
   "source": [
    "c[2].algebraic_normal_form"
   ]
  },
  {
   "cell_type": "markdown",
   "metadata": {},
   "source": [
    "Produce a report on the classification `c[2]`."
   ]
  },
  {
   "cell_type": "code",
   "execution_count": 13,
   "metadata": {},
   "outputs": [
    {
     "name": "stdout",
     "output_type": "stream",
     "text": [
      "Algebraic normal form of Boolean function: x0*x1*x2 + x0*x3 + x1*x4 + x2*x5\n",
      "Function is bent.\n",
      "\n",
      "\n",
      "SDP design incidence structure t-design parameters: (True, (2, 64, 28, 12))\n",
      "\n",
      "Classification of Cayley graphs and classification of Cayley graphs of duals are the same:\n",
      "\n",
      "There are 3 extended Cayley classes in the extended translation class.\n",
      "\n",
      "For each extended Cayley class in the extended translation class:\n",
      "Clique polynomial, strongly regular parameters, rank, and order of a representative graph; and\n",
      "linear code and generator matrix for a representative bent function:\n",
      "\n",
      "EC class 0 :\n",
      "Algebraic normal form of representative: x0*x1*x2 + x0*x3 + x1*x4 + x2*x5\n",
      "Clique polynomial: 64*t^8 + 512*t^7 + 1792*t^6 + 3584*t^5 + 5376*t^4 + 3584*t^3 + 896*t^2 + 64*t + 1\n",
      "Strongly regular parameters: (64, 28, 12, 12)\n",
      "Rank: 8 Order: 2580480\n",
      "\n",
      "Linear code from representative:\n",
      "[28, 6] linear code over GF(2)\n",
      "Generator matrix:\n",
      "[1 0 0 0 0 1 0 0 1 0 1 0 0 1 0 0 0 1 1 0 0 1 0 1 1 0 1 1]\n",
      "[0 1 0 0 0 0 1 0 1 1 0 0 0 0 1 0 1 1 0 0 1 1 1 1 0 1 0 0]\n",
      "[0 0 1 0 0 1 0 1 1 1 1 0 0 1 1 0 1 1 0 1 0 1 1 0 1 1 1 0]\n",
      "[0 0 0 1 0 1 1 0 1 1 0 1 0 1 0 1 1 1 1 0 1 0 0 1 1 1 0 1]\n",
      "[0 0 0 0 1 1 1 1 1 1 1 1 0 0 0 0 0 0 0 0 1 1 1 1 1 1 1 1]\n",
      "[0 0 0 0 0 0 0 0 0 0 0 0 1 1 1 1 1 1 1 1 1 1 1 1 1 1 1 1]\n",
      "Linear code is projective.\n",
      "Weight distribution: {0: 1, 12: 28, 16: 35}\n",
      "\n",
      "EC class 1 :\n",
      "Algebraic normal form of representative: x0*x1*x2 + x0*x3 + x1*x2 + x1*x4 + x2*x5 + x3\n",
      "Clique polynomial: 256*t^6 + 1536*t^5 + 4352*t^4 + 3584*t^3 + 896*t^2 + 64*t + 1\n",
      "Strongly regular parameters: (64, 28, 12, 12)\n",
      "Rank: 8 Order: 24576\n",
      "\n",
      "Linear code from representative:\n",
      "[28, 6] linear code over GF(2)\n",
      "Generator matrix:\n",
      "[1 0 0 1 0 0 1 0 0 1 1 1 0 0 0 1 1 0 0 0 1 1 0 0 0 1 1 0]\n",
      "[0 1 0 0 0 0 1 0 1 1 0 0 0 0 1 0 1 1 0 0 1 1 1 1 0 1 0 0]\n",
      "[0 0 1 1 0 0 1 1 0 0 1 1 0 0 1 1 0 0 1 1 1 1 1 1 0 0 1 1]\n",
      "[0 0 0 0 1 0 0 1 0 1 1 0 0 1 1 0 0 1 0 1 1 0 1 0 1 1 0 0]\n",
      "[0 0 0 0 0 1 1 0 1 0 0 1 0 1 1 0 0 1 0 1 0 1 0 1 0 0 1 1]\n",
      "[0 0 0 0 0 0 0 0 0 0 0 0 1 1 1 1 1 1 1 1 1 1 1 1 1 1 1 1]\n",
      "Linear code is projective.\n",
      "Weight distribution: {0: 1, 12: 28, 16: 35}\n",
      "\n",
      "EC class 2 :\n",
      "Algebraic normal form of representative: x0*x1*x2 + x0*x1 + x0*x2 + x0*x3 + x0 + x1*x2 + x1*x4 + x1 + x2*x5 + x2 + x3 + x4 + x5\n",
      "Clique polynomial: 192*t^8 + 1536*t^7 + 8960*t^6 + 19968*t^5 + 20224*t^4 + 7680*t^3 + 1152*t^2 + 64*t + 1\n",
      "Strongly regular parameters: (64, 36, 20, 20)\n",
      "Rank: 8 Order: 73728\n",
      "\n",
      "Linear code from representative:\n",
      "[36, 6] linear code over GF(2)\n",
      "Generator matrix:\n",
      "[1 0 1 0 1 0 1 0 1 1 1 1 0 0 1 0 1 1 0 1 0 0 1 0 1 0 1 1 1 0 1 0 1 0 0 1]\n",
      "[0 1 1 0 0 1 1 0 0 1 0 1 0 1 1 1 1 1 0 1 0 0 0 1 1 1 0 1 0 1 1 0 0 1 0 1]\n",
      "[0 0 0 1 1 1 1 0 0 0 1 1 0 0 0 1 1 0 1 1 0 1 1 1 1 0 1 1 0 1 1 0 0 0 1 1]\n",
      "[0 0 0 0 0 0 0 1 1 1 1 1 0 0 0 0 0 1 1 1 0 0 0 0 0 1 1 1 0 0 0 1 1 1 1 1]\n",
      "[0 0 0 0 0 0 0 0 0 0 0 0 1 1 1 1 1 1 1 1 0 0 0 0 0 0 0 0 1 1 1 1 1 1 1 1]\n",
      "[0 0 0 0 0 0 0 0 0 0 0 0 0 0 0 0 0 0 0 0 1 1 1 1 1 1 1 1 1 1 1 1 1 1 1 1]\n",
      "Linear code is projective.\n",
      "Weight distribution: {0: 1, 16: 27, 20: 36}\n"
     ]
    }
   ],
   "source": [
    "c[2].report(report_on_graph_details=True)"
   ]
  },
  {
   "cell_type": "markdown",
   "metadata": {},
   "source": [
    "Produce a matrix plot of the `weight_class_matrix`."
   ]
  },
  {
   "cell_type": "code",
   "execution_count": 14,
   "metadata": {},
   "outputs": [
    {
     "data": {
      "image/png": "[encoded data removed]",
      "text/plain": [
       "Graphics object consisting of 1 graphics primitive"
      ]
     },
     "execution_count": 14,
     "metadata": {},
     "output_type": "execute_result"
    }
   ],
   "source": [
    "matrix_plot(c[2].weight_class_matrix,cmap='gist_stern')"
   ]
  },
  {
   "cell_type": "markdown",
   "metadata": {},
   "source": [
    "Produce a matrix plot of `bent_cayley_graph_index_matrix`, the matrix of indices of extended Cayley classes within the extended translation class."
   ]
  },
  {
   "cell_type": "code",
   "execution_count": 15,
   "metadata": {},
   "outputs": [
    {
     "data": {
      "image/png": "[encoded data removed]",
      "text/plain": [
       "Graphics object consisting of 1 graphics primitive"
      ]
     },
     "execution_count": 15,
     "metadata": {},
     "output_type": "execute_result"
    }
   ],
   "source": [
    "matrix_plot(c[2].bent_cayley_graph_index_matrix,cmap='gist_stern')"
   ]
  },
  {
   "cell_type": "markdown",
   "metadata": {},
   "source": [
    "Print the algebraic normal form of the bent function corresponding to `c[3]`."
   ]
  },
  {
   "cell_type": "code",
   "execution_count": 16,
   "metadata": {},
   "outputs": [
    {
     "data": {
      "text/plain": [
       "x0*x1*x2 + x0*x1 + x0*x3 + x1*x3*x4 + x1*x5 + x2*x4 + x3*x4"
      ]
     },
     "execution_count": 16,
     "metadata": {},
     "output_type": "execute_result"
    }
   ],
   "source": [
    "c[3].algebraic_normal_form"
   ]
  },
  {
   "cell_type": "markdown",
   "metadata": {},
   "source": [
    "Produce a report on the classification `c[3]`."
   ]
  },
  {
   "cell_type": "code",
   "execution_count": 17,
   "metadata": {},
   "outputs": [
    {
     "name": "stdout",
     "output_type": "stream",
     "text": [
      "Algebraic normal form of Boolean function: x0*x1*x2 + x0*x1 + x0*x3 + x1*x3*x4 + x1*x5 + x2*x4 + x3*x4\n",
      "Function is bent.\n",
      "\n",
      "\n",
      "SDP design incidence structure t-design parameters: (True, (2, 64, 28, 12))\n",
      "\n",
      "Classification of Cayley graphs and classification of Cayley graphs of duals are the same:\n",
      "\n",
      "There are 4 extended Cayley classes in the extended translation class.\n",
      "\n",
      "For each extended Cayley class in the extended translation class:\n",
      "Clique polynomial, strongly regular parameters, rank, and order of a representative graph; and\n",
      "linear code and generator matrix for a representative bent function:\n",
      "\n",
      "EC class 0 :\n",
      "Algebraic normal form of representative: x0*x1*x2 + x0*x1 + x0*x3 + x1*x3*x4 + x1*x5 + x2*x4 + x3*x4\n",
      "Clique polynomial: 32*t^8 + 256*t^7 + 896*t^6 + 2048*t^5 + 4608*t^4 + 3584*t^3 + 896*t^2 + 64*t + 1\n",
      "Strongly regular parameters: (64, 28, 12, 12)\n",
      "Rank: 12 Order: 6144\n",
      "\n",
      "Linear code from representative:\n",
      "[28, 6] linear code over GF(2)\n",
      "Generator matrix:\n",
      "[1 0 0 0 0 1 0 1 0 0 1 0 0 0 1 0 1 0 0 1 1 1 0 0 0 1 1 1]\n",
      "[0 1 0 0 0 1 1 1 1 1 0 0 0 1 1 1 1 1 0 0 0 1 1 1 1 1 0 0]\n",
      "[0 0 1 0 0 1 0 0 1 1 1 1 0 1 0 1 1 0 0 0 0 0 1 0 1 0 0 1]\n",
      "[0 0 0 1 0 0 1 1 0 1 0 0 0 0 1 1 1 0 1 1 0 1 0 0 1 0 1 0]\n",
      "[0 0 0 0 1 1 1 1 1 1 1 1 0 0 0 0 0 0 0 0 1 1 1 1 1 1 1 1]\n",
      "[0 0 0 0 0 0 0 0 0 0 0 0 1 1 1 1 1 1 1 1 1 1 1 1 1 1 1 1]\n",
      "Linear code is projective.\n",
      "Weight distribution: {0: 1, 12: 28, 16: 35}\n",
      "\n",
      "EC class 1 :\n",
      "Algebraic normal form of representative: x0*x1*x2 + x0*x1 + x0*x3 + x0 + x1*x2 + x1*x3*x4 + x1*x4 + x1*x5 + x1 + x2*x4 + x3*x4 + x3 + x4\n",
      "Clique polynomial: 160*t^8 + 1280*t^7 + 9344*t^6 + 21504*t^5 + 20480*t^4 + 7680*t^3 + 1152*t^2 + 64*t + 1\n",
      "Strongly regular parameters: (64, 36, 20, 20)\n",
      "Rank: 12 Order: 10240\n",
      "\n",
      "Linear code from representative:\n",
      "[36, 6] linear code over GF(2)\n",
      "Generator matrix:\n",
      "[1 0 1 0 0 0 1 1 1 0 1 0 0 0 1 0 1 0 1 1 0 1 0 1 0 1 0 1 1 1 1 1 0 1 0 1]\n",
      "[0 1 1 0 1 0 0 1 0 0 1 1 0 1 1 0 1 0 0 1 0 0 1 0 0 1 0 0 0 0 1 0 0 1 1 1]\n",
      "[0 0 0 1 1 0 0 0 1 1 1 1 0 0 0 1 1 0 0 0 0 1 1 0 0 0 1 1 0 1 1 0 0 0 1 1]\n",
      "[0 0 0 0 0 1 1 1 1 1 1 1 0 0 0 0 0 1 1 1 0 0 0 1 1 1 1 1 0 0 0 1 1 1 1 1]\n",
      "[0 0 0 0 0 0 0 0 0 0 0 0 1 1 1 1 1 1 1 1 0 0 0 0 0 0 0 0 1 1 1 1 1 1 1 1]\n",
      "[0 0 0 0 0 0 0 0 0 0 0 0 0 0 0 0 0 0 0 0 1 1 1 1 1 1 1 1 1 1 1 1 1 1 1 1]\n",
      "Linear code is projective.\n",
      "Weight distribution: {0: 1, 16: 27, 20: 36}\n",
      "\n",
      "EC class 2 :\n",
      "Algebraic normal form of representative: x0*x1*x2 + x0*x1 + x0*x2 + x0*x3 + x0 + x1*x3*x4 + x1*x5 + x2*x4 + x5\n",
      "Clique polynomial: 64*t^6 + 1024*t^5 + 4096*t^4 + 3584*t^3 + 896*t^2 + 64*t + 1\n",
      "Strongly regular parameters: (64, 28, 12, 12)\n",
      "Rank: 12 Order: 7680\n",
      "\n",
      "Linear code from representative:\n",
      "[28, 6] linear code over GF(2)\n",
      "Generator matrix:\n",
      "[1 0 0 0 0 1 0 1 0 0 0 1 0 0 1 1 0 0 1 0 1 1 0 0 1 0 1 1]\n",
      "[0 1 0 0 0 1 1 1 1 1 0 0 0 1 1 1 1 1 0 0 0 1 1 1 1 1 0 0]\n",
      "[0 0 1 0 0 0 0 1 1 0 1 0 0 0 0 1 1 0 1 0 0 1 1 1 1 0 1 0]\n",
      "[0 0 0 1 0 1 1 0 0 0 0 1 0 1 1 1 1 0 0 1 0 0 0 1 1 0 0 1]\n",
      "[0 0 0 0 1 1 1 1 1 1 1 1 0 0 0 0 0 0 0 0 1 1 1 1 1 1 1 1]\n",
      "[0 0 0 0 0 0 0 0 0 0 0 0 1 1 1 1 1 1 1 1 1 1 1 1 1 1 1 1]\n",
      "Linear code is projective.\n",
      "Weight distribution: {0: 1, 12: 28, 16: 35}\n",
      "\n",
      "EC class 3 :\n",
      "Algebraic normal form of representative: x0*x1*x2 + x0*x1 + x0*x2 + x0*x3 + x0 + x1*x2 + x1*x3*x4 + x1*x5 + x1 + x2*x4 + x2 + x3 + x5\n",
      "Clique polynomial: 160*t^8 + 1664*t^7 + 9792*t^6 + 21504*t^5 + 20480*t^4 + 7680*t^3 + 1152*t^2 + 64*t + 1\n",
      "Strongly regular parameters: (64, 36, 20, 20)\n",
      "Rank: 12 Order: 7680\n",
      "\n",
      "Linear code from representative:\n",
      "[36, 6] linear code over GF(2)\n",
      "Generator matrix:\n",
      "[1 0 1 0 1 0 1 0 1 1 1 1 0 1 0 1 0 1 1 0 0 0 1 0 1 1 0 1 1 1 0 1 0 1 0 0]\n",
      "[0 1 1 0 0 1 1 0 0 1 0 1 0 1 1 0 0 1 0 1 0 1 1 1 1 1 0 1 0 1 1 0 0 1 0 1]\n",
      "[0 0 0 1 1 1 1 0 0 0 1 1 0 0 0 0 0 0 1 1 0 0 0 1 1 0 1 1 0 0 0 1 1 0 1 1]\n",
      "[0 0 0 0 0 0 0 1 1 1 1 1 0 0 0 1 1 1 1 1 0 0 0 0 0 1 1 1 0 0 0 0 0 1 1 1]\n",
      "[0 0 0 0 0 0 0 0 0 0 0 0 1 1 1 1 1 1 1 1 0 0 0 0 0 0 0 0 1 1 1 1 1 1 1 1]\n",
      "[0 0 0 0 0 0 0 0 0 0 0 0 0 0 0 0 0 0 0 0 1 1 1 1 1 1 1 1 1 1 1 1 1 1 1 1]\n",
      "Linear code is projective.\n",
      "Weight distribution: {0: 1, 16: 27, 20: 36}\n"
     ]
    }
   ],
   "source": [
    "c[3].report(report_on_graph_details=True)"
   ]
  },
  {
   "cell_type": "markdown",
   "metadata": {},
   "source": [
    "Produce a matrix plot of the `weight_class_matrix`."
   ]
  },
  {
   "cell_type": "code",
   "execution_count": 18,
   "metadata": {},
   "outputs": [
    {
     "data": {
      "image/png": "[encoded data removed]",
      "text/plain": [
       "Graphics object consisting of 1 graphics primitive"
      ]
     },
     "execution_count": 18,
     "metadata": {},
     "output_type": "execute_result"
    }
   ],
   "source": [
    "matrix_plot(c[3].weight_class_matrix,cmap='gist_stern')"
   ]
  },
  {
   "cell_type": "markdown",
   "metadata": {},
   "source": [
    "Produce a matrix plot of `bent_cayley_graph_index_matrix`, the matrix of indices of extended Cayley classes within the extended translation class."
   ]
  },
  {
   "cell_type": "code",
   "execution_count": 19,
   "metadata": {},
   "outputs": [
    {
     "data": {
      "image/png": "[encoded data removed]",
      "text/plain": [
       "Graphics object consisting of 1 graphics primitive"
      ]
     },
     "execution_count": 19,
     "metadata": {},
     "output_type": "execute_result"
    }
   ],
   "source": [
    "matrix_plot(c[3].bent_cayley_graph_index_matrix,cmap='gist_stern')"
   ]
  },
  {
   "cell_type": "markdown",
   "metadata": {},
   "source": [
    "Print the algebraic normal form of the bent function corresponding to `c[4]`."
   ]
  },
  {
   "cell_type": "code",
   "execution_count": 20,
   "metadata": {},
   "outputs": [
    {
     "data": {
      "text/plain": [
       "x0*x1*x2 + x0*x3 + x1*x3*x4 + x1*x5 + x2*x3*x5 + x2*x3 + x2*x4 + x2*x5 + x3*x4 + x3*x5"
      ]
     },
     "execution_count": 20,
     "metadata": {},
     "output_type": "execute_result"
    }
   ],
   "source": [
    "c[4].algebraic_normal_form"
   ]
  },
  {
   "cell_type": "markdown",
   "metadata": {},
   "source": [
    "Produce a report on the classification `c[4]`."
   ]
  },
  {
   "cell_type": "code",
   "execution_count": 21,
   "metadata": {},
   "outputs": [
    {
     "name": "stdout",
     "output_type": "stream",
     "text": [
      "Algebraic normal form of Boolean function: x0*x1*x2 + x0*x3 + x1*x3*x4 + x1*x5 + x2*x3*x5 + x2*x3 + x2*x4 + x2*x5 + x3*x4 + x3*x5\n",
      "Function is bent.\n",
      "\n",
      "\n",
      "SDP design incidence structure t-design parameters: (True, (2, 64, 28, 12))\n",
      "\n",
      "Classification of Cayley graphs and classification of Cayley graphs of duals are the same:\n",
      "\n",
      "There are 3 extended Cayley classes in the extended translation class.\n",
      "\n",
      "For each extended Cayley class in the extended translation class:\n",
      "Clique polynomial, strongly regular parameters, rank, and order of a representative graph; and\n",
      "linear code and generator matrix for a representative bent function:\n",
      "\n",
      "EC class 0 :\n",
      "Algebraic normal form of representative: x0*x1*x2 + x0*x3 + x1*x3*x4 + x1*x5 + x2*x3*x5 + x2*x3 + x2*x4 + x2*x5 + x3*x4 + x3*x5\n",
      "Clique polynomial: 32*t^8 + 256*t^7 + 896*t^6 + 1792*t^5 + 4480*t^4 + 3584*t^3 + 896*t^2 + 64*t + 1\n",
      "Strongly regular parameters: (64, 28, 12, 12)\n",
      "Rank: 14 Order: 5376\n",
      "\n",
      "Linear code from representative:\n",
      "[28, 6] linear code over GF(2)\n",
      "Generator matrix:\n",
      "[1 0 0 1 1 0 0 1 0 1 0 1 0 1 0 1 1 1 0 0 1 0 0 1 0 0 0 0]\n",
      "[0 1 0 0 1 0 0 1 1 0 0 0 0 1 1 0 1 1 1 0 0 1 0 1 0 0 1 0]\n",
      "[0 0 1 1 0 0 0 0 1 1 0 0 0 0 0 0 1 1 0 0 1 1 1 1 0 0 1 1]\n",
      "[0 0 0 0 0 1 0 1 0 0 1 1 0 1 1 0 0 1 0 1 0 1 1 0 0 1 1 0]\n",
      "[0 0 0 0 0 0 1 1 1 1 1 1 0 0 0 0 0 0 0 0 0 0 1 1 1 1 1 1]\n",
      "[0 0 0 0 0 0 0 0 0 0 0 0 1 1 1 1 1 1 1 1 1 1 1 1 1 1 1 1]\n",
      "Linear code is projective.\n",
      "Weight distribution: {0: 1, 12: 28, 16: 35}\n",
      "\n",
      "EC class 1 :\n",
      "Algebraic normal form of representative: x0*x1*x2 + x0*x2 + x0*x3 + x1*x3*x4 + x1*x5 + x2*x3*x5 + x2*x3 + x2*x4 + x2*x5 + x3*x5 + x5\n",
      "Clique polynomial: 16*t^8 + 128*t^7 + 448*t^6 + 1280*t^5 + 4224*t^4 + 3584*t^3 + 896*t^2 + 64*t + 1\n",
      "Strongly regular parameters: (64, 28, 12, 12)\n",
      "Rank: 14 Order: 1536\n",
      "\n",
      "Linear code from representative:\n",
      "[28, 6] linear code over GF(2)\n",
      "Generator matrix:\n",
      "[1 0 0 1 0 1 0 0 1 0 1 1 0 1 1 0 1 0 1 1 0 0 0 1 0 0 0 0]\n",
      "[0 1 0 1 0 0 0 1 0 0 0 1 0 1 0 0 1 1 1 1 0 1 1 0 0 0 1 0]\n",
      "[0 0 1 0 0 1 0 1 1 0 1 1 0 0 0 1 1 0 1 0 0 1 0 0 0 0 1 1]\n",
      "[0 0 0 0 1 0 0 0 1 1 0 1 0 1 0 1 0 0 1 0 1 1 1 0 0 1 1 0]\n",
      "[0 0 0 0 0 0 1 1 1 1 1 1 0 0 0 0 0 0 0 0 0 0 1 1 1 1 1 1]\n",
      "[0 0 0 0 0 0 0 0 0 0 0 0 1 1 1 1 1 1 1 1 1 1 1 1 1 1 1 1]\n",
      "Linear code is projective.\n",
      "Weight distribution: {0: 1, 12: 28, 16: 35}\n",
      "\n",
      "EC class 2 :\n",
      "Algebraic normal form of representative: x0*x1*x2 + x0*x1 + x0*x2 + x0*x3 + x0 + x1*x2 + x1*x3*x4 + x1*x5 + x1 + x2*x3*x5 + x2*x3 + x2*x4 + x2*x5 + x2 + x4\n",
      "Clique polynomial: 176*t^8 + 1408*t^7 + 9664*t^6 + 22272*t^5 + 20608*t^4 + 7680*t^3 + 1152*t^2 + 64*t + 1\n",
      "Strongly regular parameters: (64, 36, 20, 20)\n",
      "Rank: 14 Order: 1536\n",
      "\n",
      "Linear code from representative:\n",
      "[36, 6] linear code over GF(2)\n",
      "Generator matrix:\n",
      "[1 0 1 0 1 0 1 0 1 1 0 0 1 0 1 0 1 0 1 0 0 1 0 0 0 1 1 1 0 1 0 1 0 0 0 0]\n",
      "[0 1 1 0 0 1 1 0 1 0 0 0 0 1 1 1 1 0 1 0 0 1 1 0 1 0 0 1 1 1 1 1 1 0 1 0]\n",
      "[0 0 0 1 1 1 1 0 1 1 0 1 1 1 1 0 0 0 1 1 0 1 1 0 1 1 0 0 0 1 1 0 0 0 1 1]\n",
      "[0 0 0 0 0 0 0 1 1 1 0 0 0 0 0 1 1 1 1 1 0 0 0 1 1 1 0 0 0 0 0 1 1 1 1 1]\n",
      "[0 0 0 0 0 0 0 0 0 0 1 1 1 1 1 1 1 1 1 1 0 0 0 0 0 0 1 1 1 1 1 1 1 1 1 1]\n",
      "[0 0 0 0 0 0 0 0 0 0 0 0 0 0 0 0 0 0 0 0 1 1 1 1 1 1 1 1 1 1 1 1 1 1 1 1]\n",
      "Linear code is projective.\n",
      "Weight distribution: {0: 1, 16: 27, 20: 36}\n"
     ]
    }
   ],
   "source": [
    "c[4].report(report_on_graph_details=True)"
   ]
  },
  {
   "cell_type": "markdown",
   "metadata": {},
   "source": [
    "Produce a matrix plot of the `weight_class_matrix`."
   ]
  },
  {
   "cell_type": "code",
   "execution_count": 22,
   "metadata": {},
   "outputs": [
    {
     "data": {
      "image/png": "[encoded data removed]",
      "text/plain": [
       "Graphics object consisting of 1 graphics primitive"
      ]
     },
     "execution_count": 22,
     "metadata": {},
     "output_type": "execute_result"
    }
   ],
   "source": [
    "matrix_plot(c[4].weight_class_matrix,cmap='gist_stern')"
   ]
  },
  {
   "cell_type": "markdown",
   "metadata": {},
   "source": [
    "Produce a matrix plot of `bent_cayley_graph_index_matrix`, the matrix of indices of extended Cayley classes within the extended translation class."
   ]
  },
  {
   "cell_type": "code",
   "execution_count": 23,
   "metadata": {},
   "outputs": [
    {
     "data": {
      "image/png": "[encoded data removed]",
      "text/plain": [
       "Graphics object consisting of 1 graphics primitive"
      ]
     },
     "execution_count": 23,
     "metadata": {},
     "output_type": "execute_result"
    }
   ],
   "source": [
    "matrix_plot(c[4].bent_cayley_graph_index_matrix,cmap='gist_stern')"
   ]
  },
  {
   "cell_type": "code",
   "execution_count": null,
   "metadata": {},
   "outputs": [],
   "source": []
  },
  {
   "cell_type": "code",
   "execution_count": null,
   "metadata": {},
   "outputs": [],
   "source": []
  }
 ],
 "metadata": {
  "kernelspec": {
   "display_name": "SageMath 9.1",
   "language": "sage",
   "name": "sagemath"
  },
  "language_info": {
   "codemirror_mode": {
    "name": "ipython",
    "version": 3
   },
   "file_extension": ".py",
   "mimetype": "text/x-python",
   "name": "python",
   "nbconvert_exporter": "python",
   "pygments_lexer": "ipython3",
   "version": "3.7.3"
  }
 },
 "nbformat": 4,
 "nbformat_minor": 1
}
