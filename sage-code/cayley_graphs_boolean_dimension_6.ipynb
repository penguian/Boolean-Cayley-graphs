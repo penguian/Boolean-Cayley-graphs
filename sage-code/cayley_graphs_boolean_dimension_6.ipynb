{
 "cells": [
  {
   "cell_type": "markdown",
   "metadata": {},
   "source": [
    "# Cayley graphs of binary bent functions of dimension 6."
   ]
  },
  {
   "cell_type": "markdown",
   "metadata": {},
   "source": [
    "Import the required modules."
   ]
  },
  {
   "cell_type": "code",
   "execution_count": 1,
   "metadata": {},
   "outputs": [],
   "source": [
    "import os\n",
    "from boolean_cayley_graphs.bent_function import BentFunction\n",
    "from boolean_cayley_graphs.bent_function_cayley_graph_classification import BentFunctionCayleyGraphClassification"
   ]
  },
  {
   "cell_type": "markdown",
   "metadata": {},
   "source": [
    "Import controls."
   ]
  },
  {
   "cell_type": "code",
   "execution_count": 2,
   "metadata": {},
   "outputs": [],
   "source": [
    "import boolean_cayley_graphs.cayley_graph_controls as controls"
   ]
  },
  {
   "cell_type": "markdown",
   "metadata": {},
   "source": [
    "Turn on verbose output."
   ]
  },
  {
   "cell_type": "code",
   "execution_count": 3,
   "metadata": {},
   "outputs": [],
   "source": [
    "controls.timing = True\n",
    "controls.verbose = True"
   ]
  },
  {
   "cell_type": "markdown",
   "metadata": {},
   "source": [
    "Connect to the database that contains the classifications of bent functions in 6 dimensions."
   ]
  },
  {
   "cell_type": "code",
   "execution_count": 4,
   "metadata": {},
   "outputs": [],
   "source": [
    "load(\"boolean_dimension_cayley_graph_classifications.py\")"
   ]
  },
  {
   "cell_type": "markdown",
   "metadata": {},
   "source": [
    "Set `c` to be the list of classifications for dimension 6. `c[0]` is `None`."
   ]
  },
  {
   "cell_type": "code",
   "execution_count": 5,
   "metadata": {},
   "outputs": [
    {
     "name": "stdout",
     "output_type": "stream",
     "text": [
      "Function 1 :\n",
      "2021-07-24 16:53:41.869619 0 0\n",
      "2021-07-24 16:53:46.101928 1 2\n",
      "2021-07-24 16:53:49.762524 2 2\n",
      "2021-07-24 16:53:53.391845 3 2\n",
      "2021-07-24 16:53:57.063726 4 2\n",
      "2021-07-24 16:54:00.853362 5 2\n",
      "2021-07-24 16:54:04.477643 6 2\n",
      "2021-07-24 16:54:08.516522 7 2\n",
      "2021-07-24 16:54:12.314301 8 2\n",
      "2021-07-24 16:54:16.027504 9 2\n",
      "2021-07-24 16:54:19.755799 10 2\n",
      "2021-07-24 16:54:23.667528 11 2\n",
      "2021-07-24 16:54:27.836274 12 2\n",
      "2021-07-24 16:54:31.723343 13 2\n",
      "2021-07-24 16:54:35.429021 14 2\n",
      "2021-07-24 16:54:39.234827 15 2\n",
      "2021-07-24 16:54:43.007307 16 2\n",
      "2021-07-24 16:54:46.816931 17 2\n",
      "2021-07-24 16:54:50.564253 18 2\n",
      "2021-07-24 16:54:54.379742 19 2\n",
      "2021-07-24 16:54:58.150332 20 2\n",
      "2021-07-24 16:55:01.906895 21 2\n",
      "2021-07-24 16:55:05.663768 22 2\n",
      "2021-07-24 16:55:09.374854 23 2\n",
      "2021-07-24 16:55:13.122040 24 2\n",
      "2021-07-24 16:55:16.855352 25 2\n",
      "2021-07-24 16:55:20.535949 26 2\n",
      "2021-07-24 16:55:24.341949 27 2\n",
      "2021-07-24 16:55:28.097945 28 2\n",
      "2021-07-24 16:55:31.810183 29 2\n",
      "2021-07-24 16:55:35.498844 30 2\n",
      "2021-07-24 16:55:39.273141 31 2\n",
      "2021-07-24 16:55:43.018858 32 2\n",
      "2021-07-24 16:55:46.811997 33 2\n",
      "2021-07-24 16:55:50.575045 34 2\n",
      "2021-07-24 16:55:54.314018 35 2\n",
      "2021-07-24 16:55:58.066065 36 2\n",
      "2021-07-24 16:56:01.781356 37 2\n",
      "2021-07-24 16:56:05.536454 38 2\n",
      "2021-07-24 16:56:09.348873 39 2\n",
      "2021-07-24 16:56:13.104138 40 2\n",
      "2021-07-24 16:56:16.965575 41 2\n",
      "2021-07-24 16:56:20.788387 42 2\n",
      "2021-07-24 16:56:24.550724 43 2\n",
      "2021-07-24 16:56:28.331863 44 2\n",
      "2021-07-24 16:56:32.073027 45 2\n",
      "2021-07-24 16:56:35.816016 46 2\n",
      "2021-07-24 16:56:39.551542 47 2\n",
      "2021-07-24 16:56:43.249998 48 2\n",
      "2021-07-24 16:56:47.003129 49 2\n",
      "2021-07-24 16:56:50.675918 50 2\n",
      "2021-07-24 16:56:54.340966 51 2\n",
      "2021-07-24 16:56:57.998924 52 2\n",
      "2021-07-24 16:57:01.683804 53 2\n",
      "2021-07-24 16:57:05.361009 54 2\n",
      "2021-07-24 16:57:09.027730 55 2\n",
      "2021-07-24 16:57:12.680900 56 2\n",
      "2021-07-24 16:57:16.346933 57 2\n",
      "2021-07-24 16:57:19.999820 58 2\n",
      "2021-07-24 16:57:23.692875 59 2\n",
      "2021-07-24 16:57:27.376372 60 2\n",
      "2021-07-24 16:57:31.050897 61 2\n",
      "2021-07-24 16:57:34.708246 62 2\n",
      "2021-07-24 16:57:38.421902 63 2\n",
      "2021-07-24 16:57:42.068585\n",
      "Algebraic normal form of Boolean function: x0*x1 + x2*x3 + x4*x5\n",
      "Function is bent.\n",
      "\n",
      "\n",
      "SDP design incidence structure t-design parameters: (True, (2, 64, 28, 12))\n",
      "\n",
      "Classification of Cayley graphs and classification of Cayley graphs of duals are the same:\n",
      "\n",
      "There are 2 extended Cayley classes in the extended translation class.\n",
      "Function 2 :\n",
      "2021-07-24 16:57:42.104820 0 0\n",
      "2021-07-24 16:57:45.931907 1 3\n",
      "2021-07-24 16:57:49.794689 2 3\n",
      "2021-07-24 16:57:53.737233 3 3\n",
      "2021-07-24 16:57:57.574426 4 3\n",
      "2021-07-24 16:58:01.306110 5 3\n",
      "2021-07-24 16:58:05.076144 6 3\n",
      "2021-07-24 16:58:08.852743 7 3\n",
      "2021-07-24 16:58:12.596570 8 3\n",
      "2021-07-24 16:58:16.540045 9 3\n",
      "2021-07-24 16:58:20.324861 10 3\n",
      "2021-07-24 16:58:24.036174 11 3\n",
      "2021-07-24 16:58:27.747968 12 3\n",
      "2021-07-24 16:58:31.432197 13 3\n",
      "2021-07-24 16:58:35.130328 14 3\n",
      "2021-07-24 16:58:38.880318 15 3\n",
      "2021-07-24 16:58:42.657629 16 3\n",
      "2021-07-24 16:58:46.636707 17 3\n",
      "2021-07-24 16:58:50.319263 18 3\n",
      "2021-07-24 16:58:54.218557 19 3\n",
      "2021-07-24 16:58:57.922614 20 3\n",
      "2021-07-24 16:59:01.727921 21 3\n",
      "2021-07-24 16:59:05.576764 22 3\n",
      "2021-07-24 16:59:09.366979 23 3\n",
      "2021-07-24 16:59:13.352360 24 3\n",
      "2021-07-24 16:59:17.773470 25 3\n",
      "2021-07-24 16:59:22.105052 26 3\n",
      "2021-07-24 16:59:26.329615 27 3\n",
      "2021-07-24 16:59:30.137471 28 3\n",
      "2021-07-24 16:59:34.040999 29 3\n",
      "2021-07-24 16:59:37.885198 30 3\n",
      "2021-07-24 16:59:41.677552 31 3\n",
      "2021-07-24 16:59:45.455346 32 3\n",
      "2021-07-24 16:59:49.340264 33 3\n",
      "2021-07-24 16:59:53.035425 34 3\n",
      "2021-07-24 16:59:56.752803 35 3\n",
      "2021-07-24 17:00:00.730523 36 3\n",
      "2021-07-24 17:00:04.455383 37 3\n",
      "2021-07-24 17:00:08.156463 38 3\n",
      "2021-07-24 17:00:11.916799 39 3\n",
      "2021-07-24 17:00:15.653795 40 3\n",
      "2021-07-24 17:00:19.406838 41 3\n",
      "2021-07-24 17:00:23.188269 42 3\n",
      "2021-07-24 17:00:26.921160 43 3\n",
      "2021-07-24 17:00:30.639158 44 3\n",
      "2021-07-24 17:00:34.380657 45 3\n",
      "2021-07-24 17:00:38.131374 46 3\n",
      "2021-07-24 17:00:41.846715 47 3\n",
      "2021-07-24 17:00:45.591831 48 3\n",
      "2021-07-24 17:00:49.319288 49 3\n",
      "2021-07-24 17:00:53.095838 50 3\n",
      "2021-07-24 17:00:56.857605 51 3\n",
      "2021-07-24 17:01:00.584897 52 3\n",
      "2021-07-24 17:01:04.345080 53 3\n",
      "2021-07-24 17:01:08.122188 54 3\n",
      "2021-07-24 17:01:11.857572 55 3\n",
      "2021-07-24 17:01:15.579824 56 3\n",
      "2021-07-24 17:01:19.309164 57 3\n",
      "2021-07-24 17:01:23.125743 58 3\n",
      "2021-07-24 17:01:26.862207 59 3\n",
      "2021-07-24 17:01:30.629570 60 3\n",
      "2021-07-24 17:01:34.365631 61 3\n",
      "2021-07-24 17:01:38.080995 62 3\n",
      "2021-07-24 17:01:41.840192 63 3\n",
      "2021-07-24 17:01:45.796885\n",
      "Algebraic normal form of Boolean function: x0*x1*x2 + x0*x3 + x1*x4 + x2*x5\n",
      "Function is bent.\n",
      "\n",
      "\n",
      "SDP design incidence structure t-design parameters: (True, (2, 64, 28, 12))\n",
      "\n",
      "Classification of Cayley graphs and classification of Cayley graphs of duals are the same:\n",
      "\n",
      "There are 3 extended Cayley classes in the extended translation class.\n",
      "Function 3 :\n",
      "2021-07-24 17:01:45.834798 0 0\n",
      "2021-07-24 17:01:49.609271 1 4\n",
      "2021-07-24 17:01:53.345533 2 4\n",
      "2021-07-24 17:01:57.296055 3 4\n",
      "2021-07-24 17:02:01.193253 4 4\n",
      "2021-07-24 17:02:05.028910 5 4\n",
      "2021-07-24 17:02:09.004716 6 4\n",
      "2021-07-24 17:02:12.744262 7 4\n",
      "2021-07-24 17:02:16.468471 8 4\n",
      "2021-07-24 17:02:20.212552 9 4\n",
      "2021-07-24 17:02:23.898260 10 4\n",
      "2021-07-24 17:02:27.590430 11 4\n",
      "2021-07-24 17:02:31.270965 12 4\n",
      "2021-07-24 17:02:34.977380 13 4\n",
      "2021-07-24 17:02:38.692397 14 4\n",
      "2021-07-24 17:02:42.448196 15 4\n",
      "2021-07-24 17:02:46.266698 16 4\n",
      "2021-07-24 17:02:49.921800 17 4\n",
      "2021-07-24 17:02:53.581307 18 4\n",
      "2021-07-24 17:02:57.269026 19 4\n",
      "2021-07-24 17:03:01.325246 20 4\n",
      "2021-07-24 17:03:05.036027 21 4\n",
      "2021-07-24 17:03:08.805061 22 4\n",
      "2021-07-24 17:03:12.524234 23 4\n",
      "2021-07-24 17:03:16.293220 24 4\n",
      "2021-07-24 17:03:20.028159 25 4\n",
      "2021-07-24 17:03:23.730754 26 4\n",
      "2021-07-24 17:03:27.442023 27 4\n",
      "2021-07-24 17:03:31.171364 28 4\n",
      "2021-07-24 17:03:34.872729 29 4\n",
      "2021-07-24 17:03:38.599383 30 4\n",
      "2021-07-24 17:03:42.315932 31 4\n",
      "2021-07-24 17:03:46.051615 32 4\n",
      "2021-07-24 17:03:49.747294 33 4\n",
      "2021-07-24 17:03:53.458021 34 4\n",
      "2021-07-24 17:03:57.157969 35 4\n",
      "2021-07-24 17:04:00.870798 36 4\n",
      "2021-07-24 17:04:04.603354 37 4\n",
      "2021-07-24 17:04:08.340394 38 4\n",
      "2021-07-24 17:04:12.063558 39 4\n",
      "2021-07-24 17:04:15.785195 40 4\n",
      "2021-07-24 17:04:19.486585 41 4\n",
      "2021-07-24 17:04:23.200726 42 4\n",
      "2021-07-24 17:04:26.964201 43 4\n",
      "2021-07-24 17:04:30.659549 44 4\n",
      "2021-07-24 17:04:34.375756 45 4\n",
      "2021-07-24 17:04:38.085143 46 4\n",
      "2021-07-24 17:04:41.785056 47 4\n",
      "2021-07-24 17:04:45.471883 48 4\n",
      "2021-07-24 17:04:49.223816 49 4\n",
      "2021-07-24 17:04:52.899679 50 4\n",
      "2021-07-24 17:04:56.600221 51 4\n",
      "2021-07-24 17:05:00.310697 52 4\n",
      "2021-07-24 17:05:04.004817 53 4\n",
      "2021-07-24 17:05:07.712261 54 4\n",
      "2021-07-24 17:05:11.434781 55 4\n",
      "2021-07-24 17:05:15.125576 56 4\n",
      "2021-07-24 17:05:18.815250 57 4\n",
      "2021-07-24 17:05:22.542311 58 4\n",
      "2021-07-24 17:05:26.246544 59 4\n",
      "2021-07-24 17:05:29.963955 60 4\n",
      "2021-07-24 17:05:33.693528 61 4\n",
      "2021-07-24 17:05:37.430129 62 4\n",
      "2021-07-24 17:05:41.169410 63 4\n",
      "2021-07-24 17:05:44.923281\n",
      "Algebraic normal form of Boolean function: x0*x1*x2 + x0*x1 + x0*x3 + x1*x3*x4 + x1*x5 + x2*x4 + x3*x4\n",
      "Function is bent.\n",
      "\n",
      "\n",
      "SDP design incidence structure t-design parameters: (True, (2, 64, 28, 12))\n",
      "\n",
      "Classification of Cayley graphs and classification of Cayley graphs of duals are the same:\n",
      "\n",
      "There are 4 extended Cayley classes in the extended translation class.\n",
      "Function 4 :\n",
      "2021-07-24 17:05:44.954719 0 0\n",
      "2021-07-24 17:05:48.639692 1 3\n",
      "2021-07-24 17:05:52.317191 2 3\n",
      "2021-07-24 17:05:56.019962 3 3\n",
      "2021-07-24 17:05:59.716795 4 3\n",
      "2021-07-24 17:06:03.405251 5 3\n",
      "2021-07-24 17:06:07.097229 6 3\n",
      "2021-07-24 17:06:10.765832 7 3\n",
      "2021-07-24 17:06:14.391422 8 3\n",
      "2021-07-24 17:06:18.006587 9 3\n",
      "2021-07-24 17:06:21.653534 10 3\n",
      "2021-07-24 17:06:25.276601 11 3\n",
      "2021-07-24 17:06:28.882301 12 3\n",
      "2021-07-24 17:06:32.522293 13 3\n",
      "2021-07-24 17:06:36.148893 14 3\n",
      "2021-07-24 17:06:39.776488 15 3\n",
      "2021-07-24 17:06:43.431238 16 3\n",
      "2021-07-24 17:06:47.060394 17 3\n",
      "2021-07-24 17:06:50.731584 18 3\n",
      "2021-07-24 17:06:54.371768 19 3\n",
      "2021-07-24 17:06:58.019708 20 3\n",
      "2021-07-24 17:07:01.668248 21 3\n",
      "2021-07-24 17:07:05.315242 22 3\n",
      "2021-07-24 17:07:08.946661 23 3\n",
      "2021-07-24 17:07:12.599457 24 3\n",
      "2021-07-24 17:07:16.268643 25 3\n",
      "2021-07-24 17:07:19.971540 26 3\n",
      "2021-07-24 17:07:23.682893 27 3\n",
      "2021-07-24 17:07:27.378775 28 3\n",
      "2021-07-24 17:07:31.090355 29 3\n"
     ]
    },
    {
     "name": "stdout",
     "output_type": "stream",
     "text": [
      "2021-07-24 17:07:34.716778 30 3\n",
      "2021-07-24 17:07:38.373136 31 3\n",
      "2021-07-24 17:07:42.034426 32 3\n",
      "2021-07-24 17:07:45.656988 33 3\n",
      "2021-07-24 17:07:49.302652 34 3\n",
      "2021-07-24 17:07:52.938380 35 3\n",
      "2021-07-24 17:07:56.595072 36 3\n",
      "2021-07-24 17:08:00.284244 37 3\n",
      "2021-07-24 17:08:03.967442 38 3\n",
      "2021-07-24 17:08:07.656753 39 3\n",
      "2021-07-24 17:08:11.328211 40 3\n",
      "2021-07-24 17:08:15.025822 41 3\n",
      "2021-07-24 17:08:18.719558 42 3\n",
      "2021-07-24 17:08:22.413855 43 3\n",
      "2021-07-24 17:08:26.119824 44 3\n",
      "2021-07-24 17:08:29.804577 45 3\n",
      "2021-07-24 17:08:33.533441 46 3\n",
      "2021-07-24 17:08:37.210728 47 3\n",
      "2021-07-24 17:08:40.850309 48 3\n",
      "2021-07-24 17:08:44.458968 49 3\n",
      "2021-07-24 17:08:48.152985 50 3\n",
      "2021-07-24 17:08:51.797156 51 3\n",
      "2021-07-24 17:08:55.443122 52 3\n",
      "2021-07-24 17:08:59.128753 53 3\n",
      "2021-07-24 17:09:02.741428 54 3\n",
      "2021-07-24 17:09:06.403732 55 3\n",
      "2021-07-24 17:09:10.051600 56 3\n",
      "2021-07-24 17:09:13.678460 57 3\n",
      "2021-07-24 17:09:17.323071 58 3\n",
      "2021-07-24 17:09:20.958598 59 3\n",
      "2021-07-24 17:09:24.684924 60 3\n",
      "2021-07-24 17:09:28.422699 61 3\n",
      "2021-07-24 17:09:32.105311 62 3\n",
      "2021-07-24 17:09:35.769006 63 3\n",
      "2021-07-24 17:09:39.502826\n",
      "Algebraic normal form of Boolean function: x0*x1*x2 + x0*x3 + x1*x3*x4 + x1*x5 + x2*x3*x5 + x2*x3 + x2*x4 + x2*x5 + x3*x4 + x3*x5\n",
      "Function is bent.\n",
      "\n",
      "\n",
      "SDP design incidence structure t-design parameters: (True, (2, 64, 28, 12))\n",
      "\n",
      "Classification of Cayley graphs and classification of Cayley graphs of duals are the same:\n",
      "\n",
      "There are 3 extended Cayley classes in the extended translation class.\n"
     ]
    }
   ],
   "source": [
    "c = save_boolean_dimension_cayley_graph_classifications(6, dir=os.path.join(\"..\",\"sobj\"))"
   ]
  },
  {
   "cell_type": "markdown",
   "metadata": {},
   "source": [
    "Display the length of c, the list of classifications."
   ]
  },
  {
   "cell_type": "code",
   "execution_count": 6,
   "metadata": {},
   "outputs": [
    {
     "data": {
      "text/plain": [
       "5"
      ]
     },
     "execution_count": 6,
     "metadata": {},
     "output_type": "execute_result"
    }
   ],
   "source": [
    "len(c)"
   ]
  },
  {
   "cell_type": "markdown",
   "metadata": {},
   "source": [
    "Verify that `c[0]` is `None`."
   ]
  },
  {
   "cell_type": "code",
   "execution_count": 7,
   "metadata": {},
   "outputs": [
    {
     "name": "stdout",
     "output_type": "stream",
     "text": [
      "None\n"
     ]
    }
   ],
   "source": [
    "print(c[0])"
   ]
  },
  {
   "cell_type": "markdown",
   "metadata": {},
   "source": [
    "Print the algebraic normal form of the bent function corresponding to `c[1]`."
   ]
  },
  {
   "cell_type": "code",
   "execution_count": 8,
   "metadata": {},
   "outputs": [
    {
     "data": {
      "text/plain": [
       "x0*x1 + x2*x3 + x4*x5"
      ]
     },
     "execution_count": 8,
     "metadata": {},
     "output_type": "execute_result"
    }
   ],
   "source": [
    "c[1].algebraic_normal_form"
   ]
  },
  {
   "cell_type": "markdown",
   "metadata": {},
   "source": [
    "Produce a report on the classification `c[1]`."
   ]
  },
  {
   "cell_type": "code",
   "execution_count": 9,
   "metadata": {},
   "outputs": [
    {
     "name": "stdout",
     "output_type": "stream",
     "text": [
      "Algebraic normal form of Boolean function: x0*x1 + x2*x3 + x4*x5\n",
      "Function is bent.\n",
      "\n",
      "\n",
      "SDP design incidence structure t-design parameters: (True, (2, 64, 28, 12))\n",
      "\n",
      "Classification of Cayley graphs and classification of Cayley graphs of duals are the same:\n",
      "\n",
      "There are 2 extended Cayley classes in the extended translation class.\n",
      "\n",
      "For each extended Cayley class in the extended translation class:\n",
      "Clique polynomial, strongly regular parameters, rank, and order of a representative graph; and\n",
      "linear code and generator matrix for a representative bent function:\n",
      "\n",
      "EC class 0 :\n",
      "Algebraic normal form of representative: x0*x1 + x2*x3 + x4*x5\n",
      "Clique polynomial: 64*t^8 + 512*t^7 + 1792*t^6 + 3584*t^5 + 5376*t^4 + 3584*t^3 + 896*t^2 + 64*t + 1\n",
      "Strongly regular parameters: (64, 28, 12, 12)\n",
      "Rank: 8 Order: 2580480\n",
      "\n",
      "Linear code from representative:\n",
      "[28, 6] linear code over GF(2)\n",
      "Generator matrix:\n",
      "[1 0 0 0 0 1 0 1 1 1 1 0 0 1 1 1 1 0 0 0 1 1 1 0 1 1 0 1]\n",
      "[0 1 0 1 0 0 0 1 0 1 0 0 0 1 0 1 0 0 0 1 1 1 0 0 0 1 1 1]\n",
      "[0 0 1 1 0 0 0 0 1 1 0 0 0 0 1 1 0 0 0 1 1 0 1 1 1 0 0 1]\n",
      "[0 0 0 0 1 1 0 0 0 0 1 1 0 0 0 0 1 1 0 1 1 0 1 1 0 1 1 0]\n",
      "[0 0 0 0 0 0 1 1 1 1 1 1 0 0 0 0 0 0 1 1 1 1 1 1 1 1 1 1]\n",
      "[0 0 0 0 0 0 0 0 0 0 0 0 1 1 1 1 1 1 1 1 1 1 1 1 1 1 1 1]\n",
      "Linear code is projective.\n",
      "Weight distribution: {0: 1, 12: 28, 16: 35}\n",
      "\n",
      "EC class 1 :\n",
      "Algebraic normal form of representative: x0*x1 + x0 + x1 + x2*x3 + x4*x5\n",
      "Clique polynomial: 2304*t^6 + 13824*t^5 + 19200*t^4 + 7680*t^3 + 1152*t^2 + 64*t + 1\n",
      "Strongly regular parameters: (64, 36, 20, 20)\n",
      "Rank: 8 Order: 3317760\n",
      "\n",
      "Linear code from representative:\n",
      "[36, 6] linear code over GF(2)\n",
      "Generator matrix:\n",
      "[1 0 1 0 1 0 0 1 0 0 0 1 0 1 0 1 1 0 1 1 0 1 0 1 0 1 1 0 1 1 0 1 1 1 0 1]\n",
      "[0 1 1 0 1 1 0 1 1 0 0 1 1 0 1 1 0 1 1 0 0 1 1 0 1 1 0 1 1 0 0 0 0 0 1 1]\n",
      "[0 0 0 1 1 1 0 0 0 1 0 0 0 1 1 1 0 0 0 1 0 0 0 1 1 1 0 0 0 1 0 1 0 1 1 1]\n",
      "[0 0 0 0 0 0 1 1 1 1 0 0 0 0 0 0 1 1 1 1 0 0 0 0 0 0 1 1 1 1 0 0 1 1 1 1]\n",
      "[0 0 0 0 0 0 0 0 0 0 1 1 1 1 1 1 1 1 1 1 0 0 0 0 0 0 0 0 0 0 1 1 1 1 1 1]\n",
      "[0 0 0 0 0 0 0 0 0 0 0 0 0 0 0 0 0 0 0 0 1 1 1 1 1 1 1 1 1 1 1 1 1 1 1 1]\n",
      "Linear code is projective.\n",
      "Weight distribution: {0: 1, 16: 27, 20: 36}\n"
     ]
    }
   ],
   "source": [
    "c[1].report(report_on_graph_details=True)"
   ]
  },
  {
   "cell_type": "markdown",
   "metadata": {},
   "source": [
    "Produce a matrix plot of the `weight_class_matrix`."
   ]
  },
  {
   "cell_type": "code",
   "execution_count": 10,
   "metadata": {},
   "outputs": [
    {
     "data": {
      "image/png": "[encoded data removed]",
      "text/plain": [
       "Graphics object consisting of 1 graphics primitive"
      ]
     },
     "execution_count": 10,
     "metadata": {},
     "output_type": "execute_result"
    }
   ],
   "source": [
    "matrix_plot(c[1].weight_class_matrix,cmap='gist_stern')"
   ]
  },
  {
   "cell_type": "markdown",
   "metadata": {},
   "source": [
    "Produce a matrix plot of `bent_cayley_graph_index_matrix`, the matrix of indices of extended Cayley classes within the extended translation class."
   ]
  },
  {
   "cell_type": "code",
   "execution_count": 11,
   "metadata": {},
   "outputs": [
    {
     "data": {
      "image/png": "[encoded data removed]",
      "text/plain": [
       "Graphics object consisting of 1 graphics primitive"
      ]
     },
     "execution_count": 11,
     "metadata": {},
     "output_type": "execute_result"
    }
   ],
   "source": [
    "matrix_plot(c[1].bent_cayley_graph_index_matrix,cmap='gist_stern')"
   ]
  },
  {
   "cell_type": "markdown",
   "metadata": {},
   "source": [
    "Print the algebraic normal form of the bent function corresponding to `c[2]`."
   ]
  },
  {
   "cell_type": "code",
   "execution_count": 12,
   "metadata": {},
   "outputs": [
    {
     "data": {
      "text/plain": [
       "x0*x1*x2 + x0*x3 + x1*x4 + x2*x5"
      ]
     },
     "execution_count": 12,
     "metadata": {},
     "output_type": "execute_result"
    }
   ],
   "source": [
    "c[2].algebraic_normal_form"
   ]
  },
  {
   "cell_type": "markdown",
   "metadata": {},
   "source": [
    "Produce a report on the classification `c[2]`."
   ]
  },
  {
   "cell_type": "code",
   "execution_count": 13,
   "metadata": {},
   "outputs": [
    {
     "name": "stdout",
     "output_type": "stream",
     "text": [
      "Algebraic normal form of Boolean function: x0*x1*x2 + x0*x3 + x1*x4 + x2*x5\n",
      "Function is bent.\n",
      "\n",
      "\n",
      "SDP design incidence structure t-design parameters: (True, (2, 64, 28, 12))\n",
      "\n",
      "Classification of Cayley graphs and classification of Cayley graphs of duals are the same:\n",
      "\n",
      "There are 3 extended Cayley classes in the extended translation class.\n",
      "\n",
      "For each extended Cayley class in the extended translation class:\n",
      "Clique polynomial, strongly regular parameters, rank, and order of a representative graph; and\n",
      "linear code and generator matrix for a representative bent function:\n",
      "\n",
      "EC class 0 :\n",
      "Algebraic normal form of representative: x0*x1*x2 + x0*x3 + x1*x4 + x2*x5\n",
      "Clique polynomial: 64*t^8 + 512*t^7 + 1792*t^6 + 3584*t^5 + 5376*t^4 + 3584*t^3 + 896*t^2 + 64*t + 1\n",
      "Strongly regular parameters: (64, 28, 12, 12)\n",
      "Rank: 8 Order: 2580480\n",
      "\n",
      "Linear code from representative:\n",
      "[28, 6] linear code over GF(2)\n",
      "Generator matrix:\n",
      "[1 0 0 0 0 1 0 0 1 0 1 0 0 1 0 0 0 1 1 0 0 1 0 1 1 0 1 1]\n",
      "[0 1 0 0 0 0 1 0 1 1 0 0 0 0 1 0 1 1 0 0 1 1 1 1 0 1 0 0]\n",
      "[0 0 1 0 0 1 0 1 1 1 1 0 0 1 1 0 1 1 0 1 0 1 1 0 1 1 1 0]\n",
      "[0 0 0 1 0 1 1 0 1 1 0 1 0 1 0 1 1 1 1 0 1 0 0 1 1 1 0 1]\n",
      "[0 0 0 0 1 1 1 1 1 1 1 1 0 0 0 0 0 0 0 0 1 1 1 1 1 1 1 1]\n",
      "[0 0 0 0 0 0 0 0 0 0 0 0 1 1 1 1 1 1 1 1 1 1 1 1 1 1 1 1]\n",
      "Linear code is projective.\n",
      "Weight distribution: {0: 1, 12: 28, 16: 35}\n",
      "\n",
      "EC class 1 :\n",
      "Algebraic normal form of representative: x0*x1*x2 + x0*x3 + x1*x2 + x1*x4 + x2*x5 + x3\n",
      "Clique polynomial: 256*t^6 + 1536*t^5 + 4352*t^4 + 3584*t^3 + 896*t^2 + 64*t + 1\n",
      "Strongly regular parameters: (64, 28, 12, 12)\n",
      "Rank: 8 Order: 24576\n",
      "\n",
      "Linear code from representative:\n",
      "[28, 6] linear code over GF(2)\n",
      "Generator matrix:\n",
      "[1 0 0 1 0 0 1 0 0 1 1 1 0 0 0 1 1 0 0 0 1 1 0 0 0 1 1 0]\n",
      "[0 1 0 0 0 0 1 0 1 1 0 0 0 0 1 0 1 1 0 0 1 1 1 1 0 1 0 0]\n",
      "[0 0 1 1 0 0 1 1 0 0 1 1 0 0 1 1 0 0 1 1 1 1 1 1 0 0 1 1]\n",
      "[0 0 0 0 1 0 0 1 0 1 1 0 0 1 1 0 0 1 0 1 1 0 1 0 1 1 0 0]\n",
      "[0 0 0 0 0 1 1 0 1 0 0 1 0 1 1 0 0 1 0 1 0 1 0 1 0 0 1 1]\n",
      "[0 0 0 0 0 0 0 0 0 0 0 0 1 1 1 1 1 1 1 1 1 1 1 1 1 1 1 1]\n",
      "Linear code is projective.\n",
      "Weight distribution: {0: 1, 12: 28, 16: 35}\n",
      "\n",
      "EC class 2 :\n",
      "Algebraic normal form of representative: x0*x1*x2 + x0*x1 + x0*x2 + x0*x3 + x0 + x1*x2 + x1*x4 + x1 + x2*x5 + x2 + x3 + x4 + x5\n",
      "Clique polynomial: 192*t^8 + 1536*t^7 + 8960*t^6 + 19968*t^5 + 20224*t^4 + 7680*t^3 + 1152*t^2 + 64*t + 1\n",
      "Strongly regular parameters: (64, 36, 20, 20)\n",
      "Rank: 8 Order: 73728\n",
      "\n",
      "Linear code from representative:\n",
      "[36, 6] linear code over GF(2)\n",
      "Generator matrix:\n",
      "[1 0 1 0 1 0 1 0 1 1 1 1 0 0 1 0 1 1 0 1 0 0 1 0 1 0 1 1 1 0 1 0 1 0 0 1]\n",
      "[0 1 1 0 0 1 1 0 0 1 0 1 0 1 1 1 1 1 0 1 0 0 0 1 1 1 0 1 0 1 1 0 0 1 0 1]\n",
      "[0 0 0 1 1 1 1 0 0 0 1 1 0 0 0 1 1 0 1 1 0 1 1 1 1 0 1 1 0 1 1 0 0 0 1 1]\n",
      "[0 0 0 0 0 0 0 1 1 1 1 1 0 0 0 0 0 1 1 1 0 0 0 0 0 1 1 1 0 0 0 1 1 1 1 1]\n",
      "[0 0 0 0 0 0 0 0 0 0 0 0 1 1 1 1 1 1 1 1 0 0 0 0 0 0 0 0 1 1 1 1 1 1 1 1]\n",
      "[0 0 0 0 0 0 0 0 0 0 0 0 0 0 0 0 0 0 0 0 1 1 1 1 1 1 1 1 1 1 1 1 1 1 1 1]\n",
      "Linear code is projective.\n",
      "Weight distribution: {0: 1, 16: 27, 20: 36}\n"
     ]
    }
   ],
   "source": [
    "c[2].report(report_on_graph_details=True)"
   ]
  },
  {
   "cell_type": "markdown",
   "metadata": {},
   "source": [
    "Produce a matrix plot of the `weight_class_matrix`."
   ]
  },
  {
   "cell_type": "code",
   "execution_count": 14,
   "metadata": {},
   "outputs": [
    {
     "data": {
      "image/png": "[encoded data removed]",
      "text/plain": [
       "Graphics object consisting of 1 graphics primitive"
      ]
     },
     "execution_count": 14,
     "metadata": {},
     "output_type": "execute_result"
    }
   ],
   "source": [
    "matrix_plot(c[2].weight_class_matrix,cmap='gist_stern')"
   ]
  },
  {
   "cell_type": "markdown",
   "metadata": {},
   "source": [
    "Produce a matrix plot of `bent_cayley_graph_index_matrix`, the matrix of indices of extended Cayley classes within the extended translation class."
   ]
  },
  {
   "cell_type": "code",
   "execution_count": 15,
   "metadata": {},
   "outputs": [
    {
     "data": {
      "image/png": "[encoded data removed]",
      "text/plain": [
       "Graphics object consisting of 1 graphics primitive"
      ]
     },
     "execution_count": 15,
     "metadata": {},
     "output_type": "execute_result"
    }
   ],
   "source": [
    "matrix_plot(c[2].bent_cayley_graph_index_matrix,cmap='gist_stern')"
   ]
  },
  {
   "cell_type": "markdown",
   "metadata": {},
   "source": [
    "Print the algebraic normal form of the bent function corresponding to `c[3]`."
   ]
  },
  {
   "cell_type": "code",
   "execution_count": 16,
   "metadata": {},
   "outputs": [
    {
     "data": {
      "text/plain": [
       "x0*x1*x2 + x0*x1 + x0*x3 + x1*x3*x4 + x1*x5 + x2*x4 + x3*x4"
      ]
     },
     "execution_count": 16,
     "metadata": {},
     "output_type": "execute_result"
    }
   ],
   "source": [
    "c[3].algebraic_normal_form"
   ]
  },
  {
   "cell_type": "markdown",
   "metadata": {},
   "source": [
    "Produce a report on the classification `c[3]`."
   ]
  },
  {
   "cell_type": "code",
   "execution_count": 17,
   "metadata": {},
   "outputs": [
    {
     "name": "stdout",
     "output_type": "stream",
     "text": [
      "Algebraic normal form of Boolean function: x0*x1*x2 + x0*x1 + x0*x3 + x1*x3*x4 + x1*x5 + x2*x4 + x3*x4\n",
      "Function is bent.\n",
      "\n",
      "\n",
      "SDP design incidence structure t-design parameters: (True, (2, 64, 28, 12))\n",
      "\n",
      "Classification of Cayley graphs and classification of Cayley graphs of duals are the same:\n",
      "\n",
      "There are 4 extended Cayley classes in the extended translation class.\n",
      "\n",
      "For each extended Cayley class in the extended translation class:\n",
      "Clique polynomial, strongly regular parameters, rank, and order of a representative graph; and\n",
      "linear code and generator matrix for a representative bent function:\n",
      "\n",
      "EC class 0 :\n",
      "Algebraic normal form of representative: x0*x1*x2 + x0*x1 + x0*x3 + x1*x3*x4 + x1*x5 + x2*x4 + x3*x4\n",
      "Clique polynomial: 32*t^8 + 256*t^7 + 896*t^6 + 2048*t^5 + 4608*t^4 + 3584*t^3 + 896*t^2 + 64*t + 1\n",
      "Strongly regular parameters: (64, 28, 12, 12)\n",
      "Rank: 12 Order: 6144\n",
      "\n",
      "Linear code from representative:\n",
      "[28, 6] linear code over GF(2)\n",
      "Generator matrix:\n",
      "[1 0 0 0 0 1 0 1 0 0 1 0 0 0 1 0 1 0 0 1 1 1 0 0 0 1 1 1]\n",
      "[0 1 0 0 0 1 1 1 1 1 0 0 0 1 1 1 1 1 0 0 0 1 1 1 1 1 0 0]\n",
      "[0 0 1 0 0 1 0 0 1 1 1 1 0 1 0 1 1 0 0 0 0 0 1 0 1 0 0 1]\n",
      "[0 0 0 1 0 0 1 1 0 1 0 0 0 0 1 1 1 0 1 1 0 1 0 0 1 0 1 0]\n",
      "[0 0 0 0 1 1 1 1 1 1 1 1 0 0 0 0 0 0 0 0 1 1 1 1 1 1 1 1]\n",
      "[0 0 0 0 0 0 0 0 0 0 0 0 1 1 1 1 1 1 1 1 1 1 1 1 1 1 1 1]\n",
      "Linear code is projective.\n",
      "Weight distribution: {0: 1, 12: 28, 16: 35}\n",
      "\n",
      "EC class 1 :\n",
      "Algebraic normal form of representative: x0*x1*x2 + x0*x1 + x0*x3 + x0 + x1*x2 + x1*x3*x4 + x1*x4 + x1*x5 + x1 + x2*x4 + x3*x4 + x3 + x4\n",
      "Clique polynomial: 160*t^8 + 1280*t^7 + 9344*t^6 + 21504*t^5 + 20480*t^4 + 7680*t^3 + 1152*t^2 + 64*t + 1\n",
      "Strongly regular parameters: (64, 36, 20, 20)\n",
      "Rank: 12 Order: 10240\n",
      "\n",
      "Linear code from representative:\n",
      "[36, 6] linear code over GF(2)\n",
      "Generator matrix:\n",
      "[1 0 1 0 0 0 1 1 1 0 1 0 0 0 1 0 1 0 1 1 0 1 0 1 0 1 0 1 1 1 1 1 0 1 0 1]\n",
      "[0 1 1 0 1 0 0 1 0 0 1 1 0 1 1 0 1 0 0 1 0 0 1 0 0 1 0 0 0 0 1 0 0 1 1 1]\n",
      "[0 0 0 1 1 0 0 0 1 1 1 1 0 0 0 1 1 0 0 0 0 1 1 0 0 0 1 1 0 1 1 0 0 0 1 1]\n",
      "[0 0 0 0 0 1 1 1 1 1 1 1 0 0 0 0 0 1 1 1 0 0 0 1 1 1 1 1 0 0 0 1 1 1 1 1]\n",
      "[0 0 0 0 0 0 0 0 0 0 0 0 1 1 1 1 1 1 1 1 0 0 0 0 0 0 0 0 1 1 1 1 1 1 1 1]\n",
      "[0 0 0 0 0 0 0 0 0 0 0 0 0 0 0 0 0 0 0 0 1 1 1 1 1 1 1 1 1 1 1 1 1 1 1 1]\n",
      "Linear code is projective.\n",
      "Weight distribution: {0: 1, 16: 27, 20: 36}\n",
      "\n",
      "EC class 2 :\n",
      "Algebraic normal form of representative: x0*x1*x2 + x0*x1 + x0*x2 + x0*x3 + x0 + x1*x3*x4 + x1*x5 + x2*x4 + x5\n",
      "Clique polynomial: 64*t^6 + 1024*t^5 + 4096*t^4 + 3584*t^3 + 896*t^2 + 64*t + 1\n",
      "Strongly regular parameters: (64, 28, 12, 12)\n",
      "Rank: 12 Order: 7680\n",
      "\n",
      "Linear code from representative:\n",
      "[28, 6] linear code over GF(2)\n",
      "Generator matrix:\n",
      "[1 0 0 0 0 1 0 1 0 0 0 1 0 0 1 1 0 0 1 0 1 1 0 0 1 0 1 1]\n",
      "[0 1 0 0 0 1 1 1 1 1 0 0 0 1 1 1 1 1 0 0 0 1 1 1 1 1 0 0]\n",
      "[0 0 1 0 0 0 0 1 1 0 1 0 0 0 0 1 1 0 1 0 0 1 1 1 1 0 1 0]\n",
      "[0 0 0 1 0 1 1 0 0 0 0 1 0 1 1 1 1 0 0 1 0 0 0 1 1 0 0 1]\n",
      "[0 0 0 0 1 1 1 1 1 1 1 1 0 0 0 0 0 0 0 0 1 1 1 1 1 1 1 1]\n",
      "[0 0 0 0 0 0 0 0 0 0 0 0 1 1 1 1 1 1 1 1 1 1 1 1 1 1 1 1]\n",
      "Linear code is projective.\n",
      "Weight distribution: {0: 1, 12: 28, 16: 35}\n",
      "\n",
      "EC class 3 :\n",
      "Algebraic normal form of representative: x0*x1*x2 + x0*x1 + x0*x2 + x0*x3 + x0 + x1*x2 + x1*x3*x4 + x1*x5 + x1 + x2*x4 + x2 + x3 + x5\n",
      "Clique polynomial: 160*t^8 + 1664*t^7 + 9792*t^6 + 21504*t^5 + 20480*t^4 + 7680*t^3 + 1152*t^2 + 64*t + 1\n",
      "Strongly regular parameters: (64, 36, 20, 20)\n",
      "Rank: 12 Order: 7680\n",
      "\n",
      "Linear code from representative:\n",
      "[36, 6] linear code over GF(2)\n",
      "Generator matrix:\n",
      "[1 0 1 0 1 0 1 0 1 1 1 1 0 1 0 1 0 1 1 0 0 0 1 0 1 1 0 1 1 1 0 1 0 1 0 0]\n",
      "[0 1 1 0 0 1 1 0 0 1 0 1 0 1 1 0 0 1 0 1 0 1 1 1 1 1 0 1 0 1 1 0 0 1 0 1]\n",
      "[0 0 0 1 1 1 1 0 0 0 1 1 0 0 0 0 0 0 1 1 0 0 0 1 1 0 1 1 0 0 0 1 1 0 1 1]\n",
      "[0 0 0 0 0 0 0 1 1 1 1 1 0 0 0 1 1 1 1 1 0 0 0 0 0 1 1 1 0 0 0 0 0 1 1 1]\n",
      "[0 0 0 0 0 0 0 0 0 0 0 0 1 1 1 1 1 1 1 1 0 0 0 0 0 0 0 0 1 1 1 1 1 1 1 1]\n",
      "[0 0 0 0 0 0 0 0 0 0 0 0 0 0 0 0 0 0 0 0 1 1 1 1 1 1 1 1 1 1 1 1 1 1 1 1]\n",
      "Linear code is projective.\n",
      "Weight distribution: {0: 1, 16: 27, 20: 36}\n"
     ]
    }
   ],
   "source": [
    "c[3].report(report_on_graph_details=True)"
   ]
  },
  {
   "cell_type": "markdown",
   "metadata": {},
   "source": [
    "Produce a matrix plot of the `weight_class_matrix`."
   ]
  },
  {
   "cell_type": "code",
   "execution_count": 18,
   "metadata": {},
   "outputs": [
    {
     "data": {
      "image/png": "[encoded data removed]",
      "text/plain": [
       "Graphics object consisting of 1 graphics primitive"
      ]
     },
     "execution_count": 18,
     "metadata": {},
     "output_type": "execute_result"
    }
   ],
   "source": [
    "matrix_plot(c[3].weight_class_matrix,cmap='gist_stern')"
   ]
  },
  {
   "cell_type": "markdown",
   "metadata": {},
   "source": [
    "Produce a matrix plot of `bent_cayley_graph_index_matrix`, the matrix of indices of extended Cayley classes within the extended translation class."
   ]
  },
  {
   "cell_type": "code",
   "execution_count": 19,
   "metadata": {},
   "outputs": [
    {
     "data": {
      "image/png": "[encoded data removed]",
      "text/plain": [
       "Graphics object consisting of 1 graphics primitive"
      ]
     },
     "execution_count": 19,
     "metadata": {},
     "output_type": "execute_result"
    }
   ],
   "source": [
    "matrix_plot(c[3].bent_cayley_graph_index_matrix,cmap='gist_stern')"
   ]
  },
  {
   "cell_type": "markdown",
   "metadata": {},
   "source": [
    "Print the algebraic normal form of the bent function corresponding to `c[4]`."
   ]
  },
  {
   "cell_type": "code",
   "execution_count": 20,
   "metadata": {},
   "outputs": [
    {
     "data": {
      "text/plain": [
       "x0*x1*x2 + x0*x3 + x1*x3*x4 + x1*x5 + x2*x3*x5 + x2*x3 + x2*x4 + x2*x5 + x3*x4 + x3*x5"
      ]
     },
     "execution_count": 20,
     "metadata": {},
     "output_type": "execute_result"
    }
   ],
   "source": [
    "c[4].algebraic_normal_form"
   ]
  },
  {
   "cell_type": "markdown",
   "metadata": {},
   "source": [
    "Produce a report on the classification `c[4]`."
   ]
  },
  {
   "cell_type": "code",
   "execution_count": 21,
   "metadata": {},
   "outputs": [
    {
     "name": "stdout",
     "output_type": "stream",
     "text": [
      "Algebraic normal form of Boolean function: x0*x1*x2 + x0*x3 + x1*x3*x4 + x1*x5 + x2*x3*x5 + x2*x3 + x2*x4 + x2*x5 + x3*x4 + x3*x5\n",
      "Function is bent.\n",
      "\n",
      "\n",
      "SDP design incidence structure t-design parameters: (True, (2, 64, 28, 12))\n",
      "\n",
      "Classification of Cayley graphs and classification of Cayley graphs of duals are the same:\n",
      "\n",
      "There are 3 extended Cayley classes in the extended translation class.\n",
      "\n",
      "For each extended Cayley class in the extended translation class:\n",
      "Clique polynomial, strongly regular parameters, rank, and order of a representative graph; and\n",
      "linear code and generator matrix for a representative bent function:\n",
      "\n",
      "EC class 0 :\n",
      "Algebraic normal form of representative: x0*x1*x2 + x0*x3 + x1*x3*x4 + x1*x5 + x2*x3*x5 + x2*x3 + x2*x4 + x2*x5 + x3*x4 + x3*x5\n",
      "Clique polynomial: 32*t^8 + 256*t^7 + 896*t^6 + 1792*t^5 + 4480*t^4 + 3584*t^3 + 896*t^2 + 64*t + 1\n",
      "Strongly regular parameters: (64, 28, 12, 12)\n",
      "Rank: 14 Order: 5376\n",
      "\n",
      "Linear code from representative:\n",
      "[28, 6] linear code over GF(2)\n",
      "Generator matrix:\n",
      "[1 0 0 1 1 0 0 1 0 1 0 1 0 1 0 1 1 1 0 0 1 0 0 1 0 0 0 0]\n",
      "[0 1 0 0 1 0 0 1 1 0 0 0 0 1 1 0 1 1 1 0 0 1 0 1 0 0 1 0]\n",
      "[0 0 1 1 0 0 0 0 1 1 0 0 0 0 0 0 1 1 0 0 1 1 1 1 0 0 1 1]\n",
      "[0 0 0 0 0 1 0 1 0 0 1 1 0 1 1 0 0 1 0 1 0 1 1 0 0 1 1 0]\n",
      "[0 0 0 0 0 0 1 1 1 1 1 1 0 0 0 0 0 0 0 0 0 0 1 1 1 1 1 1]\n",
      "[0 0 0 0 0 0 0 0 0 0 0 0 1 1 1 1 1 1 1 1 1 1 1 1 1 1 1 1]\n",
      "Linear code is projective.\n",
      "Weight distribution: {0: 1, 12: 28, 16: 35}\n",
      "\n",
      "EC class 1 :\n",
      "Algebraic normal form of representative: x0*x1*x2 + x0*x2 + x0*x3 + x1*x3*x4 + x1*x5 + x2*x3*x5 + x2*x3 + x2*x4 + x2*x5 + x3*x5 + x5\n",
      "Clique polynomial: 16*t^8 + 128*t^7 + 448*t^6 + 1280*t^5 + 4224*t^4 + 3584*t^3 + 896*t^2 + 64*t + 1\n",
      "Strongly regular parameters: (64, 28, 12, 12)\n",
      "Rank: 14 Order: 1536\n",
      "\n",
      "Linear code from representative:\n",
      "[28, 6] linear code over GF(2)\n",
      "Generator matrix:\n",
      "[1 0 0 1 0 1 0 0 1 0 1 1 0 1 1 0 1 0 1 1 0 0 0 1 0 0 0 0]\n",
      "[0 1 0 1 0 0 0 1 0 0 0 1 0 1 0 0 1 1 1 1 0 1 1 0 0 0 1 0]\n",
      "[0 0 1 0 0 1 0 1 1 0 1 1 0 0 0 1 1 0 1 0 0 1 0 0 0 0 1 1]\n",
      "[0 0 0 0 1 0 0 0 1 1 0 1 0 1 0 1 0 0 1 0 1 1 1 0 0 1 1 0]\n",
      "[0 0 0 0 0 0 1 1 1 1 1 1 0 0 0 0 0 0 0 0 0 0 1 1 1 1 1 1]\n",
      "[0 0 0 0 0 0 0 0 0 0 0 0 1 1 1 1 1 1 1 1 1 1 1 1 1 1 1 1]\n",
      "Linear code is projective.\n",
      "Weight distribution: {0: 1, 12: 28, 16: 35}\n",
      "\n",
      "EC class 2 :\n",
      "Algebraic normal form of representative: x0*x1*x2 + x0*x1 + x0*x2 + x0*x3 + x0 + x1*x2 + x1*x3*x4 + x1*x5 + x1 + x2*x3*x5 + x2*x3 + x2*x4 + x2*x5 + x2 + x4\n",
      "Clique polynomial: 176*t^8 + 1408*t^7 + 9664*t^6 + 22272*t^5 + 20608*t^4 + 7680*t^3 + 1152*t^2 + 64*t + 1\n",
      "Strongly regular parameters: (64, 36, 20, 20)\n",
      "Rank: 14 Order: 1536\n",
      "\n",
      "Linear code from representative:\n",
      "[36, 6] linear code over GF(2)\n",
      "Generator matrix:\n",
      "[1 0 1 0 1 0 1 0 1 1 0 0 1 0 1 0 1 0 1 0 0 1 0 0 0 1 1 1 0 1 0 1 0 0 0 0]\n",
      "[0 1 1 0 0 1 1 0 1 0 0 0 0 1 1 1 1 0 1 0 0 1 1 0 1 0 0 1 1 1 1 1 1 0 1 0]\n",
      "[0 0 0 1 1 1 1 0 1 1 0 1 1 1 1 0 0 0 1 1 0 1 1 0 1 1 0 0 0 1 1 0 0 0 1 1]\n",
      "[0 0 0 0 0 0 0 1 1 1 0 0 0 0 0 1 1 1 1 1 0 0 0 1 1 1 0 0 0 0 0 1 1 1 1 1]\n",
      "[0 0 0 0 0 0 0 0 0 0 1 1 1 1 1 1 1 1 1 1 0 0 0 0 0 0 1 1 1 1 1 1 1 1 1 1]\n",
      "[0 0 0 0 0 0 0 0 0 0 0 0 0 0 0 0 0 0 0 0 1 1 1 1 1 1 1 1 1 1 1 1 1 1 1 1]\n",
      "Linear code is projective.\n",
      "Weight distribution: {0: 1, 16: 27, 20: 36}\n"
     ]
    }
   ],
   "source": [
    "c[4].report(report_on_graph_details=True)"
   ]
  },
  {
   "cell_type": "markdown",
   "metadata": {},
   "source": [
    "Produce a matrix plot of the `weight_class_matrix`."
   ]
  },
  {
   "cell_type": "code",
   "execution_count": 22,
   "metadata": {},
   "outputs": [
    {
     "data": {
      "image/png": "[encoded data removed]",
      "text/plain": [
       "Graphics object consisting of 1 graphics primitive"
      ]
     },
     "execution_count": 22,
     "metadata": {},
     "output_type": "execute_result"
    }
   ],
   "source": [
    "matrix_plot(c[4].weight_class_matrix,cmap='gist_stern')"
   ]
  },
  {
   "cell_type": "markdown",
   "metadata": {},
   "source": [
    "Produce a matrix plot of `bent_cayley_graph_index_matrix`, the matrix of indices of extended Cayley classes within the extended translation class."
   ]
  },
  {
   "cell_type": "code",
   "execution_count": 23,
   "metadata": {},
   "outputs": [
    {
     "data": {
      "image/png": "[encoded data removed]",
      "text/plain": [
       "Graphics object consisting of 1 graphics primitive"
      ]
     },
     "execution_count": 23,
     "metadata": {},
     "output_type": "execute_result"
    }
   ],
   "source": [
    "matrix_plot(c[4].bent_cayley_graph_index_matrix,cmap='gist_stern')"
   ]
  },
  {
   "cell_type": "code",
   "execution_count": null,
   "metadata": {},
   "outputs": [],
   "source": []
  }
 ],
 "metadata": {
  "kernelspec": {
   "display_name": "SageMath 9.2",
   "language": "sage",
   "name": "sagemath"
  },
  "language_info": {
   "codemirror_mode": {
    "name": "ipython",
    "version": 3
   },
   "file_extension": ".py",
   "mimetype": "text/x-python",
   "name": "python",
   "nbconvert_exporter": "python",
   "pygments_lexer": "ipython3",
   "version": "3.8.5"
  }
 },
 "nbformat": 4,
 "nbformat_minor": 1
}
